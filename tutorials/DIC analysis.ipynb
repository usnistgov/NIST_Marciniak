{
 "metadata": {
  "name": "",
  "signature": "sha256:2ffa24fd0c893af1637a1cd3d3dbdd45ada6e3dc66f218afa6d807b0f16e6905"
 },
 "nbformat": 3,
 "nbformat_minor": 0,
 "worksheets": [
  {
   "cells": [
    {
     "cell_type": "code",
     "collapsed": false,
     "input": [
      "import scipy; from scipy import interpolate\n",
      "from scipy.interpolate import Rbf\n",
      "import MKDIC\n",
      "from MKDIC import readers\n",
      "from MP.lib import mpl_lib\n",
      "\n",
      "# read data file\n",
      "dat=readers.read_disc(fn='../dat/IFsteel/2014OCT28_IFsteel/DiscNodeDat_2014OCT28.csv',ndat_col=6)\n",
      "x=dat[:,:,0]\n",
      "y=dat[:,:,1]\n",
      "exx=dat[:,:,2]\n",
      "eyy=dat[:,:,3]\n",
      "exy=dat[:,:,4]\n",
      "ezz=-exx-eyy\n",
      "nstp = ezz.shape[0]\n"
     ],
     "language": "python",
     "metadata": {},
     "outputs": [],
     "prompt_number": 9
    },
    {
     "cell_type": "code",
     "collapsed": false,
     "input": [
      "def read_stp(istp,x,y,exx,eyy,exy,ezz):\n",
      "    X=x[istp][::]; Y=y[istp][::]; \n",
      "    Exx=exx[istp][::]; Eyy=eyy[istp][::]; Exy=exy[istp][::]; Ezz=ezz[istp][::]\n",
      "\n",
      "    Xcoord, Ycoord, e33, e11, e12, e22 = [], [], [], [], [], []\n",
      "    for i in range(len(X)):\n",
      "        if not(np.isnan(X[i]) or np.isnan(Y[i]) or np.isnan(Ezz[i])):\n",
      "            Xcoord.append(X[i])\n",
      "            Ycoord.append(Y[i])\n",
      "            e33.append(Ezz[i])\n",
      "            e11.append(Exx[i])\n",
      "            e22.append(Eyy[i])\n",
      "            e12.append(Exy[i])\n",
      "    return Xcoord, Ycoord, e33, e11, e12, e22\n",
      "\n",
      "# dum=read_stp(istp=0,x=x,y=y,exx=exx,eyy=eyy,exy=exy,ezz=ezz)\n",
      "\n",
      "def Rbf_intp(x,y,z,l=-13,u=13,n=30):\n",
      "    import scipy; from scipy import interpolate\n",
      "    from scipy.interpolate import Rbf\n",
      "    tck = interpolate.bisplrep(x=x,y=y,z=z)\n",
      "    ti = np.linspace(l,u,n)\n",
      "    xi,yi = np.meshgrid(ti,ti)\n",
      "    \n",
      "    rbf = Rbf(x,y,z,epsilon=1)\n",
      "    zi = rbf(xi,yi)\n",
      "    return xi,yi,zi\n",
      "\n",
      "def avg(r=5,iplot=True,x=None,y=None,z=None,n=20,l=-13,u=13):\n",
      "    mn = min(z);mx = max(z)\n",
      "\n",
      "    if iplot:\n",
      "        ax = plt.gca()\n",
      "        norm = mpl.colors.Normalize(vmin=mn,vmax=mx)\n",
      "        cmap, m = mpl_lib.norm_cmap(mn=mn,mx=mx,cm_name='brg')\n",
      "        Rbf_plot(ax,x,y,z,1,lab=r'$\\bar{E}_{33}$',norm=norm,cmap=cmap,m=m)\n",
      "        \n",
      "        \n",
      "    xi, yi, zi = Rbf_intp(x,y,z,l=l,u=u,n=n)\n",
      "\n",
      "    dat=[]\n",
      "    for i in range(len(xi)):\n",
      "        for j in range(len(xi[i])):\n",
      "            X=xi[i,j]; Y=yi[i,j]\n",
      "            R=sqrt(X**2+Y**2)\n",
      "            Z=zi[i,j]\n",
      "            if iplot: c=m.to_rgba(Z)\n",
      "            if R<8 and iplot:\n",
      "                ax.plot(X,Y,'x',ms=5,mec=c,mfc='None')\n",
      "            if R<r:\n",
      "                dat.append(Z)\n",
      "\n",
      "    return np.array(dat).mean(), np.array(dat).std()"
     ],
     "language": "python",
     "metadata": {},
     "outputs": [],
     "prompt_number": 10
    },
    {
     "cell_type": "code",
     "collapsed": false,
     "input": [
      "# read data file\n",
      "fn = '../dat/IFsteel/2014OCT28_IFsteel/DiscNodeDat_2014OCT28.csv'\n",
      "dat=readers.read_disc(fn=fn, ndat_col=6)\n",
      "x=dat[:,:,0]\n",
      "y=dat[:,:,1]\n",
      "exx=dat[:,:,2]\n",
      "eyy=dat[:,:,3]\n",
      "exy=dat[:,:,4]\n",
      "ezz=-exx-eyy\n",
      "nstp = ezz.shape[0]\n",
      "\n",
      "fout = open('2014OCT28_DIC.txt','w')\n",
      "fout.write(('%5s %6s %6s %6s %6s\\n')%('index','Exx','Eyy','Exy','Ezz'))\n",
      "\n",
      "for i in range(nstp):\n",
      "    X,Y,e33,e11,e12,e22 = read_stp(istp=i,x=x,y=y,exx=exx,eyy=eyy,exy=exy,ezz=ezz)\n",
      "    Ezz,Ezz_std = avg(r=5,iplot=False,x=X,y=Y,z=e33,n=20)\n",
      "    Exx,Exx_std = avg(r=5,iplot=False,x=X,y=Y,z=e11,n=20)\n",
      "    Eyy,Eyy_std = avg(r=5,iplot=False,x=X,y=Y,z=e22,n=20)\n",
      "    Exy,Exy_std = avg(r=5,iplot=False,x=X,y=Y,z=e12,n=20)\n",
      "    fmt = '%5i %6.3f %6.3f %6.3f %6.3f'\n",
      "    fout.write(('%5i %6.3f %6.3f %6.3f %6.3f\\n')%(i,Exx,Eyy,Exy,Ezz))\n",
      "    #plot(Exx,Eyy,'rx')\n",
      "    errorbar(Exx,Eyy,yerr=Eyy_std,xerr=Exx_std,fmt='rx')\n",
      "    plt.gca().set_aspect('equal')\n",
      "    \n",
      "fout.close()\n"
     ],
     "language": "python",
     "metadata": {},
     "outputs": [
      {
       "metadata": {},
       "output_type": "display_data",
       "png": "[encoded data removed]",
       "text": [
        "<matplotlib.figure.Figure at 0x1084927d0>"
       ]
      }
     ],
     "prompt_number": 12
    },
    {
     "cell_type": "code",
     "collapsed": false,
     "input": [
      "# read data file\n",
      "fn = '../dat/IFsteel/2014OCT28_IFsteel/DiscNodeDat_2014OCT29.csv'\n",
      "dat=readers.read_disc(fn=fn,ndat_col=6)\n",
      "x=dat[:,:,0]\n",
      "y=dat[:,:,1]\n",
      "exx=dat[:,:,2]\n",
      "eyy=dat[:,:,3]\n",
      "exy=dat[:,:,4]\n",
      "ezz=-exx-eyy\n",
      "nstp = ezz.shape[0]\n",
      "\n",
      "fout = open('2014OCT29_DIC.txt','w')\n",
      "fout.write(('%5s %6s %6s %6s %6s\\n')%('index','Exx','Eyy','Exy','Ezz'))\n",
      "\n",
      "for i in range(nstp):\n",
      "    X,Y,e33,e11,e12,e22 = read_stp(istp=i,x=x,y=y,exx=exx,eyy=eyy,exy=exy,ezz=ezz)\n",
      "    Ezz,Ezz_std = avg(r=5,iplot=False,x=X,y=Y,z=e33,n=20)\n",
      "    Exx,Exx_std = avg(r=5,iplot=False,x=X,y=Y,z=e11,n=20)\n",
      "    Eyy,Eyy_std = avg(r=5,iplot=False,x=X,y=Y,z=e22,n=20)\n",
      "    Exy,Exy_std = avg(r=5,iplot=False,x=X,y=Y,z=e12,n=20)\n",
      "    fout.write(('%5i %6.3f %6.3f %6.3f %6.3f\\n')%(i,Exx,Eyy,Exy,Ezz))\n",
      "    #plot(Exx,Eyy,'rx')\n",
      "    errorbar(Exx,Eyy,yerr=Eyy_std,xerr=Exx_std,fmt='rx')\n",
      "    plt.gca().set_aspect('equal')\n",
      "fout.close()\n",
      "\n"
     ],
     "language": "python",
     "metadata": {},
     "outputs": [
      {
       "metadata": {},
       "output_type": "display_data",
       "png": "[encoded data removed]",
       "text": [
        "<matplotlib.figure.Figure at 0x106f02650>"
       ]
      }
     ],
     "prompt_number": 13
    },
    {
     "cell_type": "code",
     "collapsed": false,
     "input": [],
     "language": "python",
     "metadata": {},
     "outputs": []
    }
   ],
   "metadata": {}
  }
 ]
}