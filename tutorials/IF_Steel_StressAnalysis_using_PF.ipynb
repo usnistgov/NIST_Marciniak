{
 "cells": [
  {
   "cell_type": "code",
   "execution_count": 1,
   "metadata": {
    "collapsed": false
   },
   "outputs": [
    {
     "name": "stdout",
     "output_type": "stream",
     "text": [
      "Populating the interactive namespace from numpy and matplotlib\n"
     ]
    }
   ],
   "source": [
    "%pylab inline"
   ]
  },
  {
   "cell_type": "code",
   "execution_count": 2,
   "metadata": {
    "collapsed": true
   },
   "outputs": [],
   "source": [
    "import os\n",
    "from glob import glob\n",
    "import time\n",
    "from MP import progress_bar, lib\n",
    "from MP.lib import mpl_lib\n",
    "import matplotlib as mpl\n",
    "import cPickle as pickle\n",
    "from MP.mat import mech\n",
    "\n",
    "path_home=os.getcwd()\n",
    "\n",
    "os.chdir('/Users/yj/repo/vpsc/vpsc-dev-fld/ipynb')\n",
    "import lib_dat\n",
    "os.chdir(path_home)\n",
    "\n",
    "fc=mech.FlowCurve"
   ]
  },
  {
   "cell_type": "code",
   "execution_count": 15,
   "metadata": {
    "collapsed": true
   },
   "outputs": [],
   "source": [
    "path2pickles = '/Users/yj/repo/FLD_DIC_XRAY/tutorials/pickles/'"
   ]
  },
  {
   "cell_type": "code",
   "execution_count": 18,
   "metadata": {
    "collapsed": false
   },
   "outputs": [],
   "source": [
    "f=open(os.path.join(path2pickles,'bulge_exp'),'rb')\n",
    "bulge_exp_dat=pickle.load(f)\n",
    "f.close()\n",
    "#plot(bulge_exp_dat[0],bulge_exp_dat[1])"
   ]
  },
  {
   "cell_type": "markdown",
   "metadata": {},
   "source": [
    "- Raw Data by X-ray using PF program"
   ]
  },
  {
   "cell_type": "code",
   "execution_count": 20,
   "metadata": {
    "collapsed": true
   },
   "outputs": [],
   "source": [
    "dat=\"\"\"0\t22.24\t6.82\t39.14\t5.68\n",
    "0.0001\t37.55\t5.39\t51.47\t4.95\n",
    "0.0001\t54.49\t5.04\t16.67\t4.95\n",
    "0.0003\t173.64\t8.15\t98.65\t6.66\n",
    "0.0004\t173.69\t8.16\t98.7\t6.66\n",
    "0.0047\t236.69\t5.7\t250.85\t5.24\n",
    "0.0075\t206.86\t5.23\t185.09\t5.09\n",
    "0.0075\t254.54\t8.73\t231.15\t7.15\n",
    "0.0076\t254.64\t8.73\t231.25\t7.15\n",
    "0.0088\t231.98\t8.25\t255.58\t7.55\n",
    "0.009\t232.16\t8.26\t255.8\t7.55\n",
    "0.0129\t252.94\t8.51\t269.98\t7.72\n",
    "0.013\t253.05\t8.51\t270.1\t7.72\n",
    "0.0138\t238.41\t9.02\t243.57\t7.49\n",
    "0.0139\t238.47\t9.03\t243.62\t7.49\n",
    "0.0141\t233.57\t5.38\t197.48\t5.25\n",
    "0.017\t254.12\t6.07\t273.25\t5.55\n",
    "0.0204\t245.4\t9.22\t255.02\t7.78\n",
    "0.0206\t271.02\t5.71\t236.27\t5.56\n",
    "0.0206\t245.57\t9.23\t255.19\t7.79\n",
    "0.0211\t259.06\t6.2\t293.72\t5.71\n",
    "0.0252\t264.04\t6.29\t294.38\t5.81\n",
    "0.0269\t262.84\t9.43\t276.16\t8.03\n",
    "0.027\t262.96\t9.44\t276.28\t8.04\n",
    "0.0272\t288.52\t8.42\t244.28\t8.16\n",
    "0.0273\t288.68\t8.42\t244.65\t8.16\n",
    "0.0293\t280.61\t9.09\t300.08\t8.34\n",
    "0.0295\t280.86\t9.1\t300.36\t8.35\n",
    "0.0331\t290.57\t9.84\t292.14\t8.38\n",
    "0.0332\t290.7\t9.84\t292.28\t8.39\n",
    "0.0334\t282.29\t6.56\t320.4\t6.04\n",
    "0.0338\t320.33\t8.77\t258.21\t8.59\n",
    "0.0339\t320.58\t8.77\t258.64\t8.59\n",
    "0.0366\t259.64\t9.44\t315.83\t8.08\n",
    "0.0368\t259.9\t9.44\t316.12\t8.08\n",
    "0.0375\t285.83\t6.66\t321.42\t6.13\n",
    "0.0392\t319.09\t7.12\t301.59\t6.18\n",
    "0.0404\t324.48\t6.53\t281.46\t6.36\n",
    "0.0416\t303.13\t9.71\t321.92\t8.95\n",
    "0.0451\t331.57\t7.35\t306.4\t6.45\n",
    "0.046\t295.23\t6.95\t334.42\t6.39\n",
    "0.0469\t340.74\t9.63\t312.84\t9.46\n",
    "0.047\t341.02\t9.63\t313.07\t9.46\n",
    "0.05\t313.34\t7.1\t322.27\t6.55\n",
    "0.0508\t342.65\t7.43\t317.42\t6.67\n",
    "0.0532\t371.14\t10.01\t325.91\t9.95\n",
    "0.0533\t371.34\t10.01\t326.51\t9.95\n",
    "0.0541\t321.32\t7.28\t330.18\t6.69\n",
    "0.0564\t361.48\t7.73\t323.43\t6.94\n",
    "0.0579\t328.01\t7.48\t347.15\t6.93\n",
    "0.0594\t381.28\t10.58\t331.26\t10.39\n",
    "0.0596\t381.56\t10.6\t331.73\t10.41\n",
    "0.0618\t327.72\t10.95\t364.2\t10.17\n",
    "0.0618\t369.72\t7.92\t338.49\t7.19\n",
    "0.062\t328.05\t10.96\t364.57\t10.18\n",
    "0.0657\t394.46\t11.12\t351.85\t10.85\n",
    "0.0658\t394.41\t11.12\t351.98\t10.85\n",
    "0.0672\t386.85\t8.24\t341.47\t7.47\n",
    "0.0718\t393.55\t11.44\t364.85\t11.26\n",
    "0.072\t393.62\t11.45\t365.03\t11.27\n",
    "0.0723\t393.13\t11.94\t344.64\t11\n",
    "0.0725\t393.52\t11.95\t345.02\t11.01\n",
    "0.0774\t412.04\t12.39\t347.79\t11.39\n",
    "0.0775\t412.44\t12.4\t348.17\t11.4\n",
    "0.0779\t412.35\t12.12\t389.01\t11.8\n",
    "0.078\t412.61\t12.13\t389.2\t11.8\n",
    "0.0822\t421.9\t12.64\t365.34\t11.77\n",
    "0.0824\t422.33\t12.65\t365.76\t11.79\n",
    "0.0839\t419.41\t12.58\t370.84\t12.32\n",
    "0.084\t419.43\t12.59\t370.99\t12.32\n",
    "0.0871\t418.38\t13.07\t363.73\t12.17\n",
    "0.0899\t416.82\t13.29\t375.74\t12.97\n",
    "0.09\t417.16\t13.3\t376.01\t12.97\n",
    "0.0919\t389.15\t8.92\t408.49\t8.33\n",
    "0.0957\t393.02\t13.85\t375.18\t13.38\n",
    "0.0959\t392.99\t13.87\t374.97\t13.39\n",
    "0.1312\t488.47\t16.93\t497.07\t16.65\n",
    "0.1314\t489.3\t16.95\t497.92\t16.68\n",
    "0.1689\t532.85\t15.31\t550.25\t15.71\n",
    "0.1847\t567.87\t19.96\t572.39\t22.55\n",
    "0.1848\t567.78\t19.95\t572.47\t22.55\n",
    "0.1983\t452.31\t16.58\t424.49\t15.72\n",
    "0.1985\t452.1\t16.58\t424.3\t15.72\n",
    "0.2002\t526.14\t19.42\t487.43\t23.69\n",
    "0.2301\t466.62\t16.01\t514.81\t23.63\n",
    "0.2302\t466.41\t16\t514.81\t23.63\n",
    "0.2663\t429.44\t9.88\t449.46\t18.88\n",
    "0.2701\t442.97\t9.75\t494.42\t19.07\n",
    "0.2878\t417.48\t8.94\t478.21\t20.11\n",
    "0.2965\t413.27\t17.1\t416.16\t15.88\n",
    "0.2966\t413.19\t17.1\t416.11\t15.88\n",
    "0.2973\t417.18\t12.5\t493.99\t30.22\n",
    "0.2975\t420.61\t12.19\t479.37\t29.52\n",
    "0.3271\t415.9\t8.88\t457.29\t22.14\n",
    "0.3304\t381.29\t12.46\t397.55\t30.63\n",
    "0.3433\t406.09\t12.31\t478.4\t30.59\n",
    "0.3435\t406.09\t12.31\t478.4\t30.59\n",
    "0.3521\t406.51\t12.78\t439.38\t31.61\n",
    "0.3522\t406.51\t12.78\t439.38\t31.61\n",
    "0.3697\t398.94\t12.32\t443.5\t30.5\n",
    "0.3698\t398.94\t12.32\t443.5\t30.5\n",
    "0.3766\t410.74\t9.02\t456.5\t22.23\n",
    "0.3891\t401.9\t9.27\t430.21\t22.84\n",
    "0.4019\t405.42\t9.22\t439.92\t22.8\n",
    "0.4082\t408.84\t13.27\t450\t32.51\n",
    "0.4083\t408.84\t13.27\t450\t32.51\"\"\"\n",
    "d=dat.split('\\n')"
   ]
  },
  {
   "cell_type": "markdown",
   "metadata": {},
   "source": [
    "## Data analysis"
   ]
  },
  {
   "cell_type": "code",
   "execution_count": 21,
   "metadata": {
    "collapsed": false
   },
   "outputs": [],
   "source": [
    "epsilon=[]\n",
    "sigma=[]\n",
    "sigma_e=[]\n",
    "for i in xrange(len(d)):\n",
    "    l = d[i]\n",
    "    dd=l.split()\n",
    "    dd=map(float,dd)\n",
    "    exx,sx,sxe, sy,sye = dd\n",
    "    eyy=exx\n",
    "    \n",
    "    epsilon.append([exx,eyy,-exx-eyy,0,0,0])\n",
    "    sigma.append([sx,sy,0,0,0,0])\n",
    "    sigma_e.append([sxe,sye,0,0,0,0])\n",
    "    \n",
    "sigma=np.array(sigma).T\n",
    "sigma_e=np.array(sigma_e).T\n",
    "epsilon=np.array(epsilon).T\n",
    "\n",
    "se = np.sqrt(sigma_e[0]**2+sigma_e[1]**2)\n",
    "svm = (sigma[0]+sigma[1])/2.\n",
    "evm = epsilon[0]*2.\n",
    "\n",
    "## using fc class...\n",
    "myfc=fc()\n",
    "myfc.get_stress(sigma[0],0,0)\n",
    "myfc.get_stress(sigma[1],1,1)\n",
    "myfc.set_zero_sigma_ij(2,2)\n",
    "myfc.set_zero_shear_stress()\n",
    "myfc.get_strain(epsilon[0],0,0)\n",
    "myfc.get_strain(epsilon[1],1,1)\n",
    "myfc.get_strain(-epsilon[0]-epsilon[1],2,2)\n",
    "myfc.set_zero_shear_strain()\n",
    "\n",
    "myfc.integrate_work()\n",
    "myfc.get_vm_stress()\n",
    "myfc.get_vm_strain()\n",
    "\n",
    "evm = myfc.epsilon_vm\n",
    "svm = myfc.sigma_vm\n",
    "\n",
    "## Error propagate to SVM\n",
    "myfc.sigma_e = sigma_e\n",
    "myfc.svm_e = (myfc.sigma_e[0]+myfc.sigma_e[1])/2. "
   ]
  },
  {
   "cell_type": "code",
   "execution_count": 22,
   "metadata": {
    "collapsed": false
   },
   "outputs": [
    {
     "data": {
      "image/png": "[encoded data removed]",
      "text/plain": [
       "<matplotlib.figure.Figure at 0x1069a76d0>"
      ]
     },
     "metadata": {},
     "output_type": "display_data"
    }
   ],
   "source": [
    "fig=plt.figure(figsize=(2.5,2.2))\n",
    "ax=fig.add_subplot(111)\n",
    "ax.errorbar(myfc.epsilon_vm,myfc.sigma_vm,yerr=myfc.svm_e,color='r',marker='.',linestyle='None',label='Marciniak')\n",
    "ax.plot(bulge_exp_dat[0],bulge_exp_dat[1],color='k',label='Bulge')\n",
    "ax.legend(loc='best')\n",
    "ax.set_xlabel(r'$\\mathrm{\\bar{E}^{VM}}$',fontsize=12)\n",
    "ax.set_ylabel(r'$\\mathrm{\\bar{\\Sigma}^{VM}}$ [MPa]',fontsize=12)\n",
    "ax.set_xlim(0,0.9)\n",
    "\n",
    "lib_dat.tick_bin(ax)\n",
    "plt.tight_layout()\n",
    "fig.savefig('Bulge_Xray_TGHPF.pdf',bbox_inches='tight')"
   ]
  },
  {
   "cell_type": "code",
   "execution_count": 23,
   "metadata": {
    "collapsed": false
   },
   "outputs": [
    {
     "data": {
      "image/png": "[encoded data removed]",
      "text/plain": [
       "<matplotlib.figure.Figure at 0x106f6ba10>"
      ]
     },
     "metadata": {},
     "output_type": "display_data"
    }
   ],
   "source": [
    "fig=plt.figure(figsize=(5,2.2))\n",
    "ax=fig.add_subplot(121)\n",
    "ax.errorbar(evm,sigma[0],yerr=sigma_e[0],color='r',marker='.',linestyle='None',label='PF')\n",
    "ax.plot(bulge_exp_dat[0],bulge_exp_dat[1],color='k',label='Bulge')\n",
    "ax.legend(loc='best')\n",
    "ax.set_xlabel(r'$\\mathrm{\\bar{E}^{VM}}$')\n",
    "ax.set_ylabel(r'$\\mathrm{\\bar{\\Sigma}_{11}}$')\n",
    "ax.set_xlim(0.,0.2)\n",
    "ax.set_ylim(0,450)\n",
    "\n",
    "ax=fig.add_subplot(122)\n",
    "ax.errorbar(evm,sigma[1],yerr=sigma_e[1],color='b',marker='.',linestyle='None',label='PF')\n",
    "ax.plot(bulge_exp_dat[0],bulge_exp_dat[1],color='k',label='Bulge')\n",
    "ax.legend(loc='best')\n",
    "ax.set_xlabel(r'$\\mathrm{\\bar{E}^{VM}}$')\n",
    "ax.set_ylabel(r'$\\mathrm{\\bar{\\Sigma}_{22}}$')\n",
    "ax.set_xlim(0.,0.2)\n",
    "ax.set_ylim(0,450)\n",
    "\n",
    "plt.tight_layout()"
   ]
  },
  {
   "cell_type": "code",
   "execution_count": 24,
   "metadata": {
    "collapsed": false
   },
   "outputs": [
    {
     "data": {
      "image/png": "[encoded data removed]",
      "text/plain": [
       "<matplotlib.figure.Figure at 0x106b36a50>"
      ]
     },
     "metadata": {},
     "output_type": "display_data"
    }
   ],
   "source": [
    "fig=plt.figure(figsize=(2.5,2.2))\n",
    "ax=fig.add_subplot(111)\n",
    "ax.errorbar(sigma[0],sigma[1],yerr=sigma_e[1],xerr=sigma_e[0],color='r',marker='.',linestyle='None',label='PF')\n",
    "ax.plot(bulge_exp_dat[0],bulge_exp_dat[1],color='k',label='Bulge')\n",
    "ax.legend(loc='best')\n",
    "ax.set_xlabel(r'$\\mathrm{\\bar{E}^{VM}}$')\n",
    "ax.set_ylabel(r'$\\mathrm{\\bar{\\Sigma}_{11}}$')\n",
    "ax.set_xlim(0.,)\n",
    "ax.set_ylim(0.,)\n",
    "plt.tight_layout()"
   ]
  },
  {
   "cell_type": "code",
   "execution_count": 25,
   "metadata": {
    "collapsed": true
   },
   "outputs": [],
   "source": [
    "with open('FC_raw_PF_BB','w') as f:\n",
    "    pickle.dump( myfc, f)"
   ]
  },
  {
   "cell_type": "code",
   "execution_count": 26,
   "metadata": {
    "collapsed": false
   },
   "outputs": [
    {
     "data": {
      "text/plain": [
       "<Container object of 3 artists>"
      ]
     },
     "execution_count": 26,
     "metadata": {},
     "output_type": "execute_result"
    },
    {
     "data": {
      "image/png": "[encoded data removed]",
      "text/plain": [
       "<matplotlib.figure.Figure at 0x10689b290>"
      ]
     },
     "metadata": {},
     "output_type": "display_data"
    }
   ],
   "source": [
    "_fc_=pickle.load(open('FC_raw_PF_BB','rb'))\n",
    "#plot(_fc_.epsilon_vm,_fc_.sigma_vm)\n",
    "errorbar(_fc_.epsilon_vm,_fc_.sigma_vm,yerr=_fc_.svm_e,linestyle='None',color='r',marker='.')"
   ]
  },
  {
   "cell_type": "code",
   "execution_count": 27,
   "metadata": {
    "collapsed": false
   },
   "outputs": [
    {
     "data": {
      "text/plain": [
       "[<matplotlib.lines.Line2D at 0x1080f2310>]"
      ]
     },
     "execution_count": 27,
     "metadata": {},
     "output_type": "execute_result"
    },
    {
     "data": {
      "image/png": "[encoded data removed]",
      "text/plain": [
       "<matplotlib.figure.Figure at 0x1069a7550>"
      ]
     },
     "metadata": {},
     "output_type": "display_data"
    }
   ],
   "source": [
    "plot(_fc_.epsilon_vm, _fc_.svm_e/_fc_.sigma_vm*100.)"
   ]
  }
 ],
 "metadata": {
  "kernelspec": {
   "display_name": "Python 2",
   "language": "python",
   "name": "python2"
  },
  "language_info": {
   "codemirror_mode": {
    "name": "ipython",
    "version": 2
   },
   "file_extension": ".py",
   "mimetype": "text/x-python",
   "name": "python",
   "nbconvert_exporter": "python",
   "pygments_lexer": "ipython2",
   "version": "2.7.10"
  }
 },
 "nbformat": 4,
 "nbformat_minor": 0
}
