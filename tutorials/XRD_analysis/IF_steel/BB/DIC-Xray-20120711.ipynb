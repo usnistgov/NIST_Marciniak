{
 "cells": [
  {
   "cell_type": "markdown",
   "metadata": {},
   "source": [
    "# Combine DIC data with X-ray in order to calculate multiaxial flow curve"
   ]
  },
  {
   "cell_type": "markdown",
   "metadata": {},
   "source": [
    "- Use pylab inline"
   ]
  },
  {
   "cell_type": "code",
   "execution_count": 1,
   "metadata": {
    "collapsed": false
   },
   "outputs": [
    {
     "name": "stdout",
     "output_type": "stream",
     "text": [
      "Populating the interactive namespace from numpy and matplotlib\n"
     ]
    }
   ],
   "source": [
    "%pylab inline"
   ]
  },
  {
   "cell_type": "markdown",
   "metadata": {},
   "source": [
    "- Dependents"
   ]
  },
  {
   "cell_type": "code",
   "execution_count": 2,
   "metadata": {
    "collapsed": false
   },
   "outputs": [],
   "source": [
    "import os\n",
    "from glob import glob\n",
    "from RS import analyze_proto\n",
    "import matplotlib as mpl\n",
    "import time\n",
    "from MP import progress_bar, lib\n",
    "mpl_lib=lib.mpl_lib\n",
    "uet=progress_bar.update_elapsed_time\n",
    "GS=mpl.gridspec.GridSpec"
   ]
  },
  {
   "cell_type": "markdown",
   "metadata": {},
   "source": [
    "- Name of DIC files"
   ]
  },
  {
   "cell_type": "code",
   "execution_count": 3,
   "metadata": {
    "collapsed": false
   },
   "outputs": [
    {
     "name": "stdout",
     "output_type": "stream",
     "text": [
      "/Users/yj/Documents/ExpDat/IFSteel/Marciniak-X-ray-IF/BB/20120711/DIC/DIC_results.txt\n"
     ]
    }
   ],
   "source": [
    "date='20120711'\n",
    "path='/Users/yj/Documents/ExpDat/IFSteel/Marciniak-X-ray-IF/BB/'\n",
    "fn_DIC=os.path.join(path,date,'DIC/DIC_results.txt')\n",
    "print fn_DIC\n",
    "dic_dat=np.loadtxt(fn_DIC,skiprows=1).T"
   ]
  },
  {
   "cell_type": "markdown",
   "metadata": {},
   "source": [
    "# Read lab note book in order to match Xray file and DIC index"
   ]
  },
  {
   "cell_type": "code",
   "execution_count": 4,
   "metadata": {
    "collapsed": false,
    "scrolled": true
   },
   "outputs": [
    {
     "name": "stdout",
     "output_type": "stream",
     "text": [
      "total 800\n",
      "8 -rw-------  1 yj  admin  1446 Mar 30 15:44 11JUL12_0007Data.txt\n",
      "8 -rw-------  1 yj  admin  2982 Mar 30 15:44 11JUL12_0007Data1Phi-90.txt\n",
      "8 -rw-------  1 yj  admin  2979 Mar 30 15:44 11JUL12_0007Data2Phi0.txt\n",
      "8 -rw-------  1 yj  admin  2980 Mar 30 15:44 11JUL12_0007Data3Phi45.txt\n",
      "8 -rw-------  1 yj  admin  2982 Mar 30 15:44 11JUL12_0007Data4Phi135.txt\n",
      "8 -rw-------  1 yj  admin  1447 Mar 30 15:44 11JUL12_0008Data.txt\n",
      "8 -rw-------  1 yj  admin  2982 Mar 30 15:44 11JUL12_0008Data1Phi-90.txt\n",
      "8 -rw-------  1 yj  admin  2980 Mar 30 15:44 11JUL12_0008Data2Phi0.txt\n",
      "8 -rw-------  1 yj  admin  2981 Mar 30 15:44 11JUL12_0008Data3Phi45.txt\n",
      "8 -rw-------  1 yj  admin  2982 Mar 30 15:44 11JUL12_0008Data4Phi135.txt\n",
      "8 -rw-------  1 yj  admin  1447 Mar 30 15:44 11JUL12_0009Data.txt\n",
      "8 -rw-------  1 yj  admin  2982 Mar 30 15:44 11JUL12_0009Data1Phi-90.txt\n",
      "8 -rw-------  1 yj  admin  2980 Mar 30 15:44 11JUL12_0009Data2Phi0.txt\n",
      "8 -rw-------  1 yj  admin  2981 Mar 30 15:44 11JUL12_0009Data3Phi45.txt\n",
      "8 -rw-------  1 yj  admin  2982 Mar 30 15:44 11JUL12_0009Data4Phi135.txt\n",
      "8 -rw-------  1 yj  admin  1448 Mar 30 15:44 11JUL12_0010Data.txt\n",
      "8 -rw-------  1 yj  admin  2982 Mar 30 15:44 11JUL12_0010Data1Phi-90.txt\n",
      "8 -rw-------  1 yj  admin  2980 Mar 30 15:44 11JUL12_0010Data2Phi0.txt\n",
      "8 -rw-------  1 yj  admin  2981 Mar 30 15:44 11JUL12_0010Data3Phi45.txt\n",
      "8 -rw-------  1 yj  admin  2982 Mar 30 15:44 11JUL12_0010Data4Phi135.txt\n",
      "8 -rw-------  1 yj  admin  1447 Mar 30 15:44 11JUL12_0011Data.txt\n",
      "8 -rw-------  1 yj  admin  2982 Mar 30 15:44 11JUL12_0011Data1Phi-90.txt\n",
      "8 -rw-------  1 yj  admin  2980 Mar 30 15:44 11JUL12_0011Data2Phi0.txt\n",
      "8 -rw-------  1 yj  admin  2981 Mar 30 15:44 11JUL12_0011Data3Phi45.txt\n",
      "8 -rw-------  1 yj  admin  2982 Mar 30 15:44 11JUL12_0011Data4Phi135.txt\n",
      "8 -rw-------  1 yj  admin  1448 Mar 30 15:44 11JUL12_0012Data.txt\n",
      "8 -rw-------  1 yj  admin  2982 Mar 30 15:44 11JUL12_0012Data1Phi-90.txt\n",
      "8 -rw-------  1 yj  admin  2980 Mar 30 15:44 11JUL12_0012Data2Phi0.txt\n",
      "8 -rw-------  1 yj  admin  2981 Mar 30 15:45 11JUL12_0012Data3Phi45.txt\n",
      "8 -rw-------  1 yj  admin  2982 Mar 30 15:45 11JUL12_0012Data4Phi135.txt\n",
      "8 -rw-------  1 yj  admin  1448 Mar 30 15:45 11JUL12_0013Data.txt\n",
      "8 -rw-------  1 yj  admin  2982 Mar 30 15:45 11JUL12_0013Data1Phi-90.txt\n",
      "8 -rw-------  1 yj  admin  2980 Mar 30 15:45 11JUL12_0013Data2Phi0.txt\n",
      "8 -rw-------  1 yj  admin  2981 Mar 30 15:45 11JUL12_0013Data3Phi45.txt\n",
      "8 -rw-------  1 yj  admin  2982 Mar 30 15:45 11JUL12_0013Data4Phi135.txt\n",
      "8 -rw-------  1 yj  admin  1447 Mar 30 15:45 11JUL12_0014Data.txt\n",
      "8 -rw-------  1 yj  admin  2982 Mar 30 15:45 11JUL12_0014Data1Phi-90.txt\n",
      "8 -rw-------  1 yj  admin  2980 Mar 30 15:45 11JUL12_0014Data2Phi0.txt\n",
      "8 -rw-------  1 yj  admin  2981 Mar 30 15:45 11JUL12_0014Data3Phi45.txt\n",
      "8 -rw-------  1 yj  admin  2982 Mar 30 15:45 11JUL12_0014Data4Phi135.txt\n",
      "8 -rw-------  1 yj  admin  1445 Mar 30 15:45 11JUL12_0015Data.txt\n",
      "8 -rw-------  1 yj  admin  2982 Mar 30 15:45 11JUL12_0015Data1Phi-90.txt\n",
      "8 -rw-------  1 yj  admin  2980 Mar 30 15:45 11JUL12_0015Data2Phi0.txt\n",
      "8 -rw-------  1 yj  admin  2981 Mar 30 15:45 11JUL12_0015Data3Phi45.txt\n",
      "8 -rw-------  1 yj  admin  2982 Mar 30 15:45 11JUL12_0015Data4Phi135.txt\n",
      "8 -rw-------  1 yj  admin  1447 Mar 30 15:45 11JUL12_0016Data.txt\n",
      "8 -rw-------  1 yj  admin  2982 Mar 30 15:45 11JUL12_0016Data1Phi-90.txt\n",
      "8 -rw-------  1 yj  admin  2980 Mar 30 15:45 11JUL12_0016Data2Phi0.txt\n",
      "8 -rw-------  1 yj  admin  2981 Mar 30 15:45 11JUL12_0016Data3Phi45.txt\n",
      "8 -rw-------  1 yj  admin  2982 Mar 30 15:45 11JUL12_0016Data4Phi135.txt\n",
      "8 -rw-------  1 yj  admin  1446 Mar 30 15:45 11JUL12_0017Data.txt\n",
      "8 -rw-------  1 yj  admin  2982 Mar 30 15:45 11JUL12_0017Data1Phi-90.txt\n",
      "8 -rw-------  1 yj  admin  2980 Mar 30 15:45 11JUL12_0017Data2Phi0.txt\n",
      "8 -rw-------  1 yj  admin  2981 Mar 30 15:45 11JUL12_0017Data3Phi45.txt\n",
      "8 -rw-------  1 yj  admin  2982 Mar 30 15:45 11JUL12_0017Data4Phi135.txt\n",
      "8 -rw-------  1 yj  admin  1448 Mar 30 15:46 12JUL12_0001Data.txt\n",
      "8 -rw-------  1 yj  admin  2982 Mar 30 15:46 12JUL12_0001Data1Phi-90.txt\n",
      "8 -rw-------  1 yj  admin  2980 Mar 30 15:46 12JUL12_0001Data2Phi0.txt\n",
      "8 -rw-------  1 yj  admin  2981 Mar 30 15:46 12JUL12_0001Data3Phi45.txt\n",
      "8 -rw-------  1 yj  admin  2982 Mar 30 15:46 12JUL12_0001Data4Phi135.txt\n",
      "8 -rw-------  1 yj  admin  1447 Mar 30 15:46 12JUL12_0002Data.txt\n",
      "8 -rw-------  1 yj  admin  2982 Mar 30 15:46 12JUL12_0002Data1Phi-90.txt\n",
      "8 -rw-------  1 yj  admin  2980 Mar 30 15:46 12JUL12_0002Data2Phi0.txt\n",
      "8 -rw-------  1 yj  admin  2981 Mar 30 15:46 12JUL12_0002Data3Phi45.txt\n",
      "8 -rw-------  1 yj  admin  2982 Mar 30 15:46 12JUL12_0002Data4Phi135.txt\n",
      "8 -rw-------  1 yj  admin  1447 Mar 30 15:46 12JUL12_0003Data.txt\n",
      "8 -rw-------  1 yj  admin  2982 Mar 30 15:46 12JUL12_0003Data1Phi-90.txt\n",
      "8 -rw-------  1 yj  admin  2980 Mar 30 15:46 12JUL12_0003Data2Phi0.txt\n",
      "8 -rw-------  1 yj  admin  2981 Mar 30 15:46 12JUL12_0003Data3Phi45.txt\n",
      "8 -rw-------  1 yj  admin  2982 Mar 30 15:46 12JUL12_0003Data4Phi135.txt\n",
      "8 -rw-------  1 yj  admin  1448 Mar 30 15:46 12JUL12_0004Data.txt\n",
      "8 -rw-------  1 yj  admin  2982 Mar 30 15:46 12JUL12_0004Data1Phi-90.txt\n",
      "8 -rw-------  1 yj  admin  2980 Mar 30 15:46 12JUL12_0004Data2Phi0.txt\n",
      "8 -rw-------  1 yj  admin  2981 Mar 30 15:46 12JUL12_0004Data3Phi45.txt\n",
      "8 -rw-------  1 yj  admin  2982 Mar 30 15:43 12JUL12_0004Data4Phi135.txt\n",
      "8 -rw-------  1 yj  admin  1447 Mar 30 15:43 12JUL12_0005Data.txt\n",
      "8 -rw-------  1 yj  admin  2982 Mar 30 15:43 12JUL12_0005Data1Phi-90.txt\n",
      "8 -rw-------  1 yj  admin  2980 Mar 30 15:43 12JUL12_0005Data2Phi0.txt\n",
      "8 -rw-------  1 yj  admin  2981 Mar 30 15:43 12JUL12_0005Data3Phi45.txt\n",
      "8 -rw-------  1 yj  admin  2982 Mar 30 15:43 12JUL12_0005Data4Phi135.txt\n",
      "8 -rw-------  1 yj  admin  1446 Mar 30 15:43 12JUL12_0006Data.txt\n",
      "8 -rw-------  1 yj  admin  2982 Mar 30 15:43 12JUL12_0006Data1Phi-90.txt\n",
      "8 -rw-------  1 yj  admin  2980 Mar 30 15:43 12JUL12_0006Data2Phi0.txt\n",
      "8 -rw-------  1 yj  admin  2981 Mar 30 15:43 12JUL12_0006Data3Phi45.txt\n",
      "8 -rw-------  1 yj  admin  2982 Mar 30 15:43 12JUL12_0006Data4Phi135.txt\n",
      "8 -rw-------  1 yj  admin  1447 Mar 30 15:45 12JUL12_0007Data.txt\n",
      "8 -rw-------  1 yj  admin  2982 Mar 30 15:46 12JUL12_0007Data1Phi-90.txt\n",
      "8 -rw-------  1 yj  admin  2980 Mar 30 15:46 12JUL12_0007Data2Phi0.txt\n",
      "8 -rw-------  1 yj  admin  2981 Mar 30 15:46 12JUL12_0007Data3Phi45.txt\n",
      "8 -rw-------  1 yj  admin  2982 Mar 30 15:46 12JUL12_0007Data4Phi135.txt\n",
      "8 -rw-------  1 yj  admin  1447 Mar 30 15:43 12JUL12_0008Data.txt\n",
      "8 -rw-------  1 yj  admin  2982 Mar 30 15:43 12JUL12_0008Data1Phi-90.txt\n",
      "8 -rw-------  1 yj  admin  2980 Mar 30 15:43 12JUL12_0008Data2Phi0.txt\n",
      "8 -rw-------  1 yj  admin  2981 Mar 30 15:43 12JUL12_0008Data3Phi45.txt\n",
      "8 -rw-------  1 yj  admin  2982 Mar 30 15:43 12JUL12_0008Data4Phi135.txt\n",
      "8 -rw-------  1 yj  admin  1447 Mar 30 15:43 12JUL12_0009Data.txt\n",
      "8 -rw-------  1 yj  admin  2982 Mar 30 15:43 12JUL12_0009Data1Phi-90.txt\n",
      "8 -rw-------  1 yj  admin  2980 Mar 30 15:43 12JUL12_0009Data2Phi0.txt\n",
      "8 -rw-------  1 yj  admin  2981 Mar 30 15:43 12JUL12_0009Data3Phi45.txt\n",
      "8 -rw-------  1 yj  admin  2982 Mar 30 15:44 12JUL12_0009Data4Phi135.txt\n",
      "\n"
     ]
    }
   ],
   "source": [
    "print os.popen('ls -ls %s'%os.path.join(path,date,'Xray')).read()"
   ]
  },
  {
   "cell_type": "markdown",
   "metadata": {},
   "source": [
    "- Making a fref file for Proto data analysis"
   ]
  },
  {
   "cell_type": "code",
   "execution_count": 39,
   "metadata": {
    "collapsed": false
   },
   "outputs": [
    {
     "name": "stdout",
     "output_type": "stream",
     "text": [
      "-----------------------------------------------------------------------------------------------------\n",
      "/Users/yj/Documents/ExpDat/IFSteel/Marciniak-X-ray-IF/BB/20120711/f_fref.txt has been created:\n",
      " Use it for further stress analysis\n",
      "-----------------------------------------------------------------------------------------------------\n"
     ]
    }
   ],
   "source": [
    "# ------------------------------------------------------------------------\n",
    "# Find suitable experimental stress factor file\n",
    "#fn_sff='/Users/yj/GoogleDrive/expdat/Marciniak-X-ray-IF/YJ_BB_10times.sff'\n",
    "fn_sff='/Users/yj/Documents/ExpDat/IFSteel/Marciniak-X-ray-IF/YJ_BB_10times.sff'\n",
    "\n",
    "\n",
    "# ------------------------------------------------------------------------\n",
    "# Refer to Laboratory notebook to match up the X-ray data filename \n",
    "# and DIC image number\n",
    "DIC_XRD=\"\"\"#8  11JUL12_0007.tr\n",
    "#9   11JUL12_0007.tr\n",
    "#67  11JUL12_0008.tr\n",
    "#68  11JUL12_0008.tr\n",
    "#91  11JUL12_0009.tr\n",
    "#92  11JUL12_0009.tr\n",
    "#108 11JUL12_0010.tr\n",
    "#109 11JUL12_0010.tr\n",
    "#124 11JUL12_0011.tr\n",
    "#125 11JUL12_0011.tr\n",
    "#139 11JUL12_0012.tr\n",
    "#140 11JUL12_0012.tr\n",
    "#154 11JUL12_0013.tr\n",
    "#155 11JUL12_0013.tr\n",
    "#168 11JUL12_0014.tr\n",
    "#169 11JUL12_0014.tr\n",
    "#181 11JUL12_0015.tr\n",
    "#182 11JUL12_0015.tr\n",
    "#193 11JUL12_0016.tr\n",
    "#194 11JUL12_0016.tr\n",
    "#206 11JUL12_0017.tr\n",
    "#218 12JUL12_0001.tr\n",
    "#219 12JUL12_0001.tr\n",
    "#228 12JUL12_0002.tr\n",
    "#229 12JUL12_0002.tr\n",
    "#238 12JUL12_0003.tr\n",
    "#239 12JUL12_0003.tr\n",
    "#247 12JUL12_0004.tr\n",
    "#248 12JUL12_0004.tr\n",
    "#255 12JUL12_0005.tr\n",
    "#256 12JUL12_0005.tr\n",
    "#319 12JUL12_0006.tr\n",
    "#320 12JUL12_0006.tr\n",
    "#366 12JUL12_0007.tr\n",
    "#456 12JUL12_0008.tr\n",
    "#457 12JUL12_0008.tr\n",
    "#490 12JUL12_0009.tr\"\"\"\n",
    "\n",
    "\n",
    "# ------------------------------------------------------------------------\n",
    "\n",
    "fn_fref=fn_DIC.split('DIC')[0]+'f_fref.txt'\n",
    "f_fref=open(fn_fref,'w')\n",
    "\n",
    "f_fref.write(fn_sff)\n",
    "f_fref.write('  MajorStrainColumn: 2\\n')\n",
    "f_fref.write('%14s %12s %12s %12s %12s %5s\\n'%('filename','Exx','Eyy','Exy','Ezz','DIC'))\n",
    "lines=DIC_XRD.split('\\n')\n",
    "inds = []; fns = []\n",
    "for line in lines:\n",
    "    ind,fn=line.split()\n",
    "    ind=int(ind.split('#')[-1])\n",
    "    fn = fn.split('.tr')[0]\n",
    "    inds.append(ind); fns.append(fn)\n",
    "    \n",
    "    col = dic_dat[0]\n",
    "    ix=np.where(col==ind)[0]\n",
    "    i = int(col[ix][0]) ## dic index\n",
    "    # print ix,i\n",
    "\n",
    "    exx = dic_dat[5][ix]\n",
    "    eyy = dic_dat[7][ix]\n",
    "    exy = dic_dat[9][ix]\n",
    "    ezz = -exx-eyy    \n",
    "    f_fref.write(('%14s '+'%+11.5e '*4+'%5i \\n')%(fn, exx, eyy, exy, ezz,i))\n",
    "\n",
    "\n",
    "f_fref.close()\n",
    "print '-----------------------------------------------------------------------------------------------------'\n",
    "print fn_fref, 'has been created:\\n Use it for further stress analysis'\n",
    "print '-----------------------------------------------------------------------------------------------------'"
   ]
  },
  {
   "cell_type": "code",
   "execution_count": 40,
   "metadata": {
    "collapsed": false,
    "scrolled": true
   },
   "outputs": [
    {
     "name": "stdout",
     "output_type": "stream",
     "text": [
      "/Users/yj/Documents/ExpDat/IFSteel/Marciniak-X-ray-IF/YJ_BB_10times.sff  MajorStrainColumn: 2\n",
      "      filename          Exx          Eyy          Exy          Ezz   DIC\n",
      "  11JUL12_0007 +2.13396e-05 -2.79467e-05 -3.65943e-05 +6.60710e-06     8 \n",
      "  11JUL12_0007 +4.40269e-05 +2.79777e-05 -4.96338e-05 -7.20046e-05     9 \n",
      "  11JUL12_0008 +4.69176e-03 +4.50139e-03 -8.48621e-05 -9.19315e-03    67 \n",
      "  11JUL12_0008 +4.80074e-03 +4.43351e-03 -1.03113e-04 -9.23425e-03    68 \n",
      "  11JUL12_0009 +8.95513e-03 +8.59068e-03 -5.67590e-05 -1.75458e-02    91 \n",
      "  11JUL12_0009 +8.84563e-03 +8.48783e-03 -1.14123e-04 -1.73335e-02    92 \n",
      "  11JUL12_0010 +1.29757e-02 +1.25725e-02 -7.42180e-05 -2.55482e-02   108 \n",
      "  11JUL12_0010 +1.28546e-02 +1.24994e-02 -4.38124e-05 -2.53540e-02   109 \n",
      "  11JUL12_0011 +1.70344e-02 +1.66553e-02 +1.96150e-05 -3.36897e-02   124 \n",
      "  11JUL12_0011 +1.70365e-02 +1.66086e-02 -5.52357e-05 -3.36451e-02   125 \n",
      "  11JUL12_0012 +2.11130e-02 +2.06377e-02 -6.61871e-05 -4.17507e-02   139 \n",
      "  11JUL12_0012 +2.11205e-02 +2.06374e-02 -5.96637e-05 -4.17579e-02   140 \n",
      "  11JUL12_0013 +2.52312e-02 +2.47602e-02 +2.57959e-06 -4.99914e-02   154 \n",
      "  11JUL12_0013 +2.52144e-02 +2.48013e-02 -4.51254e-05 -5.00157e-02   155 \n",
      "  11JUL12_0014 +2.93109e-02 +2.89653e-02 -3.11904e-05 -5.82762e-02   168 \n",
      "  11JUL12_0014 +2.94920e-02 +2.89532e-02 -1.11309e-04 -5.84452e-02   169 \n",
      "  11JUL12_0015 +3.33790e-02 +3.31176e-02 +3.92602e-05 -6.64966e-02   181 \n",
      "  11JUL12_0015 +3.34632e-02 +3.30538e-02 +4.51618e-07 -6.65170e-02   182 \n",
      "  11JUL12_0016 +3.75504e-02 +3.71599e-02 -1.68127e-05 -7.47103e-02   193 \n",
      "  11JUL12_0016 +3.76278e-02 +3.71021e-02 +1.46188e-05 -7.47299e-02   194 \n",
      "  11JUL12_0017 +4.16566e-02 +4.11534e-02 -2.14026e-05 -8.28100e-02   206 \n",
      "  12JUL12_0001 +4.60376e-02 +4.55363e-02 -1.21243e-05 -9.15739e-02   218 \n",
      "  12JUL12_0001 +4.60851e-02 +4.55599e-02 -8.47684e-06 -9.16450e-02   219 \n",
      "  12JUL12_0002 +5.00172e-02 +4.96066e-02 +9.66923e-06 -9.96238e-02   228 \n",
      "  12JUL12_0002 +5.00555e-02 +4.96801e-02 -5.01069e-05 -9.97356e-02   229 \n",
      "  12JUL12_0003 +5.40698e-02 +5.35941e-02 -2.18849e-05 -1.07664e-01   238 \n",
      "  12JUL12_0003 +5.41021e-02 +5.35985e-02 -1.40134e-05 -1.07701e-01   239 \n",
      "  12JUL12_0004 +5.79889e-02 +5.75117e-02 -7.57310e-05 -1.15501e-01   247 \n",
      "  12JUL12_0004 +5.79592e-02 +5.75540e-02 -3.37668e-05 -1.15513e-01   248 \n",
      "  12JUL12_0005 +6.18671e-02 +6.14262e-02 -3.15226e-06 -1.23293e-01   255 \n",
      "  12JUL12_0005 +6.21095e-02 +6.15526e-02 -1.27351e-04 -1.23662e-01   256 \n",
      "  12JUL12_0006 +1.31518e-01 +1.30641e-01 -5.30311e-04 -2.62159e-01   319 \n",
      "  12JUL12_0006 +1.31668e-01 +1.30677e-01 -4.90319e-04 -2.62345e-01   320 \n",
      "  12JUL12_0007 +2.00836e-01 +1.99300e-01 -7.45727e-04 -4.00136e-01   366 \n",
      "  12JUL12_0008 +2.67543e-01 +2.64811e-01 -7.98114e-04 -5.32354e-01   456 \n",
      "  12JUL12_0008 +2.67417e-01 +2.64780e-01 -8.39630e-04 -5.32197e-01   457 \n",
      "  12JUL12_0009 +3.32627e-01 +3.29044e-01 -8.05946e-04 -6.61671e-01   490 \n",
      "\n"
     ]
    }
   ],
   "source": [
    "print os.popen('cat %s'%os.path.join(path,date,'f_fref.txt')).read()"
   ]
  },
  {
   "cell_type": "markdown",
   "metadata": {},
   "source": [
    "+ Running analyze_proto.main for the X-ray and DIC experiments to calculate\n",
    "  stress/strain"
   ]
  },
  {
   "cell_type": "code",
   "execution_count": 41,
   "metadata": {
    "collapsed": false
   },
   "outputs": [
    {
     "name": "stdout",
     "output_type": "stream",
     "text": [
      "---------------------------------------------\n",
      "Strain information where SF/IG were measured\n",
      "requires either fc or fn_str specified\n",
      "If not the strain column in fn_sf is used,\n",
      "subsequent analysis is performed by assuming\n",
      "that the sample is in equibiaxial strain\n",
      "---------------------------------------------\n",
      "\n",
      "Warning: overwrite the SF.flow / IG.flow\n",
      "\n",
      "#-----------------------------------------------------#\n",
      " Interpolate SF and IG for matching with D-spacings\n",
      "epsilon_vm:\n",
      "[  2.92124441e-05   7.25983565e-05   9.19380700e-03   9.23668370e-03\n",
      "   1.75470716e-02   1.73346909e-02   2.55492605e-02   2.53548294e-02\n",
      "   3.36904110e-02   3.36460070e-02   4.17516018e-02   4.17588315e-02\n",
      "   4.99921396e-02   5.00162687e-02   5.82765416e-02   5.84460279e-02\n",
      "   6.64967713e-02   6.65174200e-02   7.47106402e-02   7.47305164e-02\n",
      "   8.28105096e-02   9.15743574e-02   9.16455016e-02   9.96240820e-02\n",
      "   9.97358355e-02   1.07664250e-01   1.07700992e-01   1.15500929e-01\n",
      "   1.15513437e-01   1.23293563e-01   1.23662518e-01   2.62159489e-01\n",
      "   2.62345624e-01   4.00136983e-01   5.32356337e-01   5.32199178e-01\n",
      "   6.61674234e-01]\n",
      "Strain reference at which sf was measured:\n",
      "[ 0.    0.02  0.2   0.5   0.7 ]\n",
      "  ** Phi angles of SF are different **\n",
      "  ** Phi angles of IG are different **\n",
      "#-----------------------------------------------------#\n",
      "Warning: color map was not specified.\n",
      "Warning: color map was not specified.\n",
      "-----------------------------------\n",
      "Standard deviation in d_ehkl at istp=0\n",
      "\n",
      "phi:     -90        0       45      135  avg\n",
      "std: 6.5e-05  1.4e-04  9.7e-05  7.9e-05  9.6e-05 \n",
      "Elapsed time:  60 [sec]"
     ]
    }
   ],
   "source": [
    "## plastic strain of the points where the X-ray d-spacing\n",
    "## were meausured are important information that is utilized over the X ray analysis.\n",
    "## If, fc or fn_str are not given, the below application\n",
    "## bases on the strain given in the fref file -\n",
    "## the two major strain components are used with assumption\n",
    "## that the sample was in 'equi-biaxial' strain.\n",
    "t0=time.time()\n",
    "RS=analyze_proto.main(path=os.path.join(path,date,'Xray'),\n",
    "                   fn_sf=fn_sff,fref=os.path.join(path,date,'f_fref.txt'),\n",
    "                   ind_plot=True)\n",
    "uet(time.time()-t0)"
   ]
  },
  {
   "cell_type": "code",
   "execution_count": 42,
   "metadata": {
    "collapsed": false
   },
   "outputs": [
    {
     "data": {
      "image/png": "[encoded data removed]",
      "text/plain": [
       "<matplotlib.figure.Figure at 0x10772e1d0>"
      ]
     },
     "metadata": {},
     "output_type": "display_data"
    }
   ],
   "source": [
    "\"\"\" \n",
    "RS.EXP.flow.epsilon, RS.flow.sigma\n",
    "\"\"\"\n",
    "mn=0;mx=0.8\n",
    "norm = mpl.colors.Normalize(vmin=mn,vmax=mx)\n",
    "cmap, m = mpl_lib.norm_cmap(mn=mn,mx=mx)\n",
    "\n",
    "fx=9\n",
    "fy=fx*0.35\n",
    "fig=plt.figure(figsize=(fx,fy))\n",
    "gs=GS(20,3,wspace=0.5)\n",
    "ax1=fig.add_subplot(gs[5:,0])\n",
    "ax2=fig.add_subplot(gs[5:,1])\n",
    "ax3=fig.add_subplot(gs[5:,2])\n",
    "\n",
    "nstp = RS.EXP.flow.nstp\n",
    "\n",
    "\n",
    "for istp in xrange(nstp):\n",
    "    c=m.to_rgba(RS.EXP.flow.epsilon_vm[istp])\n",
    "    ax2.plot(RS.flow.sigma[0,0][istp],RS.flow.sigma[1,1][istp],\n",
    "             'o',mec='k',mfc=c)\n",
    "    ax1.plot(RS.EXP.flow.epsilon_vm[istp],RS.flow.sigma_vm[istp],'o',c=c)\n",
    "# ax2.plot(RS.flow.sigma[0,0],RS.flow.sigma[1,1],'k--')\n",
    "\n",
    "ax3.plot(RS.EXP.flow.epsilon[0,0],RS.flow.sigma[0,0],'x',label=r'$\\mathrm{\\bar{\\Sigma}_{11} - \\bar{E}_{11}}$')\n",
    "ax3.plot(RS.EXP.flow.epsilon[1,1],RS.flow.sigma[1,1],'+',label=r'$\\mathrm{\\bar{\\Sigma}_{22} - \\bar{E}_{22}}$')\n",
    "\n",
    "\n",
    "for ax in fig.axes:\n",
    "    ax.set_ylim(0.,);ax.set_xlim(0.,)\n",
    "    ax.locator_params(nbins=4)\n",
    "    ax.grid()\n",
    "\n",
    "ax2.set_xlabel(r'$\\mathrm{\\bar{\\Sigma}_{11}}$')\n",
    "ax2.set_ylabel(r'$\\mathrm{\\bar{\\Sigma}_{22}}$')\n",
    "ax3.set_xlabel(r'$\\mathrm{\\bar{E}_{ii}}$')\n",
    "ax3.set_ylabel(r'$\\mathrm{\\bar{\\Sigma}_{ii}}$')\n",
    "ax1.set_xlabel(r'$\\mathrm{\\bar{E}_{VM}}$')\n",
    "ax1.set_ylabel(r'$\\mathrm{\\bar{\\Sigma}_{VM}}$')\n",
    "ax3.legend(loc='best',fontsize=9,numpoints=1,bbox_to_anchor=(1,0.9))\n",
    "\n",
    "\n",
    "axcb=fig.add_subplot(gs[0,1])\n",
    "cb=mpl.colorbar.ColorbarBase(axcb,cmap=cmap,orientation='horizontal',\n",
    "                          norm=norm,filled=True,format='%3.1f')\n",
    "# axcb.locator_params(nbins=4)\n",
    "axcb.set_xlabel(r'$\\mathrm{\\bar{E}_{VM}}$')\n",
    "cb.set_ticks(np.linspace(mn,mx,5))"
   ]
  },
  {
   "cell_type": "code",
   "execution_count": 43,
   "metadata": {
    "collapsed": false
   },
   "outputs": [
    {
     "name": "stdout",
     "output_type": "stream",
     "text": [
      "/Users/yj/Documents/ExpDat/IFSteel/Marciniak-X-ray-IF/BB/20120711/RS.pck\n",
      "/Users/yj/repo/FLD_DIC_XRAY/tutorials/XRD_analysis/IF_steel/BB/../../../pickles/RS_20120711.pck\n"
     ]
    }
   ],
   "source": [
    "import cPickle as pickle\n",
    "def save_object(obj, filename):\n",
    "    with open(filename, 'wb') as output:\n",
    "        pickle.dump(obj, output, pickle.HIGHEST_PROTOCOL)\n",
    "\n",
    "fn = os.path.join(path,date,'RS.pck')\n",
    "print fn\n",
    "save_object(obj=RS, filename=fn)\n",
    "\n",
    "fn = os.path.join('../../../pickles/RS_%s.pck'%date)\n",
    "print os.path.join(os.getcwd(),fn)\n",
    "save_object(obj=RS, filename=fn)"
   ]
  }
 ],
 "metadata": {
  "kernelspec": {
   "display_name": "Python 2",
   "language": "python",
   "name": "python2"
  },
  "language_info": {
   "codemirror_mode": {
    "name": "ipython",
    "version": 2
   },
   "file_extension": ".py",
   "mimetype": "text/x-python",
   "name": "python",
   "nbconvert_exporter": "python",
   "pygments_lexer": "ipython2",
   "version": "2.7.10"
  }
 },
 "nbformat": 4,
 "nbformat_minor": 0
}
