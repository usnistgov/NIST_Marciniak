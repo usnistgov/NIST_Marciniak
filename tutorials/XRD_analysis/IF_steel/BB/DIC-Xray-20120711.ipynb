{
 "cells": [
  {
   "cell_type": "markdown",
   "metadata": {},
   "source": [
    "# Combine DIC data with X-ray in order to calculate multiaxial flow curve"
   ]
  },
  {
   "cell_type": "markdown",
   "metadata": {},
   "source": [
    "- Use pylab inline"
   ]
  },
  {
   "cell_type": "code",
   "execution_count": 1,
   "metadata": {
    "collapsed": false
   },
   "outputs": [
    {
     "name": "stdout",
     "output_type": "stream",
     "text": [
      "Populating the interactive namespace from numpy and matplotlib\n"
     ]
    }
   ],
   "source": [
    "%pylab inline"
   ]
  },
  {
   "cell_type": "markdown",
   "metadata": {},
   "source": [
    "- Dependents"
   ]
  },
  {
   "cell_type": "code",
   "execution_count": 2,
   "metadata": {
    "collapsed": false
   },
   "outputs": [],
   "source": [
    "import os, time\n",
    "from MP.mat import mech\n",
    "from glob import glob\n",
    "import RS\n",
    "reload(RS)\n",
    "from RS import sfig_class\n",
    "reload(sfig_class)\n",
    "\n",
    "from RS import analyze_proto,sff_plot\n",
    "import matplotlib as mpl\n",
    "from MP import progress_bar, lib\n",
    "from MP import mat\n",
    "mech=mat.mech\n",
    "\n",
    "mpl_lib=lib.mpl_lib\n",
    "uet=progress_bar.update_elapsed_time\n",
    "GS=mpl.gridspec.GridSpec\n",
    "fc=mat.mech.FlowCurve"
   ]
  },
  {
   "cell_type": "markdown",
   "metadata": {},
   "source": [
    "- Name of DIC files"
   ]
  },
  {
   "cell_type": "code",
   "execution_count": 3,
   "metadata": {
    "collapsed": false
   },
   "outputs": [],
   "source": [
    "date='20120711'\n",
    "path='/Users/yj/Documents/ExpDat/IFSteel/Marciniak-X-ray-IF/BB/'\n",
    "fn_DIC=os.path.join(path,date,'DIC/DIC_results.txt')\n",
    "dic_dat=np.loadtxt(fn_DIC,skiprows=1).T"
   ]
  },
  {
   "cell_type": "markdown",
   "metadata": {},
   "source": [
    "# Read lab note book in order to match Xray file and DIC index"
   ]
  },
  {
   "cell_type": "code",
   "execution_count": 4,
   "metadata": {
    "collapsed": false,
    "scrolled": true
   },
   "outputs": [
    {
     "name": "stdout",
     "output_type": "stream",
     "text": [
      "total 800\n",
      "8 -rw-------  1 yj  admin  1446 Mar 30 15:44 11JUL12_0007Data.txt\n",
      "8 -rw-------  1 yj  admin  2982 Mar 30 15:44 11JUL12_0007Data1Phi-90.txt\n",
      "8 -rw-------  1 yj  admin  2979 Mar 30 15:44 11JUL12_0007Data2Phi0.txt\n",
      "8 -rw-------  1 yj  admin  2980 Mar 30 15:44 11JUL12_0007Data3Phi45.txt\n",
      "8 -rw-------  1 yj  admin  2982 Mar 30 15:44 11JUL12_0007Data4Phi135.txt\n",
      "8 -rw-------  1 yj  admin  1447 Mar 30 15:44 11JUL12_0008Data.txt\n",
      "8 -rw-------  1 yj  admin  2982 Mar 30 15:44 11JUL12_0008Data1Phi-90.txt\n",
      "8 -rw-------  1 yj  admin  2980 Mar 30 15:44 11JUL12_0008Data2Phi0.txt\n",
      "8 -rw-------  1 yj  admin  2981 Mar 30 15:44 11JUL12_0008Data3Phi45.txt\n",
      "8 -rw-------  1 yj  admin  2982 Mar 30 15:44 11JUL12_0008Data4Phi135.txt\n",
      "8 -rw-------  1 yj  admin  1447 Mar 30 15:44 11JUL12_0009Data.txt\n",
      "8 -rw-------  1 yj  admin  2982 Mar 30 15:44 11JUL12_0009Data1Phi-90.txt\n",
      "8 -rw-------  1 yj  admin  2980 Mar 30 15:44 11JUL12_0009Data2Phi0.txt\n",
      "8 -rw-------  1 yj  admin  2981 Mar 30 15:44 11JUL12_0009Data3Phi45.txt\n",
      "8 -rw-------  1 yj  admin  2982 Mar 30 15:44 11JUL12_0009Data4Phi135.txt\n",
      "8 -rw-------  1 yj  admin  1448 Mar 30 15:44 11JUL12_0010Data.txt\n",
      "8 -rw-------  1 yj  admin  2982 Mar 30 15:44 11JUL12_0010Data1Phi-90.txt\n",
      "8 -rw-------  1 yj  admin  2980 Mar 30 15:44 11JUL12_0010Data2Phi0.txt\n",
      "8 -rw-------  1 yj  admin  2981 Mar 30 15:44 11JUL12_0010Data3Phi45.txt\n",
      "8 -rw-------  1 yj  admin  2982 Mar 30 15:44 11JUL12_0010Data4Phi135.txt\n",
      "8 -rw-------  1 yj  admin  1447 Mar 30 15:44 11JUL12_0011Data.txt\n",
      "8 -rw-------  1 yj  admin  2982 Mar 30 15:44 11JUL12_0011Data1Phi-90.txt\n",
      "8 -rw-------  1 yj  admin  2980 Mar 30 15:44 11JUL12_0011Data2Phi0.txt\n",
      "8 -rw-------  1 yj  admin  2981 Mar 30 15:44 11JUL12_0011Data3Phi45.txt\n",
      "8 -rw-------  1 yj  admin  2982 Mar 30 15:44 11JUL12_0011Data4Phi135.txt\n",
      "8 -rw-------  1 yj  admin  1448 Mar 30 15:44 11JUL12_0012Data.txt\n",
      "8 -rw-------  1 yj  admin  2982 Mar 30 15:44 11JUL12_0012Data1Phi-90.txt\n",
      "8 -rw-------  1 yj  admin  2980 Mar 30 15:44 11JUL12_0012Data2Phi0.txt\n",
      "8 -rw-------  1 yj  admin  2981 Mar 30 15:45 11JUL12_0012Data3Phi45.txt\n",
      "8 -rw-------  1 yj  admin  2982 Mar 30 15:45 11JUL12_0012Data4Phi135.txt\n",
      "8 -rw-------  1 yj  admin  1448 Mar 30 15:45 11JUL12_0013Data.txt\n",
      "8 -rw-------  1 yj  admin  2982 Mar 30 15:45 11JUL12_0013Data1Phi-90.txt\n",
      "8 -rw-------  1 yj  admin  2980 Mar 30 15:45 11JUL12_0013Data2Phi0.txt\n",
      "8 -rw-------  1 yj  admin  2981 Mar 30 15:45 11JUL12_0013Data3Phi45.txt\n",
      "8 -rw-------  1 yj  admin  2982 Mar 30 15:45 11JUL12_0013Data4Phi135.txt\n",
      "8 -rw-------  1 yj  admin  1447 Mar 30 15:45 11JUL12_0014Data.txt\n",
      "8 -rw-------  1 yj  admin  2982 Mar 30 15:45 11JUL12_0014Data1Phi-90.txt\n",
      "8 -rw-------  1 yj  admin  2980 Mar 30 15:45 11JUL12_0014Data2Phi0.txt\n",
      "8 -rw-------  1 yj  admin  2981 Mar 30 15:45 11JUL12_0014Data3Phi45.txt\n",
      "8 -rw-------  1 yj  admin  2982 Mar 30 15:45 11JUL12_0014Data4Phi135.txt\n",
      "8 -rw-------  1 yj  admin  1445 Mar 30 15:45 11JUL12_0015Data.txt\n",
      "8 -rw-------  1 yj  admin  2982 Mar 30 15:45 11JUL12_0015Data1Phi-90.txt\n",
      "8 -rw-------  1 yj  admin  2980 Mar 30 15:45 11JUL12_0015Data2Phi0.txt\n",
      "8 -rw-------  1 yj  admin  2981 Mar 30 15:45 11JUL12_0015Data3Phi45.txt\n",
      "8 -rw-------  1 yj  admin  2982 Mar 30 15:45 11JUL12_0015Data4Phi135.txt\n",
      "8 -rw-------  1 yj  admin  1447 Mar 30 15:45 11JUL12_0016Data.txt\n",
      "8 -rw-------  1 yj  admin  2982 Mar 30 15:45 11JUL12_0016Data1Phi-90.txt\n",
      "8 -rw-------  1 yj  admin  2980 Mar 30 15:45 11JUL12_0016Data2Phi0.txt\n",
      "8 -rw-------  1 yj  admin  2981 Mar 30 15:45 11JUL12_0016Data3Phi45.txt\n",
      "8 -rw-------  1 yj  admin  2982 Mar 30 15:45 11JUL12_0016Data4Phi135.txt\n",
      "8 -rw-------  1 yj  admin  1446 Mar 30 15:45 11JUL12_0017Data.txt\n",
      "8 -rw-------  1 yj  admin  2982 Mar 30 15:45 11JUL12_0017Data1Phi-90.txt\n",
      "8 -rw-------  1 yj  admin  2980 Mar 30 15:45 11JUL12_0017Data2Phi0.txt\n",
      "8 -rw-------  1 yj  admin  2981 Mar 30 15:45 11JUL12_0017Data3Phi45.txt\n",
      "8 -rw-------  1 yj  admin  2982 Mar 30 15:45 11JUL12_0017Data4Phi135.txt\n",
      "8 -rw-------  1 yj  admin  1448 Mar 30 15:46 12JUL12_0001Data.txt\n",
      "8 -rw-------  1 yj  admin  2982 Mar 30 15:46 12JUL12_0001Data1Phi-90.txt\n",
      "8 -rw-------  1 yj  admin  2980 Mar 30 15:46 12JUL12_0001Data2Phi0.txt\n",
      "8 -rw-------  1 yj  admin  2981 Mar 30 15:46 12JUL12_0001Data3Phi45.txt\n",
      "8 -rw-------  1 yj  admin  2982 Mar 30 15:46 12JUL12_0001Data4Phi135.txt\n",
      "8 -rw-------  1 yj  admin  1447 Mar 30 15:46 12JUL12_0002Data.txt\n",
      "8 -rw-------  1 yj  admin  2982 Mar 30 15:46 12JUL12_0002Data1Phi-90.txt\n",
      "8 -rw-------  1 yj  admin  2980 Mar 30 15:46 12JUL12_0002Data2Phi0.txt\n",
      "8 -rw-------  1 yj  admin  2981 Mar 30 15:46 12JUL12_0002Data3Phi45.txt\n",
      "8 -rw-------  1 yj  admin  2982 Mar 30 15:46 12JUL12_0002Data4Phi135.txt\n",
      "8 -rw-------  1 yj  admin  1447 Mar 30 15:46 12JUL12_0003Data.txt\n",
      "8 -rw-------  1 yj  admin  2982 Mar 30 15:46 12JUL12_0003Data1Phi-90.txt\n",
      "8 -rw-------  1 yj  admin  2980 Mar 30 15:46 12JUL12_0003Data2Phi0.txt\n",
      "8 -rw-------  1 yj  admin  2981 Mar 30 15:46 12JUL12_0003Data3Phi45.txt\n",
      "8 -rw-------  1 yj  admin  2982 Mar 30 15:46 12JUL12_0003Data4Phi135.txt\n",
      "8 -rw-------  1 yj  admin  1448 Mar 30 15:46 12JUL12_0004Data.txt\n",
      "8 -rw-------  1 yj  admin  2982 Mar 30 15:46 12JUL12_0004Data1Phi-90.txt\n",
      "8 -rw-------  1 yj  admin  2980 Mar 30 15:46 12JUL12_0004Data2Phi0.txt\n",
      "8 -rw-------  1 yj  admin  2981 Mar 30 15:46 12JUL12_0004Data3Phi45.txt\n",
      "8 -rw-------  1 yj  admin  2982 Mar 30 15:43 12JUL12_0004Data4Phi135.txt\n",
      "8 -rw-------  1 yj  admin  1447 Mar 30 15:43 12JUL12_0005Data.txt\n",
      "8 -rw-------  1 yj  admin  2982 Mar 30 15:43 12JUL12_0005Data1Phi-90.txt\n",
      "8 -rw-------  1 yj  admin  2980 Mar 30 15:43 12JUL12_0005Data2Phi0.txt\n",
      "8 -rw-------  1 yj  admin  2981 Mar 30 15:43 12JUL12_0005Data3Phi45.txt\n",
      "8 -rw-------  1 yj  admin  2982 Mar 30 15:43 12JUL12_0005Data4Phi135.txt\n",
      "8 -rw-------  1 yj  admin  1446 Mar 30 15:43 12JUL12_0006Data.txt\n",
      "8 -rw-------  1 yj  admin  2982 Mar 30 15:43 12JUL12_0006Data1Phi-90.txt\n",
      "8 -rw-------  1 yj  admin  2980 Mar 30 15:43 12JUL12_0006Data2Phi0.txt\n",
      "8 -rw-------  1 yj  admin  2981 Mar 30 15:43 12JUL12_0006Data3Phi45.txt\n",
      "8 -rw-------  1 yj  admin  2982 Mar 30 15:43 12JUL12_0006Data4Phi135.txt\n",
      "8 -rw-------  1 yj  admin  1447 Mar 30 15:45 12JUL12_0007Data.txt\n",
      "8 -rw-------  1 yj  admin  2982 Mar 30 15:46 12JUL12_0007Data1Phi-90.txt\n",
      "8 -rw-------  1 yj  admin  2980 Mar 30 15:46 12JUL12_0007Data2Phi0.txt\n",
      "8 -rw-------  1 yj  admin  2981 Mar 30 15:46 12JUL12_0007Data3Phi45.txt\n",
      "8 -rw-------  1 yj  admin  2982 Mar 30 15:46 12JUL12_0007Data4Phi135.txt\n",
      "8 -rw-------  1 yj  admin  1447 Mar 30 15:43 12JUL12_0008Data.txt\n",
      "8 -rw-------  1 yj  admin  2982 Mar 30 15:43 12JUL12_0008Data1Phi-90.txt\n",
      "8 -rw-------  1 yj  admin  2980 Mar 30 15:43 12JUL12_0008Data2Phi0.txt\n",
      "8 -rw-------  1 yj  admin  2981 Mar 30 15:43 12JUL12_0008Data3Phi45.txt\n",
      "8 -rw-------  1 yj  admin  2982 Mar 30 15:43 12JUL12_0008Data4Phi135.txt\n",
      "8 -rw-------  1 yj  admin  1447 Mar 30 15:43 12JUL12_0009Data.txt\n",
      "8 -rw-------  1 yj  admin  2982 Mar 30 15:43 12JUL12_0009Data1Phi-90.txt\n",
      "8 -rw-------  1 yj  admin  2980 Mar 30 15:43 12JUL12_0009Data2Phi0.txt\n",
      "8 -rw-------  1 yj  admin  2981 Mar 30 15:43 12JUL12_0009Data3Phi45.txt\n",
      "8 -rw-------  1 yj  admin  2982 Mar 30 15:44 12JUL12_0009Data4Phi135.txt\n",
      "\n"
     ]
    }
   ],
   "source": [
    "print os.popen('ls -ls %s'%os.path.join(path,date,'Xray')).read()"
   ]
  },
  {
   "cell_type": "markdown",
   "metadata": {},
   "source": [
    "- Making a fref file for Proto data analysis"
   ]
  },
  {
   "cell_type": "code",
   "execution_count": 5,
   "metadata": {
    "collapsed": true
   },
   "outputs": [],
   "source": [
    "# ------------------------------------------------------------------------\n",
    "# Find suitable experimental stress factor file\n",
    "#fn_sff='/Users/yj/GoogleDrive/expdat/Marciniak-X-ray-IF/YJ_BB_10times.sff'\n",
    "fn_sff='/Users/yj/Documents/ExpDat/IFSteel/Marciniak-X-ray-IF/YJ_BB_10times.sff'\n",
    "\n",
    "# ------------------------------------------------------------------------\n",
    "# Refer to Laboratory notebook to match up the X-ray data filename \n",
    "# and DIC image number\n",
    "DIC_XRD=\"\"\"#8  11JUL12_0007.tr\n",
    "#9   11JUL12_0007.tr\n",
    "#67  11JUL12_0008.tr\n",
    "#68  11JUL12_0008.tr\n",
    "#91  11JUL12_0009.tr\n",
    "#92  11JUL12_0009.tr\n",
    "#108 11JUL12_0010.tr\n",
    "#109 11JUL12_0010.tr\n",
    "#124 11JUL12_0011.tr\n",
    "#125 11JUL12_0011.tr\n",
    "#139 11JUL12_0012.tr\n",
    "#140 11JUL12_0012.tr\n",
    "#154 11JUL12_0013.tr\n",
    "#155 11JUL12_0013.tr\n",
    "#168 11JUL12_0014.tr\n",
    "#169 11JUL12_0014.tr\n",
    "#181 11JUL12_0015.tr\n",
    "#182 11JUL12_0015.tr\n",
    "#193 11JUL12_0016.tr\n",
    "#194 11JUL12_0016.tr\n",
    "#206 11JUL12_0017.tr\n",
    "#218 12JUL12_0001.tr\n",
    "#219 12JUL12_0001.tr\n",
    "#228 12JUL12_0002.tr\n",
    "#229 12JUL12_0002.tr\n",
    "#238 12JUL12_0003.tr\n",
    "#239 12JUL12_0003.tr\n",
    "#247 12JUL12_0004.tr\n",
    "#248 12JUL12_0004.tr\n",
    "#255 12JUL12_0005.tr\n",
    "#256 12JUL12_0005.tr\n",
    "#319 12JUL12_0006.tr\n",
    "#320 12JUL12_0006.tr\n",
    "#366 12JUL12_0007.tr\n",
    "#456 12JUL12_0008.tr\n",
    "#457 12JUL12_0008.tr\n",
    "#490 12JUL12_0009.tr\"\"\"\n",
    "# ------------------------------------------------------------------------"
   ]
  },
  {
   "cell_type": "code",
   "execution_count": 6,
   "metadata": {
    "collapsed": false
   },
   "outputs": [
    {
     "name": "stdout",
     "output_type": "stream",
     "text": [
      "--------------------------------------------------\n",
      "/Users/yj/Documents/ExpDat/IFSteel/Marciniak-X-ray-IF/BB/20120711/f_fref.txt has been created:\n",
      " Use it for further stress analysis\n",
      "--------------------------------------------------\n"
     ]
    }
   ],
   "source": [
    "fn_fref=fn_DIC.split('DIC')[0]+'f_fref.txt'\n",
    "f_fref=open(fn_fref,'w')\n",
    "\n",
    "f_fref.write(fn_sff)\n",
    "f_fref.write('  MajorStrainColumn: 2\\n')\n",
    "f_fref.write(('%14s'+'%12s '*4+' %5s'+'%12s '*4+' %14s\\n')%(\n",
    "        'filename','Exx','Eyy','Exy','Ezz','DIC','Exx_e','Eyye','SIG_a','SIG_e','Date'))\n",
    "lines=DIC_XRD.split('\\n')\n",
    "inds = []; fns = []\n",
    "## flow curve obj\n",
    "myfc=fc()\n",
    "Ex,Ey,Exy,Ez=[],[],[],[]\n",
    "\n",
    "Ex_std =[]\n",
    "Ey_std =[]\n",
    "DIC_sigma_avg=[]; DIC_sigma_std=[]\n",
    "\n",
    "for line in lines:\n",
    "    ind,fn=line.split()\n",
    "    ind=int(ind.split('#')[-1])\n",
    "    fn = fn.split('.tr')[0]\n",
    "    inds.append(ind); fns.append(fn)\n",
    "    \n",
    "    col = dic_dat[0]\n",
    "    ix=np.where(col==ind)[0]\n",
    "    i = int(col[ix][0]) ## dic index\n",
    "    # print ix,i\n",
    "\n",
    "    exx = dic_dat[5][ix]\n",
    "    eyy = dic_dat[7][ix]\n",
    "    exy = dic_dat[9][ix]\n",
    "    ezz = -exx-eyy    \n",
    "    \n",
    "    # -----------------------------------------\n",
    "    \"\"\" Additional elements...\"\"\"\n",
    "    exx_std       = dic_dat[6][ix]\n",
    "    eyy_std       = dic_dat[8][ix]\n",
    "    DIC_sigma_a   = dic_dat[11][ix]\n",
    "    DIC_sigma_e   = dic_dat[12][ix]\n",
    "    # -----------------------------------------\n",
    "\n",
    "    f_fref.write(('%14s '+'%+11.5e '*4+'%5i '+'%+11.5e '*4+' %14s\\n')%(\n",
    "            fn, exx, eyy, exy, ezz,i,exx_std,eyy_std,DIC_sigma_a,DIC_sigma_e,date))\n",
    "    \n",
    "    Ex.append(exx);Ey.append(eyy);Exy.append(exy);Ez.append(ezz)\n",
    "    Ex_std.append(exx_std)\n",
    "    Ey_std.append(eyy_std)\n",
    "    DIC_sigma_avg.append(DIC_sigma_a)\n",
    "    DIC_sigma_std.append(DIC_sigma_e)\n",
    "\n",
    "myfc.get_strain(Ex,0,0)\n",
    "myfc.get_strain(Ey,1,1)\n",
    "myfc.get_strain(Exy,0,1)\n",
    "myfc.get_strain(Exy,1,0)\n",
    "myfc.get_strain(Ez,2,2)\n",
    "myfc.set_zero_epsilon_ij(2,1)\n",
    "myfc.set_zero_epsilon_ij(0,2)\n",
    "myfc.get_vm_strain()\n",
    "myfc.get_vm_stress()\n",
    "\n",
    "myfc.DIC_sigma_avg=DIC_sigma_avg\n",
    "myfc.DIC_sigma_std=DIC_sigma_std\n",
    "myfc.Ex_std=Ex_std\n",
    "myfc.Ey_std=Ey_std\n",
    "\n",
    "f_fref.close()\n",
    "print '-'*50\n",
    "print fn_fref, 'has been created:\\n Use it for further stress analysis'\n",
    "print '-'*50"
   ]
  },
  {
   "cell_type": "code",
   "execution_count": 7,
   "metadata": {
    "collapsed": false,
    "scrolled": true
   },
   "outputs": [
    {
     "name": "stdout",
     "output_type": "stream",
     "text": [
      "/Users/yj/Documents/ExpDat/IFSteel/Marciniak-X-ray-IF/YJ_BB_10times.sff  MajorStrainColumn: 2\n",
      "      filename         Exx          Eyy          Exy          Ezz    DIC       Exx_e         Eyye        SIG_a        SIG_e            Date\n",
      "  11JUL12_0007 +2.13396e-05 -2.79467e-05 -3.65943e-05 +6.60710e-06     8 +5.73920e-04 +3.27186e-04 +6.94322e-03 +6.24474e-04        20120711\n",
      "  11JUL12_0007 +4.40269e-05 +2.79777e-05 -4.96338e-05 -7.20046e-05     9 +6.47238e-04 +3.53236e-04 +7.15362e-03 +7.26685e-04        20120711\n",
      "  11JUL12_0008 +4.69176e-03 +4.50139e-03 -8.48621e-05 -9.19315e-03    67 +7.49614e-04 +4.05593e-04 +7.18954e-03 +6.71936e-04        20120711\n",
      "\n"
     ]
    }
   ],
   "source": [
    "print os.popen('head -n 5 %s'%os.path.join(path,date,'f_fref.txt')).read()"
   ]
  },
  {
   "cell_type": "code",
   "execution_count": 8,
   "metadata": {
    "collapsed": false,
    "scrolled": true
   },
   "outputs": [
    {
     "data": {
      "text/plain": [
       "[<matplotlib.lines.Line2D at 0x106938150>]"
      ]
     },
     "execution_count": 8,
     "metadata": {},
     "output_type": "execute_result"
    },
    {
     "data": {
      "image/png": "[encoded data removed]",
      "text/plain": [
       "<matplotlib.figure.Figure at 0x106899e50>"
      ]
     },
     "metadata": {},
     "output_type": "display_data"
    }
   ],
   "source": [
    "#plot(myfc.epsilon[0,0],myfc.epsilon[1,1],'x')\n",
    "plot(myfc.epsilon_vm,'-o')"
   ]
  },
  {
   "cell_type": "markdown",
   "metadata": {},
   "source": [
    "+ Running analyze_proto.main for the X-ray and DIC experiments to calculate\n",
    "  stress/strain"
   ]
  },
  {
   "cell_type": "code",
   "execution_count": 9,
   "metadata": {
    "collapsed": false,
    "scrolled": false
   },
   "outputs": [
    {
     "name": "stdout",
     "output_type": "stream",
     "text": [
      "---------------------------------------------\n",
      "Strain information where SF/IG were measured\n",
      "requires either fc or fn_str specified\n",
      "If not the strain column in fn_sf is used,\n",
      "subsequent analysis is performed by assuming\n",
      "that the sample is in equibiaxial strain\n",
      "---------------------------------------------\n",
      "\n",
      "Warning: overwrite the SF.flow / IG.flow\n",
      "\n",
      "#-----------------------------------------------------#\n",
      " Interpolate SF and IG for matching with D-spacings\n",
      "epsilon_vm:\n",
      "[  2.92124441e-05   7.25983565e-05   9.19380700e-03   9.23668370e-03\n",
      "   1.75470716e-02   1.73346909e-02   2.55492605e-02   2.53548294e-02\n",
      "   3.36904110e-02   3.36460070e-02   4.17516018e-02   4.17588315e-02\n",
      "   4.99921396e-02   5.00162687e-02   5.82765416e-02   5.84460279e-02\n",
      "   6.64967713e-02   6.65174200e-02   7.47106402e-02   7.47305164e-02\n",
      "   8.28105096e-02   9.15743574e-02   9.16455016e-02   9.96240820e-02\n",
      "   9.97358355e-02   1.07664250e-01   1.07700992e-01   1.15500929e-01\n",
      "   1.15513437e-01   1.23293563e-01   1.23662518e-01   2.62159489e-01\n",
      "   2.62345624e-01   4.00136983e-01   5.32356337e-01   5.32199178e-01\n",
      "   6.61674234e-01]\n",
      "Strain reference at which sf was measured:\n",
      "[ 0.    0.02  0.2   0.5   0.7 ]\n",
      "  ** Phi angles of SF are different **\n",
      "  ** Phi angles of IG are different **\n",
      "#-----------------------------------------------------#\n",
      "Warning: color map was not specified.\n",
      "Warning: color map was not specified.\n",
      "-----------------------------------\n",
      "Standard deviation in d_ehkl at istp=0\n",
      "\n",
      "phi:     -90        0       45      135  avg\n",
      "std: 6.5e-05  1.4e-04  9.7e-05  7.9e-05  9.6e-05 \n",
      "Elapsed time:  49 [sec]"
     ]
    }
   ],
   "source": [
    "## plastic strain of the points where the X-ray d-spacing\n",
    "## were meausured are important information that is utilized over the X ray analysis.\n",
    "## If, fc or fn_str are not given, the below application\n",
    "## bases on the strain given in the fref file -\n",
    "## the two major strain components are used with assumption\n",
    "## that the sample was in 'equi-biaxial' strain.\n",
    "t0=time.time()\n",
    "RS=analyze_proto.main(path=os.path.join(path,date,'Xray'),\n",
    "                   fn_sf=fn_sff,fref=os.path.join(path,date,'f_fref.txt'),\n",
    "                   ind_plot=True)\n",
    "uet(time.time()-t0)"
   ]
  },
  {
   "cell_type": "code",
   "execution_count": 10,
   "metadata": {
    "collapsed": false
   },
   "outputs": [
    {
     "data": {
      "image/png": "[encoded data removed]",
      "text/plain": [
       "<matplotlib.figure.Figure at 0x106967b10>"
      ]
     },
     "metadata": {},
     "output_type": "display_data"
    }
   ],
   "source": [
    "\"\"\" \n",
    "RS.EXP.flow.epsilon, RS.flow.sigma\n",
    "\"\"\"\n",
    "mn=0;mx=0.8\n",
    "norm = mpl.colors.Normalize(vmin=mn,vmax=mx)\n",
    "cmap, m = mpl_lib.norm_cmap(mn=mn,mx=mx)\n",
    "\n",
    "fx=9\n",
    "fy=fx*0.35\n",
    "fig=plt.figure(figsize=(fx,fy))\n",
    "gs=GS(20,3,wspace=0.5)\n",
    "ax1=fig.add_subplot(gs[5:,0])\n",
    "ax2=fig.add_subplot(gs[5:,1])\n",
    "ax3=fig.add_subplot(gs[5:,2])\n",
    "\n",
    "nstp = RS.EXP.flow.nstp\n",
    "\n",
    "\n",
    "for istp in xrange(nstp):\n",
    "    c=m.to_rgba(RS.EXP.flow.epsilon_vm[istp])\n",
    "    ax2.plot(RS.flow.sigma[0,0][istp],RS.flow.sigma[1,1][istp],\n",
    "             'o',mec='k',mfc=c)\n",
    "    ax1.plot(RS.EXP.flow.epsilon_vm[istp],RS.flow.sigma_vm[istp],'o',c=c)\n",
    "# ax2.plot(RS.flow.sigma[0,0],RS.flow.sigma[1,1],'k--')\n",
    "\n",
    "ax3.plot(RS.EXP.flow.epsilon[0,0],RS.flow.sigma[0,0],'x',label=r'$\\mathrm{\\bar{\\Sigma}_{11} - \\bar{E}_{11}}$')\n",
    "ax3.plot(RS.EXP.flow.epsilon[1,1],RS.flow.sigma[1,1],'+',label=r'$\\mathrm{\\bar{\\Sigma}_{22} - \\bar{E}_{22}}$')\n",
    "\n",
    "\n",
    "for ax in fig.axes:\n",
    "    ax.set_ylim(0.,);ax.set_xlim(0.,)\n",
    "    ax.locator_params(nbins=4)\n",
    "    ax.grid()\n",
    "\n",
    "ax2.set_xlabel(r'$\\mathrm{\\bar{\\Sigma}_{11}}$')\n",
    "ax2.set_ylabel(r'$\\mathrm{\\bar{\\Sigma}_{22}}$')\n",
    "ax3.set_xlabel(r'$\\mathrm{\\bar{E}_{ii}}$')\n",
    "ax3.set_ylabel(r'$\\mathrm{\\bar{\\Sigma}_{ii}}$')\n",
    "ax1.set_xlabel(r'$\\mathrm{\\bar{E}_{VM}}$')\n",
    "ax1.set_ylabel(r'$\\mathrm{\\bar{\\Sigma}_{VM}}$')\n",
    "ax3.legend(loc='best',fontsize=9,numpoints=1,bbox_to_anchor=(1,0.9))\n",
    "\n",
    "\n",
    "axcb=fig.add_subplot(gs[0,1])\n",
    "cb=mpl.colorbar.ColorbarBase(axcb,cmap=cmap,orientation='horizontal',\n",
    "                          norm=norm,filled=True,format='%3.1f')\n",
    "# axcb.locator_params(nbins=4)\n",
    "axcb.set_xlabel(r'$\\mathrm{\\bar{E}_{VM}}$')\n",
    "cb.set_ticks(np.linspace(mn,mx,5))"
   ]
  },
  {
   "cell_type": "markdown",
   "metadata": {},
   "source": [
    "- Pickle the object 'RS' and save to a file"
   ]
  },
  {
   "cell_type": "code",
   "execution_count": 11,
   "metadata": {
    "collapsed": false
   },
   "outputs": [
    {
     "name": "stdout",
     "output_type": "stream",
     "text": [
      "/Users/yj/Documents/ExpDat/IFSteel/Marciniak-X-ray-IF/BB/20120711/RS.pck\n",
      "/Users/yj/repo/FLD_DIC_XRAY/tutorials/XRD_analysis/IF_steel/BB/../../../pickles/RS_20120711.pck\n",
      "/Users/yj/repo/FLD_DIC_XRAY/tutorials/XRD_analysis/IF_steel/BB/../../../pickles/RS_DIC_20120711.pck\n"
     ]
    }
   ],
   "source": [
    "import cPickle as pickle\n",
    "def save_object(obj, filename):\n",
    "    with open(filename, 'wb') as output:\n",
    "        pickle.dump(obj, output, pickle.HIGHEST_PROTOCOL)\n",
    "\n",
    "fn = os.path.join(path,date,'RS.pck')\n",
    "print fn\n",
    "save_object(obj=RS, filename=fn)\n",
    "\n",
    "fn = os.path.join('../../../pickles/RS_%s.pck'%date)\n",
    "print os.path.join(os.getcwd(),fn)\n",
    "save_object(obj=RS, filename=fn)\n",
    "\n",
    "\n",
    "fn = os.path.join('../../../pickles/RS_DIC_%s.pck'%date)\n",
    "print os.path.join(os.getcwd(),fn)\n",
    "save_object(obj=myfc, filename=fn)"
   ]
  }
 ],
 "metadata": {
  "kernelspec": {
   "display_name": "Python 2",
   "language": "python",
   "name": "python2"
  },
  "language_info": {
   "codemirror_mode": {
    "name": "ipython",
    "version": 2
   },
   "file_extension": ".py",
   "mimetype": "text/x-python",
   "name": "python",
   "nbconvert_exporter": "python",
   "pygments_lexer": "ipython2",
   "version": "2.7.10"
  }
 },
 "nbformat": 4,
 "nbformat_minor": 0
}
