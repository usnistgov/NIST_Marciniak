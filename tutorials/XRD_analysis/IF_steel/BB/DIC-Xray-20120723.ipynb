{
 "cells": [
  {
   "cell_type": "markdown",
   "metadata": {},
   "source": [
    "# Combine DIC data with X-ray in order to calculate multiaxial flow curve"
   ]
  },
  {
   "cell_type": "markdown",
   "metadata": {},
   "source": [
    "- Use pylab inline"
   ]
  },
  {
   "cell_type": "code",
   "execution_count": 1,
   "metadata": {
    "collapsed": false
   },
   "outputs": [
    {
     "name": "stdout",
     "output_type": "stream",
     "text": [
      "Populating the interactive namespace from numpy and matplotlib\n"
     ]
    }
   ],
   "source": [
    "%pylab inline"
   ]
  },
  {
   "cell_type": "markdown",
   "metadata": {},
   "source": [
    "- Dependents"
   ]
  },
  {
   "cell_type": "code",
   "execution_count": 2,
   "metadata": {
    "collapsed": false
   },
   "outputs": [],
   "source": [
    "import os\n",
    "from glob import glob\n",
    "from RS import analyze_proto\n",
    "import matplotlib as mpl\n",
    "import time\n",
    "from MP import progress_bar, lib\n",
    "mpl_lib=lib.mpl_lib\n",
    "uet=progress_bar.update_elapsed_time\n",
    "GS=mpl.gridspec.GridSpec"
   ]
  },
  {
   "cell_type": "markdown",
   "metadata": {},
   "source": [
    "- Name of DIC files"
   ]
  },
  {
   "cell_type": "code",
   "execution_count": 4,
   "metadata": {
    "collapsed": false
   },
   "outputs": [],
   "source": [
    "date='20120723'\n",
    "path='/Users/yj/Documents/ExpDat/IFSteel/Marciniak-X-ray-IF/BB/'\n",
    "fn_DIC=os.path.join(path,date,'DIC/DIC_results.txt')\n",
    "dic_dat=np.loadtxt(fn_DIC,skiprows=1).T"
   ]
  },
  {
   "cell_type": "markdown",
   "metadata": {},
   "source": [
    "# Read lab note book in order to match Xray file and DIC index"
   ]
  },
  {
   "cell_type": "code",
   "execution_count": 5,
   "metadata": {
    "collapsed": false,
    "scrolled": true
   },
   "outputs": [
    {
     "name": "stdout",
     "output_type": "stream",
     "text": [
      "total 800\n",
      "8 -rw-------  1 yj  admin  1446 Mar 30 15:36 23JUL12_0001Data.txt\n",
      "8 -rw-------  1 yj  admin  2984 Mar 30 15:36 23JUL12_0001Data1Phi-90.txt\n",
      "8 -rw-------  1 yj  admin  2982 Mar 30 15:36 23JUL12_0001Data2Phi0.txt\n",
      "8 -rw-------  1 yj  admin  2983 Mar 30 15:36 23JUL12_0001Data3Phi45.txt\n",
      "8 -rw-------  1 yj  admin  2984 Mar 30 15:35 23JUL12_0001Data4Phi135.txt\n",
      "8 -rw-------  1 yj  admin  1448 Mar 30 15:35 23JUL12_0003Data.txt\n",
      "8 -rw-------  1 yj  admin  2984 Mar 30 15:35 23JUL12_0003Data1Phi-90.txt\n",
      "8 -rw-------  1 yj  admin  2982 Mar 30 15:35 23JUL12_0003Data2Phi0.txt\n",
      "8 -rw-------  1 yj  admin  2982 Mar 30 15:35 23JUL12_0003Data3Phi45.txt\n",
      "8 -rw-------  1 yj  admin  2983 Mar 30 15:35 23JUL12_0003Data4Phi135.txt\n",
      "8 -rw-------  1 yj  admin  1449 Mar 30 15:35 23JUL12_0005Data.txt\n",
      "8 -rw-------  1 yj  admin  2985 Mar 30 15:35 23JUL12_0005Data1Phi-90.txt\n",
      "8 -rw-------  1 yj  admin  2981 Mar 30 15:35 23JUL12_0005Data2Phi0.txt\n",
      "8 -rw-------  1 yj  admin  2983 Mar 30 15:35 23JUL12_0005Data3Phi45.txt\n",
      "8 -rw-------  1 yj  admin  2984 Mar 30 15:35 23JUL12_0005Data4Phi135.txt\n",
      "8 -rw-------  1 yj  admin  1447 Mar 30 15:35 23JUL12_0006Data.txt\n",
      "8 -rw-------  1 yj  admin  2982 Mar 30 15:35 23JUL12_0006Data1Phi-90.txt\n",
      "8 -rw-------  1 yj  admin  2981 Mar 30 15:39 23JUL12_0006Data2Phi0.txt\n",
      "8 -rw-------  1 yj  admin  2982 Mar 30 15:39 23JUL12_0006Data3Phi45.txt\n",
      "8 -rw-------  1 yj  admin  2982 Mar 30 15:39 23JUL12_0006Data4Phi135.txt\n",
      "8 -rw-------  1 yj  admin  1448 Mar 30 15:39 23JUL12_0007Data.txt\n",
      "8 -rw-------  1 yj  admin  2983 Mar 30 15:39 23JUL12_0007Data1Phi-90.txt\n",
      "8 -rw-------  1 yj  admin  2981 Mar 30 15:39 23JUL12_0007Data2Phi0.txt\n",
      "8 -rw-------  1 yj  admin  2982 Mar 30 15:39 23JUL12_0007Data3Phi45.txt\n",
      "8 -rw-------  1 yj  admin  2983 Mar 30 15:39 23JUL12_0007Data4Phi135.txt\n",
      "8 -rw-------  1 yj  admin  1448 Mar 30 15:39 23JUL12_0008Data.txt\n",
      "8 -rw-------  1 yj  admin  2983 Mar 30 15:39 23JUL12_0008Data1Phi-90.txt\n",
      "8 -rw-------  1 yj  admin  2981 Mar 30 15:39 23JUL12_0008Data2Phi0.txt\n",
      "8 -rw-------  1 yj  admin  2982 Mar 30 15:39 23JUL12_0008Data3Phi45.txt\n",
      "8 -rw-------  1 yj  admin  2983 Mar 30 15:38 23JUL12_0008Data4Phi135.txt\n",
      "8 -rw-------  1 yj  admin  1449 Mar 30 15:38 23JUL12_0009Data.txt\n",
      "8 -rw-------  1 yj  admin  2983 Mar 30 15:38 23JUL12_0009Data1Phi-90.txt\n",
      "8 -rw-------  1 yj  admin  2981 Mar 30 15:38 23JUL12_0009Data2Phi0.txt\n",
      "8 -rw-------  1 yj  admin  2982 Mar 30 15:38 23JUL12_0009Data3Phi45.txt\n",
      "8 -rw-------  1 yj  admin  2983 Mar 30 15:38 23JUL12_0009Data4Phi135.txt\n",
      "8 -rw-------  1 yj  admin  1448 Mar 30 15:38 23JUL12_0010Data.txt\n",
      "8 -rw-------  1 yj  admin  2983 Mar 30 15:38 23JUL12_0010Data1Phi-90.txt\n",
      "8 -rw-------  1 yj  admin  2981 Mar 30 15:38 23JUL12_0010Data2Phi0.txt\n",
      "8 -rw-------  1 yj  admin  2982 Mar 30 15:38 23JUL12_0010Data3Phi45.txt\n",
      "8 -rw-------  1 yj  admin  2983 Mar 30 15:38 23JUL12_0010Data4Phi135.txt\n",
      "8 -rw-------  1 yj  admin  1447 Mar 30 15:38 23JUL12_0011Data.txt\n",
      "8 -rw-------  1 yj  admin  2983 Mar 30 15:38 23JUL12_0011Data1Phi-90.txt\n",
      "8 -rw-------  1 yj  admin  2981 Mar 30 15:38 23JUL12_0011Data2Phi0.txt\n",
      "8 -rw-------  1 yj  admin  2982 Mar 30 15:38 23JUL12_0011Data3Phi45.txt\n",
      "8 -rw-------  1 yj  admin  2983 Mar 30 15:38 23JUL12_0011Data4Phi135.txt\n",
      "8 -rw-------  1 yj  admin  1447 Mar 30 15:38 23JUL12_0012Data.txt\n",
      "8 -rw-------  1 yj  admin  2983 Mar 30 15:38 23JUL12_0012Data1Phi-90.txt\n",
      "8 -rw-------  1 yj  admin  2981 Mar 30 15:38 23JUL12_0012Data2Phi0.txt\n",
      "8 -rw-------  1 yj  admin  2982 Mar 30 15:38 23JUL12_0012Data3Phi45.txt\n",
      "8 -rw-------  1 yj  admin  2983 Mar 30 15:38 23JUL12_0012Data4Phi135.txt\n",
      "8 -rw-------  1 yj  admin  1447 Mar 30 15:38 23JUL12_0013Data.txt\n",
      "8 -rw-------  1 yj  admin  2983 Mar 30 15:38 23JUL12_0013Data1Phi-90.txt\n",
      "8 -rw-------  1 yj  admin  2981 Mar 30 15:38 23JUL12_0013Data2Phi0.txt\n",
      "8 -rw-------  1 yj  admin  2982 Mar 30 15:37 23JUL12_0013Data3Phi45.txt\n",
      "8 -rw-------  1 yj  admin  2983 Mar 30 15:37 23JUL12_0013Data4Phi135.txt\n",
      "8 -rw-------  1 yj  admin  1448 Mar 30 15:37 23JUL12_0014Data.txt\n",
      "8 -rw-------  1 yj  admin  2983 Mar 30 15:37 23JUL12_0014Data1Phi-90.txt\n",
      "8 -rw-------  1 yj  admin  2981 Mar 30 15:37 23JUL12_0014Data2Phi0.txt\n",
      "8 -rw-------  1 yj  admin  2982 Mar 30 15:37 23JUL12_0014Data3Phi45.txt\n",
      "8 -rw-------  1 yj  admin  2983 Mar 30 15:37 23JUL12_0014Data4Phi135.txt\n",
      "8 -rw-------  1 yj  admin  1448 Mar 30 15:37 23JUL12_0015Data.txt\n",
      "8 -rw-------  1 yj  admin  2983 Mar 30 15:37 23JUL12_0015Data1Phi-90.txt\n",
      "8 -rw-------  1 yj  admin  2981 Mar 30 15:37 23JUL12_0015Data2Phi0.txt\n",
      "8 -rw-------  1 yj  admin  2982 Mar 30 15:37 23JUL12_0015Data3Phi45.txt\n",
      "8 -rw-------  1 yj  admin  2983 Mar 30 15:37 23JUL12_0015Data4Phi135.txt\n",
      "8 -rw-------  1 yj  admin  1448 Mar 30 15:37 23JUL12_0016Data.txt\n",
      "8 -rw-------  1 yj  admin  2983 Mar 30 15:37 23JUL12_0016Data1Phi-90.txt\n",
      "8 -rw-------  1 yj  admin  2981 Mar 30 15:37 23JUL12_0016Data2Phi0.txt\n",
      "8 -rw-------  1 yj  admin  2982 Mar 30 15:37 23JUL12_0016Data3Phi45.txt\n",
      "8 -rw-------  1 yj  admin  2983 Mar 30 15:37 23JUL12_0016Data4Phi135.txt\n",
      "8 -rw-------  1 yj  admin  1447 Mar 30 15:37 23JUL12_0017Data.txt\n",
      "8 -rw-------  1 yj  admin  2983 Mar 30 15:37 23JUL12_0017Data1Phi-90.txt\n",
      "8 -rw-------  1 yj  admin  2981 Mar 30 15:37 23JUL12_0017Data2Phi0.txt\n",
      "8 -rw-------  1 yj  admin  2982 Mar 30 15:37 23JUL12_0017Data3Phi45.txt\n",
      "8 -rw-------  1 yj  admin  2983 Mar 30 15:37 23JUL12_0017Data4Phi135.txt\n",
      "8 -rw-------  1 yj  admin  1448 Mar 30 15:37 23JUL12_0018Data.txt\n",
      "8 -rw-------  1 yj  admin  2983 Mar 30 15:37 23JUL12_0018Data1Phi-90.txt\n",
      "8 -rw-------  1 yj  admin  2981 Mar 30 15:36 23JUL12_0018Data2Phi0.txt\n",
      "8 -rw-------  1 yj  admin  2982 Mar 30 15:36 23JUL12_0018Data3Phi45.txt\n",
      "8 -rw-------  1 yj  admin  2983 Mar 30 15:36 23JUL12_0018Data4Phi135.txt\n",
      "8 -rw-------  1 yj  admin  1448 Mar 30 15:36 23JUL12_0019Data.txt\n",
      "8 -rw-------  1 yj  admin  2983 Mar 30 15:36 23JUL12_0019Data1Phi-90.txt\n",
      "8 -rw-------  1 yj  admin  2981 Mar 30 15:36 23JUL12_0019Data2Phi0.txt\n",
      "8 -rw-------  1 yj  admin  2982 Mar 30 15:36 23JUL12_0019Data3Phi45.txt\n",
      "8 -rw-------  1 yj  admin  2983 Mar 30 15:36 23JUL12_0019Data4Phi135.txt\n",
      "8 -rw-------  1 yj  admin  1447 Mar 30 15:36 23JUL12_0020Data.txt\n",
      "8 -rw-------  1 yj  admin  2983 Mar 30 15:36 23JUL12_0020Data1Phi-90.txt\n",
      "8 -rw-------  1 yj  admin  2981 Mar 30 15:36 23JUL12_0020Data2Phi0.txt\n",
      "8 -rw-------  1 yj  admin  2982 Mar 30 15:36 23JUL12_0020Data3Phi45.txt\n",
      "8 -rw-------  1 yj  admin  2983 Mar 30 15:36 23JUL12_0020Data4Phi135.txt\n",
      "8 -rw-------  1 yj  admin  1447 Mar 30 15:36 23JUL12_0021Data.txt\n",
      "8 -rw-------  1 yj  admin  2983 Mar 30 15:36 23JUL12_0021Data1Phi-90.txt\n",
      "8 -rw-------  1 yj  admin  2981 Mar 30 15:36 23JUL12_0021Data2Phi0.txt\n",
      "8 -rw-------  1 yj  admin  2982 Mar 30 15:36 23JUL12_0021Data3Phi45.txt\n",
      "8 -rw-------  1 yj  admin  2983 Mar 30 15:36 23JUL12_0021Data4Phi135.txt\n",
      "8 -rw-------  1 yj  admin  1444 Mar 30 15:36 24JUL12_0001Data.txt\n",
      "8 -rw-------  1 yj  admin  2982 Mar 30 15:36 24JUL12_0001Data1Phi-90.txt\n",
      "8 -rw-------  1 yj  admin  2980 Mar 30 15:36 24JUL12_0001Data2Phi0.txt\n",
      "8 -rw-------  1 yj  admin  2981 Mar 30 15:36 24JUL12_0001Data3Phi45.txt\n",
      "8 -rw-------  1 yj  admin  2981 Mar 30 15:36 24JUL12_0001Data4Phi135.txt\n",
      "\n"
     ]
    }
   ],
   "source": [
    "print os.popen('ls -ls %s'%os.path.join(path,date,'Xray')).read()"
   ]
  },
  {
   "cell_type": "markdown",
   "metadata": {},
   "source": [
    "- Making a fref file for Proto data analysis"
   ]
  },
  {
   "cell_type": "code",
   "execution_count": 9,
   "metadata": {
    "collapsed": false
   },
   "outputs": [
    {
     "name": "stdout",
     "output_type": "stream",
     "text": [
      "-----------------------------------------------------------------------------------------------------\n",
      "/Users/yj/Documents/ExpDat/IFSteel/Marciniak-X-ray-IF/BB/20120723/f_fref.txt has been created:\n",
      " Use it for further stress analysis\n",
      "-----------------------------------------------------------------------------------------------------\n"
     ]
    }
   ],
   "source": [
    "# ------------------------------------------------------------------------\n",
    "# Find suitable experimental stress factor file\n",
    "fn_sff='/Users/yj/Documents/ExpDat/IFSteel/Marciniak-X-ray-IF/YJ_BB_10times.sff'\n",
    "# fn_sff='/Users/yj/GoogleDrive/expdat/Marciniak-X-ray-IF/YJ_BB_10times.sff'\n",
    "\n",
    "\n",
    "# ------------------------------------------------------------------------\n",
    "# Refer to Laboratory notebook to match up the X-ray data filename \n",
    "# and DIC image number\n",
    "DIC_XRD=\"\"\"#5  23JUL12_0006.tr\n",
    "#6   23JUL12_0006.tr\n",
    "#73  23JUL12_0007.tr\n",
    "#74  23JUL12_0007.tr\n",
    "#95  23JUL12_0008.tr\n",
    "#96  23JUL12_0008.tr\n",
    "#114 23JUL12_0009.tr\n",
    "#115 23JUL12_0009.tr\n",
    "#130 23JUL12_0010.tr\n",
    "#131 23JUL12_0010.tr\n",
    "#145 23JUL12_0011.tr\n",
    "#146 23JUL12_0011.tr\n",
    "#159 23JUL12_0012.tr\n",
    "#160 23JUL12_0012.tr\n",
    "#172 23JUL12_0013.tr\n",
    "#173 23JUL12_0013.tr\n",
    "#184 23JUL12_0014.tr\n",
    "#185 23JUL12_0014.tr\n",
    "#196 23JUL12_0015.tr\n",
    "#197 23JUL12_0015.tr\n",
    "#207 23JUL12_0016.tr\n",
    "#208 23JUL12_0016.tr\n",
    "#217 23JUL12_0017.tr\n",
    "#218 23JUL12_0017.tr\n",
    "#227 23JUL12_0018.tr\n",
    "#228 23JUL12_0018.tr\n",
    "#238 23JUL12_0019.tr\n",
    "#239 23JUL12_0019.tr\n",
    "#247 23JUL12_0020.tr\n",
    "#248 23JUL12_0020.tr\n",
    "#257 23JUL12_0021.tr\"\"\"\n",
    "\n",
    "# ------------------------------------------------------------------------\n",
    "\n",
    "fn_fref=fn_DIC.split('DIC')[0]+'f_fref.txt'\n",
    "f_fref=open(fn_fref,'w')\n",
    "\n",
    "f_fref.write(fn_sff)\n",
    "f_fref.write('  MajorStrainColumn: 2\\n')\n",
    "f_fref.write('%14s %12s %12s %12s %12s %5s\\n'%('filename','Exx','Eyy','Exy','Ezz','DIC'))\n",
    "lines=DIC_XRD.split('\\n')\n",
    "inds = []; fns = []\n",
    "for line in lines:\n",
    "    ind,fn=line.split()\n",
    "    ind=int(ind.split('#')[-1])\n",
    "    fn = fn.split('.tr')[0]\n",
    "    inds.append(ind); fns.append(fn)\n",
    "    \n",
    "    col = dic_dat[0]\n",
    "    ix=np.where(col==ind)[0]\n",
    "    i = int(col[ix][0]) ## dic index\n",
    "    # print ix,i\n",
    "\n",
    "    exx = dic_dat[5][ix]\n",
    "    eyy = dic_dat[7][ix]\n",
    "    exy = dic_dat[9][ix]\n",
    "    ezz = -exx-eyy    \n",
    "    f_fref.write(('%14s '+'%+11.5e '*4+'%5i \\n')%(fn, exx, eyy, exy, ezz,i))\n",
    "\n",
    "\n",
    "f_fref.close()\n",
    "print '-----------------------------------------------------------------------------------------------------'\n",
    "print fn_fref, 'has been created:\\n Use it for further stress analysis'\n",
    "print '-----------------------------------------------------------------------------------------------------'"
   ]
  },
  {
   "cell_type": "code",
   "execution_count": 10,
   "metadata": {
    "collapsed": false,
    "scrolled": true
   },
   "outputs": [
    {
     "name": "stdout",
     "output_type": "stream",
     "text": [
      "/Users/yj/Documents/ExpDat/IFSteel/Marciniak-X-ray-IF/YJ_BB_10times.sff  MajorStrainColumn: 2\n",
      "      filename          Exx          Eyy          Exy          Ezz   DIC\n",
      "  23JUL12_0006 +4.49093e-04 +1.66450e-04 -8.40580e-05 -6.15543e-04     5 \n",
      "  23JUL12_0006 +4.56908e-04 +1.52042e-04 -3.48485e-05 -6.08950e-04     6 \n",
      "  23JUL12_0007 +7.72097e-03 +7.05011e-03 +3.62222e-05 -1.47711e-02    73 \n",
      "  23JUL12_0007 +7.75133e-03 +7.00051e-03 -6.27964e-05 -1.47518e-02    74 \n",
      "  23JUL12_0008 +1.40819e-02 +1.34003e-02 -1.30738e-04 -2.74822e-02    95 \n",
      "  23JUL12_0008 +1.38960e-02 +1.33526e-02 +1.23826e-05 -2.72486e-02    96 \n",
      "  23JUL12_0009 +2.07105e-02 +1.97623e-02 +4.83531e-06 -4.04728e-02   114 \n",
      "  23JUL12_0009 +2.06086e-02 +1.98074e-02 +6.03670e-05 -4.04160e-02   115 \n",
      "  23JUL12_0010 +2.70324e-02 +2.61359e-02 +1.02968e-05 -5.31683e-02   130 \n",
      "  23JUL12_0010 +2.70675e-02 +2.61542e-02 +3.03520e-05 -5.32217e-02   131 \n",
      "  23JUL12_0011 +3.34216e-02 +3.23178e-02 +2.36974e-05 -6.57394e-02   145 \n",
      "  23JUL12_0011 +3.30996e-02 +3.23490e-02 +4.58058e-05 -6.54486e-02   146 \n",
      "  23JUL12_0012 +3.92194e-02 +3.82831e-02 +4.16971e-05 -7.75025e-02   159 \n",
      "  23JUL12_0012 +3.92822e-02 +3.83732e-02 +4.52485e-05 -7.76554e-02   160 \n",
      "  23JUL12_0013 +4.52796e-02 +4.41138e-02 +7.60297e-05 -8.93934e-02   172 \n",
      "  23JUL12_0013 +4.52274e-02 +4.41639e-02 +1.19061e-04 -8.93913e-02   173 \n",
      "  23JUL12_0014 +5.10527e-02 +4.96887e-02 +1.23534e-04 -1.00741e-01   184 \n",
      "  23JUL12_0014 +5.09219e-02 +4.97406e-02 +3.20976e-04 -1.00663e-01   185 \n",
      "  23JUL12_0015 +5.64843e-02 +5.52347e-02 +2.07535e-04 -1.11719e-01   196 \n",
      "  23JUL12_0015 +5.65948e-02 +5.54136e-02 +2.38778e-04 -1.12008e-01   197 \n",
      "  23JUL12_0016 +6.20611e-02 +6.06215e-02 +3.53387e-04 -1.22683e-01   207 \n",
      "  23JUL12_0016 +6.21158e-02 +6.06091e-02 +3.21842e-04 -1.22725e-01   208 \n",
      "  23JUL12_0017 +6.73085e-02 +6.58731e-02 +3.86325e-04 -1.33182e-01   217 \n",
      "  23JUL12_0017 +6.74140e-02 +6.58477e-02 +4.31080e-04 -1.33262e-01   218 \n",
      "  23JUL12_0018 +7.25311e-02 +7.08710e-02 +5.04254e-04 -1.43402e-01   227 \n",
      "  23JUL12_0018 +7.27202e-02 +7.10638e-02 +5.46913e-04 -1.43784e-01   228 \n",
      "  23JUL12_0019 +7.76367e-02 +7.59367e-02 +3.79312e-04 -1.53573e-01   238 \n",
      "  23JUL12_0019 +7.77680e-02 +7.60216e-02 +4.10234e-04 -1.53790e-01   239 \n",
      "  23JUL12_0020 +8.25541e-02 +8.06931e-02 +5.83342e-04 -1.63247e-01   247 \n",
      "  23JUL12_0020 +8.23714e-02 +8.05888e-02 +4.95430e-04 -1.62960e-01   248 \n",
      "  23JUL12_0021 +8.72888e-02 +8.53963e-02 +6.43513e-04 -1.72685e-01   257 \n",
      "\n"
     ]
    }
   ],
   "source": [
    "print os.popen('cat %s'%os.path.join(path,date,'f_fref.txt')).read()"
   ]
  },
  {
   "cell_type": "markdown",
   "metadata": {},
   "source": [
    "+ Running analyze_proto.main for the X-ray and DIC experiments to calculate\n",
    "  stress/strain"
   ]
  },
  {
   "cell_type": "code",
   "execution_count": 11,
   "metadata": {
    "collapsed": false
   },
   "outputs": [
    {
     "name": "stdout",
     "output_type": "stream",
     "text": [
      "---------------------------------------------\n",
      "Strain information where SF/IG were measured\n",
      "requires either fc or fn_str specified\n",
      "If not the strain column in fn_sf is used,\n",
      "subsequent analysis is performed by assuming\n",
      "that the sample is in equibiaxial strain\n",
      "---------------------------------------------\n",
      "\n",
      "Warning: overwrite the SF.flow / IG.flow\n",
      "\n",
      "#-----------------------------------------------------#\n",
      " Interpolate SF and IG for matching with D-spacings\n",
      "epsilon_vm:\n",
      "[ 0.00063681  0.00063388  0.01477616  0.01475821  0.02748502  0.02725041\n",
      "  0.0404765   0.04041865  0.05317082  0.05322431  0.06574249  0.06545003\n",
      "  0.07750439  0.07765717  0.08939593  0.08939341  0.10074448  0.10066481\n",
      "  0.11172133  0.11201048  0.12268542  0.12272798  0.13318418  0.13326477\n",
      "  0.1434053   0.14378718  0.15357654  0.15379291  0.16325074  0.16296345\n",
      "  0.17268856]\n",
      "Strain reference at which sf was measured:\n",
      "[ 0.    0.02  0.2   0.5   0.7 ]\n",
      "  ** Phi angles of SF are different **\n",
      "  ** Phi angles of IG are different **\n",
      "#-----------------------------------------------------#\n",
      "Warning: color map was not specified.\n",
      "Warning: color map was not specified.\n",
      "-----------------------------------\n",
      "Standard deviation in d_ehkl at istp=0\n",
      "\n",
      "phi:     -90        0       45      135  avg\n",
      "std: 1.0e-04  1.7e-04  1.8e-04  8.6e-05  1.4e-04 \n",
      "Elapsed time:  47 [sec]"
     ]
    }
   ],
   "source": [
    "## plastic strain of the points where the X-ray d-spacing\n",
    "## were meausured are important information that is utilized over the X ray analysis.\n",
    "## If, fc or fn_str are not given, the below application\n",
    "## bases on the strain given in the fref file -\n",
    "## the two major strain components are used with assumption\n",
    "## that the sample was in 'equi-biaxial' strain.\n",
    "\n",
    "t0=time.time()\n",
    "RS=analyze_proto.main(path=os.path.join(path,date,'Xray'),\n",
    "                   fn_sf=fn_sff,fref=os.path.join(path,date,'f_fref.txt'),\n",
    "                   ind_plot=True)\n",
    "uet(time.time()-t0)"
   ]
  },
  {
   "cell_type": "code",
   "execution_count": 12,
   "metadata": {
    "collapsed": false
   },
   "outputs": [
    {
     "data": {
      "image/png": "[encoded data removed]",
      "text/plain": [
       "<matplotlib.figure.Figure at 0x1061a9310>"
      ]
     },
     "metadata": {},
     "output_type": "display_data"
    }
   ],
   "source": [
    "\"\"\" \n",
    "RS.EXP.flow.epsilon, RS.flow.sigma\n",
    "\"\"\"\n",
    "mn=0;mx=0.8\n",
    "norm = mpl.colors.Normalize(vmin=mn,vmax=mx)\n",
    "cmap, m = mpl_lib.norm_cmap(mn=mn,mx=mx)\n",
    "\n",
    "fx=9\n",
    "fy=fx*0.35\n",
    "fig=plt.figure(figsize=(fx,fy))\n",
    "gs=GS(20,3,wspace=0.5)\n",
    "ax1=fig.add_subplot(gs[5:,0])\n",
    "ax2=fig.add_subplot(gs[5:,1])\n",
    "ax3=fig.add_subplot(gs[5:,2])\n",
    "\n",
    "nstp = RS.EXP.flow.nstp\n",
    "\n",
    "\n",
    "for istp in xrange(nstp):\n",
    "    c=m.to_rgba(RS.EXP.flow.epsilon_vm[istp])\n",
    "    ax2.plot(RS.flow.sigma[0,0][istp],RS.flow.sigma[1,1][istp],\n",
    "             'o',mec='k',mfc=c)\n",
    "    ax1.plot(RS.EXP.flow.epsilon_vm[istp],RS.flow.sigma_vm[istp],'o',c=c)\n",
    "# ax2.plot(RS.flow.sigma[0,0],RS.flow.sigma[1,1],'k--')\n",
    "\n",
    "ax3.plot(RS.EXP.flow.epsilon[0,0],RS.flow.sigma[0,0],'x',label=r'$\\mathrm{\\bar{\\Sigma}_{11} - \\bar{E}_{11}}$')\n",
    "ax3.plot(RS.EXP.flow.epsilon[1,1],RS.flow.sigma[1,1],'+',label=r'$\\mathrm{\\bar{\\Sigma}_{22} - \\bar{E}_{22}}$')\n",
    "\n",
    "\n",
    "for ax in fig.axes:\n",
    "    ax.set_ylim(0.,);ax.set_xlim(0.,)\n",
    "    ax.locator_params(nbins=4)\n",
    "    ax.grid()\n",
    "\n",
    "ax2.set_xlabel(r'$\\mathrm{\\bar{\\Sigma}_{11}}$')\n",
    "ax2.set_ylabel(r'$\\mathrm{\\bar{\\Sigma}_{22}}$')\n",
    "ax3.set_xlabel(r'$\\mathrm{\\bar{E}_{ii}}$')\n",
    "ax3.set_ylabel(r'$\\mathrm{\\bar{\\Sigma}_{ii}}$')\n",
    "ax1.set_xlabel(r'$\\mathrm{\\bar{E}_{VM}}$')\n",
    "ax1.set_ylabel(r'$\\mathrm{\\bar{\\Sigma}_{VM}}$')\n",
    "ax3.legend(loc='best',fontsize=9,numpoints=1,bbox_to_anchor=(1,0.9))\n",
    "\n",
    "\n",
    "axcb=fig.add_subplot(gs[0,1])\n",
    "cb=mpl.colorbar.ColorbarBase(axcb,cmap=cmap,orientation='horizontal',\n",
    "                          norm=norm,filled=True,format='%3.1f')\n",
    "# axcb.locator_params(nbins=4)\n",
    "axcb.set_xlabel(r'$\\mathrm{\\bar{E}_{VM}}$')\n",
    "cb.set_ticks(np.linspace(mn,mx,5))\n",
    "#mpl_lib.add_cb(ax=axcb,cmap=cmap, filled=True,\n",
    "#               format='%5.3f',norm=norm,\n",
    "#               ylab=r'$\\mathrm{\\bar{E}_{VM}}$')\n",
    "\n"
   ]
  },
  {
   "cell_type": "code",
   "execution_count": 14,
   "metadata": {
    "collapsed": false
   },
   "outputs": [
    {
     "name": "stdout",
     "output_type": "stream",
     "text": [
      "/Users/yj/Documents/ExpDat/IFSteel/Marciniak-X-ray-IF/BB/20120723/RS.pck\n",
      "/Users/yj/repo/FLD_DIC_XRAY/tutorials/XRD_analysis/IF_steel/BB/../../../pickles/RS_20120723.pck\n"
     ]
    }
   ],
   "source": [
    "import cPickle as pickle\n",
    "def save_object(obj, filename):\n",
    "    with open(filename, 'wb') as output:\n",
    "        pickle.dump(obj, output, pickle.HIGHEST_PROTOCOL)\n",
    "\n",
    "fn = os.path.join(path,date,'RS.pck')\n",
    "print fn\n",
    "save_object(obj=RS, filename=fn)\n",
    "\n",
    "fn = os.path.join('../../../pickles/RS_%s.pck'%date)\n",
    "print os.path.join(os.getcwd(),fn)\n",
    "save_object(obj=RS, filename=fn)"
   ]
  }
 ],
 "metadata": {
  "kernelspec": {
   "display_name": "Python 2",
   "language": "python",
   "name": "python2"
  },
  "language_info": {
   "codemirror_mode": {
    "name": "ipython",
    "version": 2
   },
   "file_extension": ".py",
   "mimetype": "text/x-python",
   "name": "python",
   "nbconvert_exporter": "python",
   "pygments_lexer": "ipython2",
   "version": "2.7.10"
  }
 },
 "nbformat": 4,
 "nbformat_minor": 0
}
