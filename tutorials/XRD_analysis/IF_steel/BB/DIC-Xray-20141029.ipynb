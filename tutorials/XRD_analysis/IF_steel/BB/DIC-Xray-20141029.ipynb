{
 "cells": [
  {
   "cell_type": "markdown",
   "metadata": {},
   "source": [
    "# Combine DIC data with X-ray in order to calculate multiaxial flow curve"
   ]
  },
  {
   "cell_type": "markdown",
   "metadata": {},
   "source": [
    "- Use pylab inline"
   ]
  },
  {
   "cell_type": "code",
   "execution_count": 1,
   "metadata": {
    "collapsed": false
   },
   "outputs": [
    {
     "name": "stdout",
     "output_type": "stream",
     "text": [
      "Populating the interactive namespace from numpy and matplotlib\n"
     ]
    }
   ],
   "source": [
    "%pylab inline"
   ]
  },
  {
   "cell_type": "markdown",
   "metadata": {},
   "source": [
    "- Dependents"
   ]
  },
  {
   "cell_type": "code",
   "execution_count": 2,
   "metadata": {
    "collapsed": false
   },
   "outputs": [],
   "source": [
    "import os, time\n",
    "from MP.mat import mech\n",
    "from glob import glob\n",
    "import RS\n",
    "reload(RS)\n",
    "from RS import sfig_class\n",
    "reload(sfig_class)\n",
    "\n",
    "from RS import analyze_proto,sff_plot\n",
    "import matplotlib as mpl\n",
    "from MP import progress_bar, lib\n",
    "from MP import mat\n",
    "mech=mat.mech\n",
    "\n",
    "mpl_lib=lib.mpl_lib\n",
    "uet=progress_bar.update_elapsed_time\n",
    "GS=mpl.gridspec.GridSpec\n",
    "fc=mat.mech.FlowCurve"
   ]
  },
  {
   "cell_type": "markdown",
   "metadata": {},
   "source": [
    "- Name of DIC files"
   ]
  },
  {
   "cell_type": "code",
   "execution_count": 3,
   "metadata": {
    "collapsed": false
   },
   "outputs": [],
   "source": [
    "date='20141029'\n",
    "path='/Users/yj/Documents/ExpDat/IFSteel/Marciniak-X-ray-IF/BB/'\n",
    "fn_DIC=os.path.join(path,date,'DIC/DIC_results.txt')\n",
    "dic_dat=np.loadtxt(fn_DIC,skiprows=1).T"
   ]
  },
  {
   "cell_type": "markdown",
   "metadata": {},
   "source": [
    "# Read lab note book in order to match Xray file and DIC index"
   ]
  },
  {
   "cell_type": "code",
   "execution_count": 4,
   "metadata": {
    "collapsed": false,
    "scrolled": true
   },
   "outputs": [
    {
     "name": "stdout",
     "output_type": "stream",
     "text": [
      "total 520\n",
      "8 -rw-------  1 yj  admin  1471 Mar 30 15:32 29OCT14_0002Data.txt\n",
      "8 -rw-------  1 yj  admin  3011 Mar 30 15:32 29OCT14_0002Data1Phi-135.txt\n",
      "8 -rw-------  1 yj  admin  3010 Mar 30 15:32 29OCT14_0002Data2Phi-45.txt\n",
      "8 -rw-------  1 yj  admin  3008 Mar 30 15:32 29OCT14_0002Data3Phi0.txt\n",
      "8 -rw-------  1 yj  admin  3008 Mar 30 15:32 29OCT14_0002Data4Phi90.txt\n",
      "8 -rw-------  1 yj  admin  1472 Mar 30 15:32 29OCT14_0003Data.txt\n",
      "8 -rw-------  1 yj  admin  3009 Mar 30 15:32 29OCT14_0003Data1Phi-135.txt\n",
      "8 -rw-------  1 yj  admin  3008 Mar 30 15:31 29OCT14_0003Data2Phi-45.txt\n",
      "8 -rw-------  1 yj  admin  3007 Mar 30 15:31 29OCT14_0003Data3Phi0.txt\n",
      "8 -rw-------  1 yj  admin  3007 Mar 30 15:31 29OCT14_0003Data4Phi90.txt\n",
      "8 -rw-------  1 yj  admin  1475 Mar 30 15:31 29OCT14_0004Data.txt\n",
      "8 -rw-------  1 yj  admin  3011 Mar 30 15:31 29OCT14_0004Data1Phi-135.txt\n",
      "8 -rw-------  1 yj  admin  3010 Mar 30 15:31 29OCT14_0004Data2Phi-45.txt\n",
      "8 -rw-------  1 yj  admin  3008 Mar 30 15:33 29OCT14_0004Data3Phi0.txt\n",
      "8 -rw-------  1 yj  admin  3009 Mar 30 15:33 29OCT14_0004Data4Phi90.txt\n",
      "8 -rw-------  1 yj  admin  1474 Mar 30 15:33 29OCT14_0005Data.txt\n",
      "8 -rw-------  1 yj  admin  3011 Mar 30 15:33 29OCT14_0005Data1Phi-135.txt\n",
      "8 -rw-------  1 yj  admin  3010 Mar 30 15:33 29OCT14_0005Data2Phi-45.txt\n",
      "8 -rw-------  1 yj  admin  3008 Mar 30 15:33 29OCT14_0005Data3Phi0.txt\n",
      "8 -rw-------  1 yj  admin  3009 Mar 30 15:33 29OCT14_0005Data4Phi90.txt\n",
      "8 -rw-------  1 yj  admin  1475 Mar 30 15:33 29OCT14_0006Data.txt\n",
      "8 -rw-------  1 yj  admin  3011 Mar 30 15:33 29OCT14_0006Data1Phi-135.txt\n",
      "8 -rw-------  1 yj  admin  3010 Mar 30 15:33 29OCT14_0006Data2Phi-45.txt\n",
      "8 -rw-------  1 yj  admin  3008 Mar 30 15:33 29OCT14_0006Data3Phi0.txt\n",
      "8 -rw-------  1 yj  admin  3009 Mar 30 15:33 29OCT14_0006Data4Phi90.txt\n",
      "8 -rw-------  1 yj  admin  1475 Mar 30 15:33 29OCT14_0007Data.txt\n",
      "8 -rw-------  1 yj  admin  3011 Mar 30 15:33 29OCT14_0007Data1Phi-135.txt\n",
      "8 -rw-------  1 yj  admin  3010 Mar 30 15:33 29OCT14_0007Data2Phi-45.txt\n",
      "8 -rw-------  1 yj  admin  3008 Mar 30 15:33 29OCT14_0007Data3Phi0.txt\n",
      "8 -rw-------  1 yj  admin  3009 Mar 30 15:33 29OCT14_0007Data4Phi90.txt\n",
      "8 -rw-------  1 yj  admin  1475 Mar 30 15:33 29OCT14_0008Data.txt\n",
      "8 -rw-------  1 yj  admin  3011 Mar 30 15:33 29OCT14_0008Data1Phi-135.txt\n",
      "8 -rw-------  1 yj  admin  3010 Mar 30 15:33 29OCT14_0008Data2Phi-45.txt\n",
      "8 -rw-------  1 yj  admin  3008 Mar 30 15:33 29OCT14_0008Data3Phi0.txt\n",
      "8 -rw-------  1 yj  admin  3009 Mar 30 15:33 29OCT14_0008Data4Phi90.txt\n",
      "8 -rw-------  1 yj  admin  1475 Mar 30 15:33 29OCT14_0009Data.txt\n",
      "8 -rw-------  1 yj  admin  3011 Mar 30 15:33 29OCT14_0009Data1Phi-135.txt\n",
      "8 -rw-------  1 yj  admin  3010 Mar 30 15:33 29OCT14_0009Data2Phi-45.txt\n",
      "8 -rw-------  1 yj  admin  3008 Mar 30 15:33 29OCT14_0009Data3Phi0.txt\n",
      "8 -rw-------  1 yj  admin  3009 Mar 30 15:33 29OCT14_0009Data4Phi90.txt\n",
      "8 -rw-------  1 yj  admin  1474 Mar 30 15:33 29OCT14_0010Data.txt\n",
      "8 -rw-------  1 yj  admin  3011 Mar 30 15:32 29OCT14_0010Data1Phi-135.txt\n",
      "8 -rw-------  1 yj  admin  3010 Mar 30 15:32 29OCT14_0010Data2Phi-45.txt\n",
      "8 -rw-------  1 yj  admin  3008 Mar 30 15:32 29OCT14_0010Data3Phi0.txt\n",
      "8 -rw-------  1 yj  admin  3009 Mar 30 15:32 29OCT14_0010Data4Phi90.txt\n",
      "8 -rw-------  1 yj  admin  1474 Mar 30 15:32 29OCT14_0011Data.txt\n",
      "8 -rw-------  1 yj  admin  3011 Mar 30 15:32 29OCT14_0011Data1Phi-135.txt\n",
      "8 -rw-------  1 yj  admin  3010 Mar 30 15:32 29OCT14_0011Data2Phi-45.txt\n",
      "8 -rw-------  1 yj  admin  3008 Mar 30 15:32 29OCT14_0011Data3Phi0.txt\n",
      "8 -rw-------  1 yj  admin  3009 Mar 30 15:32 29OCT14_0011Data4Phi90.txt\n",
      "8 -rw-------  1 yj  admin  1475 Mar 30 15:32 29OCT14_0012Data.txt\n",
      "8 -rw-------  1 yj  admin  3011 Mar 30 15:32 29OCT14_0012Data1Phi-135.txt\n",
      "8 -rw-------  1 yj  admin  3010 Mar 30 15:32 29OCT14_0012Data2Phi-45.txt\n",
      "8 -rw-------  1 yj  admin  3008 Mar 30 15:32 29OCT14_0012Data3Phi0.txt\n",
      "8 -rw-------  1 yj  admin  3009 Mar 30 15:32 29OCT14_0012Data4Phi90.txt\n",
      "8 -rw-------  1 yj  admin  1470 Mar 30 15:32 29OCT14_0013Data.txt\n",
      "8 -rw-------  1 yj  admin  3007 Mar 30 15:32 29OCT14_0013Data1Phi-135.txt\n",
      "8 -rw-------  1 yj  admin  3006 Mar 30 15:32 29OCT14_0013Data2Phi-45.txt\n",
      "8 -rw-------  1 yj  admin  3004 Mar 30 15:32 29OCT14_0013Data3Phi0.txt\n",
      "8 -rw-------  1 yj  admin  3005 Mar 30 15:32 29OCT14_0013Data4Phi90.txt\n",
      "8 -rw-------  1 yj  admin  1473 Mar 30 15:32 29OCT14_0014Data.txt\n",
      "8 -rw-------  1 yj  admin  3010 Mar 30 15:32 29OCT14_0014Data1Phi-135.txt\n",
      "8 -rw-------  1 yj  admin  3009 Mar 30 15:32 29OCT14_0014Data2Phi-45.txt\n",
      "8 -rw-------  1 yj  admin  3007 Mar 30 15:32 29OCT14_0014Data3Phi0.txt\n",
      "8 -rw-------  1 yj  admin  3009 Mar 30 15:32 29OCT14_0014Data4Phi90.txt\n",
      "\n"
     ]
    }
   ],
   "source": [
    "print os.popen('ls -ls %s'%os.path.join(path,date,'Xray')).read()"
   ]
  },
  {
   "cell_type": "markdown",
   "metadata": {},
   "source": [
    "- Making a fref file for Proto data analysis"
   ]
  },
  {
   "cell_type": "code",
   "execution_count": 5,
   "metadata": {
    "collapsed": false
   },
   "outputs": [
    {
     "name": "stdout",
     "output_type": "stream",
     "text": [
      "--------------------------------------------------\n",
      "/Users/yj/Documents/ExpDat/IFSteel/Marciniak-X-ray-IF/BB/20141029/f_fref.txt has been created:\n",
      " Use it for further stress analysis\n",
      "--------------------------------------------------\n"
     ]
    }
   ],
   "source": [
    "# ------------------------------------------------------------------------\n",
    "# Find suitable experimental stress factor file\n",
    "#fn_sff='/Users/yj/GoogleDrive/expdat/Marciniak-X-ray-IF/YJ_BB_10times.sff'\n",
    "fn_sff='/Users/yj/Documents/ExpDat/IFSteel/Marciniak-X-ray-IF/YJ_BB_10times.sff'\n",
    "\n",
    "\n",
    "# ------------------------------------------------------------------------\n",
    "# Refer to Laboratory notebook to match up the X-ray data filename \n",
    "# and DIC image number\n",
    "DIC_XRD=\"\"\"#7 29OCT14_0003.tr\n",
    "#8    29OCT14_0003.tr\n",
    "#203  29OCT14_0004.tr\n",
    "#204  29OCT14_0004.tr\n",
    "#205  29OCT14_0005.tr\n",
    "#206  29OCT14_0005.tr\n",
    "#206  29OCT14_0005.tr\n",
    "#207  29OCT14_0006.tr\n",
    "#208  29OCT14_0006.tr\n",
    "#209  29OCT14_0007.tr\n",
    "#210  29OCT14_0007.tr\n",
    "#211  29OCT14_0008.tr\n",
    "#212  29OCT14_0008.tr\n",
    "#213  29OCT14_0009.tr\n",
    "#214  29OCT14_0009.tr\n",
    "#215  29OCT14_0010.tr\n",
    "#216  29OCT14_0010.tr\n",
    "#217  29OCT14_0011.tr\n",
    "#218  29OCT14_0011.tr\n",
    "#219  29OCT14_0012.tr\n",
    "#220  29OCT14_0012.tr\n",
    "#221  29OCT14_0013.tr\n",
    "#222  29OCT14_0013.tr\n",
    "#223  29OCT14_0014.tr\"\"\"\n",
    "\n",
    "# ------------------------------------------------------------------------\n",
    "\n",
    "fn_fref=fn_DIC.split('DIC')[0]+'f_fref.txt'\n",
    "f_fref=open(fn_fref,'w')\n",
    "\n",
    "f_fref.write(fn_sff)\n",
    "f_fref.write('  MajorStrainColumn: 2\\n')\n",
    "f_fref.write(('%14s'+'%12s '*4+' %5s'+'%12s '*4+' %14s\\n')%(\n",
    "        'filename','Exx','Eyy','Exy','Ezz','DIC','Exx_e','Eyye','SIG_a','SIG_e','Date'))\n",
    "lines=DIC_XRD.split('\\n')\n",
    "inds = []; fns = []\n",
    "\n",
    "## flow curve obj\n",
    "myfc=fc()\n",
    "Ex,Ey,Exy,Ez=[],[],[],[]\n",
    "\n",
    "Ex_std =[]\n",
    "Ey_std =[]\n",
    "DIC_sigma_avg=[]; DIC_sigma_std=[]\n",
    "\n",
    "for line in lines:\n",
    "    ind,fn=line.split()\n",
    "    ind=int(ind.split('#')[-1])\n",
    "    fn = fn.split('.tr')[0]\n",
    "    inds.append(ind); fns.append(fn)\n",
    "    \n",
    "    col = dic_dat[0]\n",
    "    ix=np.where(col==ind)[0]\n",
    "    i = int(col[ix][0]) ## dic index\n",
    "    # print ix,i\n",
    "\n",
    "    exx = dic_dat[5][ix]\n",
    "    eyy = dic_dat[7][ix]\n",
    "    exy = dic_dat[9][ix]\n",
    "    ezz = -exx-eyy    \n",
    "    # -----------------------------------------\n",
    "    \"\"\" Additional elements...\"\"\"\n",
    "    exx_std       = dic_dat[6][ix]\n",
    "    eyy_std       = dic_dat[8][ix]\n",
    "    DIC_sigma_a   = dic_dat[11][ix]\n",
    "    DIC_sigma_e   = dic_dat[12][ix]\n",
    "    # -----------------------------------------\n",
    "\n",
    "    f_fref.write(('%14s '+'%+11.5e '*4+'%5i '+'%+11.5e '*4+' %14s\\n')%(\n",
    "            fn, exx, eyy, exy, ezz,i,exx_std,eyy_std,DIC_sigma_e,DIC_sigma_e,date))\n",
    "    Ex.append(exx);Ey.append(eyy);Exy.append(exy);Ez.append(ezz)\n",
    "    Ex_std.append(exx_std)\n",
    "    Ey_std.append(eyy_std)\n",
    "    DIC_sigma_avg.append(DIC_sigma_a)\n",
    "    DIC_sigma_std.append(DIC_sigma_e)\n",
    "\n",
    "myfc.get_strain(Ex,0,0)\n",
    "myfc.get_strain(Ey,1,1)\n",
    "myfc.get_strain(Exy,0,1)\n",
    "myfc.get_strain(Exy,1,0)\n",
    "myfc.get_strain(Ez,2,2)\n",
    "myfc.set_zero_epsilon_ij(2,1)\n",
    "myfc.set_zero_epsilon_ij(0,2)\n",
    "myfc.get_vm_strain()\n",
    "myfc.get_vm_stress()\n",
    "\n",
    "myfc.DIC_sigma_avg=DIC_sigma_avg\n",
    "myfc.DIC_sigma_std=DIC_sigma_std\n",
    "myfc.Ex_std=Ex_std\n",
    "myfc.Ey_std=Ey_std\n",
    "\n",
    "f_fref.close()\n",
    "print '-'*50\n",
    "print fn_fref, 'has been created:\\n Use it for further stress analysis'\n",
    "print '-'*50"
   ]
  },
  {
   "cell_type": "code",
   "execution_count": 6,
   "metadata": {
    "collapsed": false,
    "scrolled": true
   },
   "outputs": [
    {
     "name": "stdout",
     "output_type": "stream",
     "text": [
      "/Users/yj/Documents/ExpDat/IFSteel/Marciniak-X-ray-IF/YJ_BB_10times.sff  MajorStrainColumn: 2\n",
      "      filename         Exx          Eyy          Exy          Ezz    DIC       Exx_e         Eyye        SIG_a        SIG_e            Date\n",
      "  29OCT14_0003 +3.31829e-05 +1.55940e-04 +2.03186e-04 -1.89123e-04     7 +8.61690e-04 +4.47834e-04 +8.82581e-04 +8.82581e-04        20141029\n",
      "  29OCT14_0003 +5.55872e-05 +1.95862e-04 +1.93017e-04 -2.51449e-04     8 +8.65209e-04 +4.62892e-04 +8.86442e-04 +8.86442e-04        20141029\n",
      "  29OCT14_0004 +9.19757e-02 +9.06326e-02 +6.87664e-04 -1.82608e-01   203 +2.49612e-03 +2.06815e-03 +1.06233e-03 +1.06233e-03        20141029\n",
      "\n"
     ]
    }
   ],
   "source": [
    "print os.popen('head -n 5 %s'%os.path.join(path,date,'f_fref.txt')).read()"
   ]
  },
  {
   "cell_type": "markdown",
   "metadata": {},
   "source": [
    "+ Running analyze_proto.main for the X-ray and DIC experiments to calculate\n",
    "  stress/strain"
   ]
  },
  {
   "cell_type": "code",
   "execution_count": 7,
   "metadata": {
    "collapsed": false
   },
   "outputs": [
    {
     "name": "stdout",
     "output_type": "stream",
     "text": [
      "---------------------------------------------\n",
      "Strain information where SF/IG were measured\n",
      "requires either fc or fn_str specified\n",
      "If not the strain column in fn_sf is used,\n",
      "subsequent analysis is performed by assuming\n",
      "that the sample is in equibiaxial strain\n",
      "---------------------------------------------\n",
      "\n",
      "Warning: overwrite the SF.flow / IG.flow\n",
      "\n",
      "#-----------------------------------------------------#\n",
      " Interpolate SF and IG for matching with D-spacings\n",
      "epsilon_vm:\n",
      "[  2.01966763e-04   2.64169844e-04   1.82609946e-01   1.82704813e-01\n",
      "   3.69646009e-01   3.69767016e-01   3.69767016e-01   5.44497584e-01\n",
      "   5.44522641e-01   6.01076593e-01   6.01328695e-01   6.63155353e-01\n",
      "   6.63322126e-01   7.16025809e-01   7.16115266e-01   7.68082803e-01\n",
      "   7.68175113e-01   7.94891367e-01   7.94885003e-01   8.22347387e-01\n",
      "   8.22385461e-01   8.36239849e-01   8.36483319e-01   8.32707764e-01]\n",
      "Strain reference at which sf was measured:\n",
      "[ 0.    0.02  0.2   0.5   0.7 ]\n",
      "  ** Phi angles of SF are different **\n",
      "  ** Phi angles of IG are different **\n",
      "#-----------------------------------------------------#\n",
      "Warning: color map was not specified.\n",
      "Warning: color map was not specified.\n",
      "-----------------------------------\n",
      "Standard deviation in d_ehkl at istp=0\n",
      "\n",
      "phi:    -135      -45        0       90  avg\n",
      "std: 7.3e-05  6.4e-05  8.6e-05  6.9e-05  7.3e-05 \n",
      "Elapsed time:  33 [sec]"
     ]
    }
   ],
   "source": [
    "## plastic strain of the points where the X-ray d-spacing\n",
    "## were meausured are important information that is utilized over the X ray analysis.\n",
    "## If, fc or fn_str are not given, the below application\n",
    "## bases on the strain given in the fref file -\n",
    "## the two major strain components are used with assumption\n",
    "## that the sample was in 'equi-biaxial' strain.\n",
    "t0=time.time()\n",
    "RS=analyze_proto.main(path=os.path.join(path,date,'Xray'),\n",
    "                   fn_sf=fn_sff,fref=os.path.join(path,date,'f_fref.txt'),\n",
    "                   ind_plot=True)\n",
    "uet(time.time()-t0)"
   ]
  },
  {
   "cell_type": "code",
   "execution_count": 8,
   "metadata": {
    "collapsed": false
   },
   "outputs": [
    {
     "data": {
      "image/png": "[encoded data removed]",
      "text/plain": [
       "<matplotlib.figure.Figure at 0x10677b910>"
      ]
     },
     "metadata": {},
     "output_type": "display_data"
    }
   ],
   "source": [
    "\"\"\" \n",
    "RS.EXP.flow.epsilon, RS.flow.sigma\n",
    "\"\"\"\n",
    "mn=0;mx=0.8\n",
    "norm = mpl.colors.Normalize(vmin=mn,vmax=mx)\n",
    "cmap, m = mpl_lib.norm_cmap(mn=mn,mx=mx)\n",
    "\n",
    "fx=9\n",
    "fy=fx*0.35\n",
    "fig=plt.figure(figsize=(fx,fy))\n",
    "gs=GS(20,3,wspace=0.5)\n",
    "ax1=fig.add_subplot(gs[5:,0])\n",
    "ax2=fig.add_subplot(gs[5:,1])\n",
    "ax3=fig.add_subplot(gs[5:,2])\n",
    "\n",
    "nstp = RS.EXP.flow.nstp\n",
    "\n",
    "\n",
    "for istp in xrange(nstp):\n",
    "    c=m.to_rgba(RS.EXP.flow.epsilon_vm[istp])\n",
    "    ax2.plot(RS.flow.sigma[0,0][istp],RS.flow.sigma[1,1][istp],\n",
    "             'o',mec='k',mfc=c)\n",
    "    ax1.plot(RS.EXP.flow.epsilon_vm[istp],RS.flow.sigma_vm[istp],'o',c=c)\n",
    "# ax2.plot(RS.flow.sigma[0,0],RS.flow.sigma[1,1],'k--')\n",
    "\n",
    "ax3.plot(RS.EXP.flow.epsilon[0,0],RS.flow.sigma[0,0],'x',label=r'$\\mathrm{\\bar{\\Sigma}_{11} - \\bar{E}_{11}}$')\n",
    "ax3.plot(RS.EXP.flow.epsilon[1,1],RS.flow.sigma[1,1],'+',label=r'$\\mathrm{\\bar{\\Sigma}_{22} - \\bar{E}_{22}}$')\n",
    "\n",
    "\n",
    "for ax in fig.axes:\n",
    "    ax.set_ylim(0.,);ax.set_xlim(0.,)\n",
    "    ax.locator_params(nbins=4)\n",
    "    ax.grid()\n",
    "\n",
    "ax2.set_xlabel(r'$\\mathrm{\\bar{\\Sigma}_{11}}$')\n",
    "ax2.set_ylabel(r'$\\mathrm{\\bar{\\Sigma}_{22}}$')\n",
    "ax3.set_xlabel(r'$\\mathrm{\\bar{E}_{ii}}$')\n",
    "ax3.set_ylabel(r'$\\mathrm{\\bar{\\Sigma}_{ii}}$')\n",
    "ax1.set_xlabel(r'$\\mathrm{\\bar{E}_{VM}}$')\n",
    "ax1.set_ylabel(r'$\\mathrm{\\bar{\\Sigma}_{VM}}$')\n",
    "ax3.legend(loc='best',fontsize=9,numpoints=1,bbox_to_anchor=(1,0.9))\n",
    "\n",
    "\n",
    "axcb=fig.add_subplot(gs[0,1])\n",
    "cb=mpl.colorbar.ColorbarBase(axcb,cmap=cmap,orientation='horizontal',\n",
    "                          norm=norm,filled=True,format='%3.1f')\n",
    "# axcb.locator_params(nbins=4)\n",
    "axcb.set_xlabel(r'$\\mathrm{\\bar{E}_{VM}}$')\n",
    "cb.set_ticks(np.linspace(mn,mx,5))\n",
    "#mpl_lib.add_cb(ax=axcb,cmap=cmap, filled=True,\n",
    "#               format='%5.3f',norm=norm,\n",
    "#               ylab=r'$\\mathrm{\\bar{E}_{VM}}$')\n",
    "\n"
   ]
  },
  {
   "cell_type": "markdown",
   "metadata": {},
   "source": [
    "- Pickle the object 'RS' and save to a file"
   ]
  },
  {
   "cell_type": "code",
   "execution_count": 9,
   "metadata": {
    "collapsed": false
   },
   "outputs": [
    {
     "name": "stdout",
     "output_type": "stream",
     "text": [
      "/Users/yj/Documents/ExpDat/IFSteel/Marciniak-X-ray-IF/BB/20141029/RS.pck\n",
      "/Users/yj/repo/FLD_DIC_XRAY/tutorials/XRD_analysis/IF_steel/BB/../../../pickles/RS_20141029.pck\n",
      "/Users/yj/repo/FLD_DIC_XRAY/tutorials/XRD_analysis/IF_steel/BB/../../../pickles/RS_DIC_20141029.pck\n"
     ]
    }
   ],
   "source": [
    "import cPickle as pickle\n",
    "def save_object(obj, filename):\n",
    "    with open(filename, 'wb') as output:\n",
    "        pickle.dump(obj, output, pickle.HIGHEST_PROTOCOL)\n",
    "\n",
    "fn = os.path.join(path,date,'RS.pck')\n",
    "print fn\n",
    "save_object(obj=RS, filename=fn)\n",
    "\n",
    "fn = os.path.join('../../../pickles/RS_%s.pck'%date)\n",
    "print os.path.join(os.getcwd(),fn)\n",
    "save_object(obj=RS, filename=fn)\n",
    "\n",
    "\n",
    "fn = os.path.join('../../../pickles/RS_DIC_%s.pck'%date)\n",
    "print os.path.join(os.getcwd(),fn)\n",
    "save_object(obj=myfc, filename=fn)"
   ]
  }
 ],
 "metadata": {
  "kernelspec": {
   "display_name": "Python 2",
   "language": "python",
   "name": "python2"
  },
  "language_info": {
   "codemirror_mode": {
    "name": "ipython",
    "version": 2
   },
   "file_extension": ".py",
   "mimetype": "text/x-python",
   "name": "python",
   "nbconvert_exporter": "python",
   "pygments_lexer": "ipython2",
   "version": "2.7.10"
  }
 },
 "nbformat": 4,
 "nbformat_minor": 0
}
