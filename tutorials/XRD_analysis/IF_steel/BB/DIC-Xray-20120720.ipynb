{
 "cells": [
  {
   "cell_type": "markdown",
   "metadata": {},
   "source": [
    "# Combine DIC data with X-ray in order to calculate multiaxial flow curve"
   ]
  },
  {
   "cell_type": "markdown",
   "metadata": {},
   "source": [
    "- Use pylab inline"
   ]
  },
  {
   "cell_type": "code",
   "execution_count": 1,
   "metadata": {
    "collapsed": false
   },
   "outputs": [
    {
     "name": "stdout",
     "output_type": "stream",
     "text": [
      "Populating the interactive namespace from numpy and matplotlib\n"
     ]
    }
   ],
   "source": [
    "%pylab inline"
   ]
  },
  {
   "cell_type": "markdown",
   "metadata": {},
   "source": [
    "- Dependents"
   ]
  },
  {
   "cell_type": "code",
   "execution_count": 2,
   "metadata": {
    "collapsed": false
   },
   "outputs": [],
   "source": [
    "import os\n",
    "from glob import glob\n",
    "from RS import analyze_proto\n",
    "import matplotlib as mpl\n",
    "import time\n",
    "from MP import progress_bar, lib\n",
    "mpl_lib=lib.mpl_lib\n",
    "uet=progress_bar.update_elapsed_time\n",
    "GS=mpl.gridspec.GridSpec"
   ]
  },
  {
   "cell_type": "markdown",
   "metadata": {},
   "source": [
    "- Name of DIC files"
   ]
  },
  {
   "cell_type": "code",
   "execution_count": 3,
   "metadata": {
    "collapsed": false
   },
   "outputs": [],
   "source": [
    "date='20120720'\n",
    "path='/Users/yj/Documents/ExpDat/IFSteel/Marciniak-X-ray-IF/BB/'\n",
    "fn_DIC=os.path.join(path,date,'DIC/DIC_results.txt')\n",
    "dic_dat=np.loadtxt(fn_DIC,skiprows=1).T"
   ]
  },
  {
   "cell_type": "markdown",
   "metadata": {},
   "source": [
    "# Read lab note book in order to match Xray file and DIC index"
   ]
  },
  {
   "cell_type": "code",
   "execution_count": 4,
   "metadata": {
    "collapsed": false,
    "scrolled": true
   },
   "outputs": [
    {
     "name": "stdout",
     "output_type": "stream",
     "text": [
      "total 800\n",
      "8 -rw-------  1 yj  admin  1448 Mar 30 15:41 20JUL12_0002Data.txt\n",
      "8 -rw-------  1 yj  admin  2985 Mar 30 15:41 20JUL12_0002Data1Phi-90.txt\n",
      "8 -rw-------  1 yj  admin  2982 Mar 30 15:41 20JUL12_0002Data2Phi0.txt\n",
      "8 -rw-------  1 yj  admin  2983 Mar 30 15:41 20JUL12_0002Data3Phi45.txt\n",
      "8 -rw-------  1 yj  admin  2983 Mar 30 15:41 20JUL12_0002Data4Phi135.txt\n",
      "8 -rw-------  1 yj  admin  1446 Mar 30 15:41 20JUL12_0005Data.txt\n",
      "8 -rw-------  1 yj  admin  2983 Mar 30 15:41 20JUL12_0005Data1Phi-90.txt\n",
      "8 -rw-------  1 yj  admin  2982 Mar 30 15:41 20JUL12_0005Data2Phi0.txt\n",
      "8 -rw-------  1 yj  admin  2983 Mar 30 15:41 20JUL12_0005Data3Phi45.txt\n",
      "8 -rw-------  1 yj  admin  2983 Mar 30 15:40 20JUL12_0005Data4Phi135.txt\n",
      "8 -rw-------  1 yj  admin  1447 Mar 30 15:40 20JUL12_0006Data.txt\n",
      "8 -rw-------  1 yj  admin  2983 Mar 30 15:40 20JUL12_0006Data1Phi-90.txt\n",
      "8 -rw-------  1 yj  admin  2980 Mar 30 15:40 20JUL12_0006Data2Phi0.txt\n",
      "8 -rw-------  1 yj  admin  2981 Mar 30 15:40 20JUL12_0006Data3Phi45.txt\n",
      "8 -rw-------  1 yj  admin  2982 Mar 30 15:40 20JUL12_0006Data4Phi135.txt\n",
      "8 -rw-------  1 yj  admin  1448 Mar 30 15:40 20JUL12_0007Data.txt\n",
      "8 -rw-------  1 yj  admin  2982 Mar 30 15:40 20JUL12_0007Data1Phi-90.txt\n",
      "8 -rw-------  1 yj  admin  2981 Mar 30 15:40 20JUL12_0007Data2Phi0.txt\n",
      "8 -rw-------  1 yj  admin  2982 Mar 30 15:40 20JUL12_0007Data3Phi45.txt\n",
      "8 -rw-------  1 yj  admin  2983 Mar 30 15:40 20JUL12_0007Data4Phi135.txt\n",
      "8 -rw-------  1 yj  admin  1448 Mar 30 15:40 20JUL12_0008Data.txt\n",
      "8 -rw-------  1 yj  admin  2982 Mar 30 15:40 20JUL12_0008Data1Phi-90.txt\n",
      "8 -rw-------  1 yj  admin  2981 Mar 30 15:40 20JUL12_0008Data2Phi0.txt\n",
      "8 -rw-------  1 yj  admin  2982 Mar 30 15:40 20JUL12_0008Data3Phi45.txt\n",
      "8 -rw-------  1 yj  admin  2983 Mar 30 15:40 20JUL12_0008Data4Phi135.txt\n",
      "8 -rw-------  1 yj  admin  1448 Mar 30 15:40 20JUL12_0009Data.txt\n",
      "8 -rw-------  1 yj  admin  2982 Mar 30 15:40 20JUL12_0009Data1Phi-90.txt\n",
      "8 -rw-------  1 yj  admin  2981 Mar 30 15:40 20JUL12_0009Data2Phi0.txt\n",
      "8 -rw-------  1 yj  admin  2982 Mar 30 15:40 20JUL12_0009Data3Phi45.txt\n",
      "8 -rw-------  1 yj  admin  2983 Mar 30 15:40 20JUL12_0009Data4Phi135.txt\n",
      "8 -rw-------  1 yj  admin  1448 Mar 30 15:40 20JUL12_0011Data.txt\n",
      "8 -rw-------  1 yj  admin  2983 Mar 30 15:40 20JUL12_0011Data1Phi-90.txt\n",
      "8 -rw-------  1 yj  admin  2981 Mar 30 15:39 20JUL12_0011Data2Phi0.txt\n",
      "8 -rw-------  1 yj  admin  2982 Mar 30 15:39 20JUL12_0011Data3Phi45.txt\n",
      "8 -rw-------  1 yj  admin  2983 Mar 30 15:39 20JUL12_0011Data4Phi135.txt\n",
      "8 -rw-------  1 yj  admin  1448 Mar 30 15:39 20JUL12_0012Data.txt\n",
      "8 -rw-------  1 yj  admin  2982 Mar 30 15:39 20JUL12_0012Data1Phi-90.txt\n",
      "8 -rw-------  1 yj  admin  2981 Mar 30 15:39 20JUL12_0012Data2Phi0.txt\n",
      "8 -rw-------  1 yj  admin  2982 Mar 30 15:39 20JUL12_0012Data3Phi45.txt\n",
      "8 -rw-------  1 yj  admin  2983 Mar 30 15:39 20JUL12_0012Data4Phi135.txt\n",
      "8 -rw-------  1 yj  admin  1447 Mar 30 15:39 20JUL12_0013Data.txt\n",
      "8 -rw-------  1 yj  admin  2983 Mar 30 15:39 20JUL12_0013Data1Phi-90.txt\n",
      "8 -rw-------  1 yj  admin  2981 Mar 30 15:39 20JUL12_0013Data2Phi0.txt\n",
      "8 -rw-------  1 yj  admin  2982 Mar 30 15:39 20JUL12_0013Data3Phi45.txt\n",
      "8 -rw-------  1 yj  admin  2983 Mar 30 15:39 20JUL12_0013Data4Phi135.txt\n",
      "8 -rw-------  1 yj  admin  1449 Mar 30 15:43 20JUL12_0014Data.txt\n",
      "8 -rw-------  1 yj  admin  2983 Mar 30 15:43 20JUL12_0014Data1Phi-90.txt\n",
      "8 -rw-------  1 yj  admin  2981 Mar 30 15:43 20JUL12_0014Data2Phi0.txt\n",
      "8 -rw-------  1 yj  admin  2982 Mar 30 15:43 20JUL12_0014Data3Phi45.txt\n",
      "8 -rw-------  1 yj  admin  2983 Mar 30 15:43 20JUL12_0014Data4Phi135.txt\n",
      "8 -rw-------  1 yj  admin  1447 Mar 30 15:43 20JUL12_0015Data.txt\n",
      "8 -rw-------  1 yj  admin  2983 Mar 30 15:43 20JUL12_0015Data1Phi-90.txt\n",
      "8 -rw-------  1 yj  admin  2981 Mar 30 15:42 20JUL12_0015Data2Phi0.txt\n",
      "8 -rw-------  1 yj  admin  2982 Mar 30 15:42 20JUL12_0015Data3Phi45.txt\n",
      "8 -rw-------  1 yj  admin  2983 Mar 30 15:42 20JUL12_0015Data4Phi135.txt\n",
      "8 -rw-------  1 yj  admin  1447 Mar 30 15:42 20JUL12_0016Data.txt\n",
      "8 -rw-------  1 yj  admin  2983 Mar 30 15:42 20JUL12_0016Data1Phi-90.txt\n",
      "8 -rw-------  1 yj  admin  2981 Mar 30 15:42 20JUL12_0016Data2Phi0.txt\n",
      "8 -rw-------  1 yj  admin  2982 Mar 30 15:42 20JUL12_0016Data3Phi45.txt\n",
      "8 -rw-------  1 yj  admin  2983 Mar 30 15:42 20JUL12_0016Data4Phi135.txt\n",
      "8 -rw-------  1 yj  admin  1447 Mar 30 15:42 20JUL12_0017Data.txt\n",
      "8 -rw-------  1 yj  admin  2983 Mar 30 15:42 20JUL12_0017Data1Phi-90.txt\n",
      "8 -rw-------  1 yj  admin  2981 Mar 30 15:42 20JUL12_0017Data2Phi0.txt\n",
      "8 -rw-------  1 yj  admin  2982 Mar 30 15:42 20JUL12_0017Data3Phi45.txt\n",
      "8 -rw-------  1 yj  admin  2983 Mar 30 15:42 20JUL12_0017Data4Phi135.txt\n",
      "8 -rw-------  1 yj  admin  1448 Mar 30 15:42 20JUL12_0018Data.txt\n",
      "8 -rw-------  1 yj  admin  2983 Mar 30 15:42 20JUL12_0018Data1Phi-90.txt\n",
      "8 -rw-------  1 yj  admin  2981 Mar 30 15:42 20JUL12_0018Data2Phi0.txt\n",
      "8 -rw-------  1 yj  admin  2982 Mar 30 15:42 20JUL12_0018Data3Phi45.txt\n",
      "8 -rw-------  1 yj  admin  2983 Mar 30 15:42 20JUL12_0018Data4Phi135.txt\n",
      "8 -rw-------  1 yj  admin  1448 Mar 30 15:42 20JUL12_0019Data.txt\n",
      "8 -rw-------  1 yj  admin  2983 Mar 30 15:42 20JUL12_0019Data1Phi-90.txt\n",
      "8 -rw-------  1 yj  admin  2981 Mar 30 15:42 20JUL12_0019Data2Phi0.txt\n",
      "8 -rw-------  1 yj  admin  2982 Mar 30 15:42 20JUL12_0019Data3Phi45.txt\n",
      "8 -rw-------  1 yj  admin  2983 Mar 30 15:42 20JUL12_0019Data4Phi135.txt\n",
      "8 -rw-------  1 yj  admin  1448 Mar 30 15:42 20JUL12_0020Data.txt\n",
      "8 -rw-------  1 yj  admin  2983 Mar 30 15:42 20JUL12_0020Data1Phi-90.txt\n",
      "8 -rw-------  1 yj  admin  2981 Mar 30 15:42 20JUL12_0020Data2Phi0.txt\n",
      "8 -rw-------  1 yj  admin  2982 Mar 30 15:42 20JUL12_0020Data3Phi45.txt\n",
      "8 -rw-------  1 yj  admin  2983 Mar 30 15:42 20JUL12_0020Data4Phi135.txt\n",
      "8 -rw-------  1 yj  admin  1447 Mar 30 15:42 20JUL12_0021Data.txt\n",
      "8 -rw-------  1 yj  admin  2983 Mar 30 15:42 20JUL12_0021Data1Phi-90.txt\n",
      "8 -rw-------  1 yj  admin  2981 Mar 30 15:41 20JUL12_0021Data2Phi0.txt\n",
      "8 -rw-------  1 yj  admin  2982 Mar 30 15:41 20JUL12_0021Data3Phi45.txt\n",
      "8 -rw-------  1 yj  admin  2983 Mar 30 15:41 20JUL12_0021Data4Phi135.txt\n",
      "8 -rw-------  1 yj  admin  1447 Mar 30 15:41 20JUL12_0022Data.txt\n",
      "8 -rw-------  1 yj  admin  2983 Mar 30 15:41 20JUL12_0022Data1Phi-90.txt\n",
      "8 -rw-------  1 yj  admin  2981 Mar 30 15:41 20JUL12_0022Data2Phi0.txt\n",
      "8 -rw-------  1 yj  admin  2982 Mar 30 15:41 20JUL12_0022Data3Phi45.txt\n",
      "8 -rw-------  1 yj  admin  2983 Mar 30 15:41 20JUL12_0022Data4Phi135.txt\n",
      "8 -rw-------  1 yj  admin  1448 Mar 30 15:41 20JUL12_0023Data.txt\n",
      "8 -rw-------  1 yj  admin  2983 Mar 30 15:41 20JUL12_0023Data1Phi-90.txt\n",
      "8 -rw-------  1 yj  admin  2981 Mar 30 15:41 20JUL12_0023Data2Phi0.txt\n",
      "8 -rw-------  1 yj  admin  2982 Mar 30 15:41 20JUL12_0023Data3Phi45.txt\n",
      "8 -rw-------  1 yj  admin  2983 Mar 30 15:41 20JUL12_0023Data4Phi135.txt\n",
      "8 -rw-------  1 yj  admin  1448 Mar 30 15:41 20JUL12_0024Data.txt\n",
      "8 -rw-------  1 yj  admin  2983 Mar 30 15:41 20JUL12_0024Data1Phi-90.txt\n",
      "8 -rw-------  1 yj  admin  2981 Mar 30 15:41 20JUL12_0024Data2Phi0.txt\n",
      "8 -rw-------  1 yj  admin  2982 Mar 30 15:41 20JUL12_0024Data3Phi45.txt\n",
      "8 -rw-------  1 yj  admin  2983 Mar 30 15:41 20JUL12_0024Data4Phi135.txt\n",
      "\n"
     ]
    }
   ],
   "source": [
    "print os.popen('ls -ls %s'%os.path.join(path,date,'Xray')).read()"
   ]
  },
  {
   "cell_type": "markdown",
   "metadata": {},
   "source": [
    "- Making a fref file for Proto data analysis"
   ]
  },
  {
   "cell_type": "code",
   "execution_count": 11,
   "metadata": {
    "collapsed": false
   },
   "outputs": [
    {
     "name": "stdout",
     "output_type": "stream",
     "text": [
      "-----------------------------------------------------------------------------------------------------\n",
      "/Users/yj/Documents/ExpDat/IFSteel/Marciniak-X-ray-IF/BB/20120720/f_fref.txt has been created:\n",
      " Use it for further stress analysis\n",
      "-----------------------------------------------------------------------------------------------------\n"
     ]
    }
   ],
   "source": [
    "# ------------------------------------------------------------------------\n",
    "# Find suitable experimental stress factor file\n",
    "# fn_sff='/Users/yj/GoogleDrive/expdat/Marciniak-X-ray-IF/YJ_BB_10times.sff'\n",
    "fn_sff='/Users/yj/Documents/ExpDat/IFSteel/Marciniak-X-ray-IF/YJ_BB_10times.sff'\n",
    "\n",
    "\n",
    "# ------------------------------------------------------------------------\n",
    "# Refer to Laboratory notebook to match up the X-ray data filename \n",
    "# and DIC image number\n",
    "DIC_XRD=\"\"\"#6  20JUL12_0006.tr\n",
    "#7   20JUL12_0006.tr\n",
    "#74  20JUL12_0007.tr\n",
    "#75  20JUL12_0007.tr\n",
    "#96  20JUL12_0008.tr\n",
    "#97  20JUL12_0008.tr\n",
    "#115 20JUL12_0009.tr\n",
    "#116 20JUL12_0009.tr\n",
    "#133 20JUL12_0011.tr\n",
    "#134 20JUL12_0011.tr\n",
    "#148 20JUL12_0012.tr\n",
    "#149 20JUL12_0012.tr\n",
    "#163 20JUL12_0013.tr\n",
    "#164 20JUL12_0013.tr\n",
    "#176 20JUL12_0014.tr\n",
    "#177 20JUL12_0014.tr\n",
    "#188 20JUL12_0015.tr\n",
    "#189 20JUL12_0015.tr\n",
    "#200 20JUL12_0016.tr\n",
    "#201 20JUL12_0016.tr\n",
    "#211 20JUL12_0017.tr\n",
    "#212 20JUL12_0017.tr\n",
    "#222 20JUL12_0018.tr\n",
    "#223 20JUL12_0018.tr\n",
    "#232 20JUL12_0019.tr\n",
    "#233 20JUL12_0019.tr\n",
    "#242 20JUL12_0020.tr\n",
    "#243 20JUL12_0020.tr\n",
    "#252 20JUL12_0021.tr\n",
    "#253 20JUL12_0021.tr\n",
    "#261 20JUL12_0022.tr\n",
    "#262 20JUL12_0022.tr\n",
    "#336 20JUL12_0023.tr\n",
    "#337 20JUL12_0023.tr\n",
    "#389 20JUL12_0024.tr\n",
    "#390 20JUL12_0024.tr\"\"\"\n",
    "\n",
    "# ------------------------------------------------------------------------\n",
    "\n",
    "fn_fref=fn_DIC.split('DIC')[0]+'f_fref.txt'\n",
    "f_fref=open(fn_fref,'w')\n",
    "\n",
    "f_fref.write(fn_sff)\n",
    "f_fref.write('  MajorStrainColumn: 2\\n')\n",
    "f_fref.write('%14s %12s %12s %12s %12s %5s\\n'%('filename','Exx','Eyy','Exy','Ezz','DIC'))\n",
    "lines=DIC_XRD.split('\\n')\n",
    "inds = []; fns = []\n",
    "for line in lines:\n",
    "    ind,fn=line.split()\n",
    "    ind=int(ind.split('#')[-1])\n",
    "    fn = fn.split('.tr')[0]\n",
    "    inds.append(ind); fns.append(fn)\n",
    "    \n",
    "    col = dic_dat[0]\n",
    "    ix=np.where(col==ind)[0]\n",
    "    i = int(col[ix][0]) ## dic index\n",
    "    # print ix,i\n",
    "\n",
    "    exx = dic_dat[5][ix]\n",
    "    eyy = dic_dat[7][ix]\n",
    "    exy = dic_dat[9][ix]\n",
    "    ezz = -exx-eyy    \n",
    "    f_fref.write(('%14s '+'%+11.5e '*4+'%5i \\n')%(fn, exx, eyy, exy, ezz,i))\n",
    "\n",
    "\n",
    "f_fref.close()\n",
    "print '-----------------------------------------------------------------------------------------------------'\n",
    "print fn_fref, 'has been created:\\n Use it for further stress analysis'\n",
    "print '-----------------------------------------------------------------------------------------------------'"
   ]
  },
  {
   "cell_type": "code",
   "execution_count": 6,
   "metadata": {
    "collapsed": false,
    "scrolled": true
   },
   "outputs": [
    {
     "name": "stdout",
     "output_type": "stream",
     "text": [
      "/Users/yj/Documents/ExpDat/IFSteel/Marciniak-X-ray-IF/YJ_BB_10times.sff  MajorStrainColumn: 1\n",
      "      filename          Exx          Eyy          Exy          Ezz   DIC\n",
      "  20JUL12_0006 +4.63338e-04 +1.29111e-04 -6.74163e-05 -5.92449e-04     6 \n",
      "  20JUL12_0006 +3.27743e-04 +1.80846e-04 -4.70930e-05 -5.08589e-04     7 \n",
      "  20JUL12_0007 +7.66684e-03 +7.96884e-03 -9.83066e-05 -1.56357e-02    74 \n",
      "  20JUL12_0007 +7.69749e-03 +7.91540e-03 -4.72525e-05 -1.56129e-02    75 \n",
      "  20JUL12_0008 +1.43222e-02 +1.46176e-02 -1.33558e-04 -2.89398e-02    96 \n",
      "  20JUL12_0008 +1.42230e-02 +1.46726e-02 -1.26991e-04 -2.88956e-02    97 \n",
      "  20JUL12_0009 +2.09500e-02 +2.11299e-02 -4.35560e-05 -4.20799e-02   115 \n",
      "  20JUL12_0009 +2.08608e-02 +2.11617e-02 -3.88112e-05 -4.20225e-02   116 \n",
      "  20JUL12_0011 +2.76489e-02 +2.80564e-02 -1.29731e-04 -5.57053e-02   133 \n",
      "  20JUL12_0011 +2.76687e-02 +2.79979e-02 +5.21419e-06 -5.56666e-02   134 \n",
      "  20JUL12_0012 +3.45374e-02 +3.47953e-02 -1.25736e-04 -6.93327e-02   148 \n",
      "  20JUL12_0012 +3.42556e-02 +3.48861e-02 -5.64415e-05 -6.91417e-02   149 \n",
      "  20JUL12_0013 +4.09300e-02 +4.13762e-02 +9.20977e-05 -8.23062e-02   163 \n",
      "  20JUL12_0013 +4.10139e-02 +4.14448e-02 +7.71600e-05 -8.24587e-02   164 \n",
      "  20JUL12_0014 +4.76671e-02 +4.80780e-02 -2.06417e-05 -9.57451e-02   176 \n",
      "  20JUL12_0014 +4.76549e-02 +4.81823e-02 +1.13523e-04 -9.58372e-02   177 \n",
      "  20JUL12_0015 +5.39259e-02 +5.44872e-02 +5.97559e-05 -1.08413e-01   188 \n",
      "  20JUL12_0015 +5.39162e-02 +5.45471e-02 -6.17272e-05 -1.08463e-01   189 \n",
      "  20JUL12_0016 +6.00179e-02 +6.07501e-02 +1.72643e-04 -1.20768e-01   200 \n",
      "  20JUL12_0016 +6.01872e-02 +6.10160e-02 -1.49385e-05 -1.21203e-01   201 \n",
      "  20JUL12_0017 +6.63291e-02 +6.70862e-02 -4.48722e-05 -1.33415e-01   211 \n",
      "  20JUL12_0017 +6.63899e-02 +6.72062e-02 +1.02675e-04 -1.33596e-01   212 \n",
      "  20JUL12_0018 +7.24641e-02 +7.33238e-02 +8.12692e-05 -1.45788e-01   222 \n",
      "  20JUL12_0018 +7.25291e-02 +7.35135e-02 +1.26753e-04 -1.46043e-01   223 \n",
      "  20JUL12_0019 +7.82809e-02 +7.94363e-02 +1.19738e-04 -1.57717e-01   232 \n",
      "  20JUL12_0019 +7.83412e-02 +7.96281e-02 +1.83030e-04 -1.57969e-01   233 \n",
      "  20JUL12_0020 +8.39919e-02 +8.55334e-02 +2.15948e-04 -1.69525e-01   242 \n",
      "  20JUL12_0020 +8.42102e-02 +8.57689e-02 +1.30533e-04 -1.69979e-01   243 \n",
      "  20JUL12_0021 +8.99844e-02 +9.16110e-02 +1.73615e-04 -1.81595e-01   252 \n",
      "  20JUL12_0021 +9.02904e-02 +9.17814e-02 +1.53564e-04 -1.82072e-01   253 \n",
      "  20JUL12_0022 +9.57677e-02 +9.75106e-02 +1.83317e-04 -1.93278e-01   261 \n",
      "  20JUL12_0022 +9.61994e-02 +9.77018e-02 +1.66516e-04 -1.93901e-01   262 \n",
      "  20JUL12_0023 +1.98967e-01 +2.01068e-01 -3.64690e-04 -4.00035e-01   336 \n",
      "  20JUL12_0023 +1.98873e-01 +2.01184e-01 -5.06993e-04 -4.00057e-01   337 \n",
      "  20JUL12_0024 +2.95942e-01 +3.00394e-01 -9.17915e-05 -5.96336e-01   389 \n",
      "  20JUL12_0024 +2.95980e-01 +3.00410e-01 -9.04724e-05 -5.96390e-01   390 \n",
      "\n"
     ]
    }
   ],
   "source": [
    "print os.popen('cat %s'%os.path.join(path,date,'f_fref.txt')).read()"
   ]
  },
  {
   "cell_type": "markdown",
   "metadata": {},
   "source": [
    "+ Running analyze_proto.main for the X-ray and DIC experiments to calculate\n",
    "  stress/strain"
   ]
  },
  {
   "cell_type": "code",
   "execution_count": 7,
   "metadata": {
    "collapsed": false
   },
   "outputs": [
    {
     "name": "stdout",
     "output_type": "stream",
     "text": [
      "---------------------------------------------\n",
      "Strain information where SF/IG were measured\n",
      "requires either fc or fn_str specified\n",
      "If not the strain column in fn_sf is used,\n",
      "subsequent analysis is performed by assuming\n",
      "that the sample is in equibiaxial strain\n",
      "---------------------------------------------\n",
      "\n",
      "Warning: overwrite the SF.flow / IG.flow\n",
      "\n",
      "#-----------------------------------------------------#\n",
      " Interpolate SF and IG for matching with D-spacings\n",
      "epsilon_vm:\n",
      "[  6.23082429e-04   5.15611948e-04   1.56366521e-02   1.56133969e-02\n",
      "   2.89403025e-02   2.88967659e-02   4.20800282e-02   4.20228591e-02\n",
      "   5.57057968e-02   5.56669245e-02   6.93328599e-02   6.91426582e-02\n",
      "   8.23066032e-02   8.24590753e-02   9.57453939e-02   9.58376837e-02\n",
      "   1.08413584e-01   1.08463912e-01   1.20768740e-01   1.21204145e-01\n",
      "   1.33416016e-01   1.33596931e-01   1.45788745e-01   1.46043706e-01\n",
      "   1.57718611e-01   1.57971047e-01   1.69527636e-01   1.69981482e-01\n",
      "   1.81597828e-01   1.82073835e-01   1.93280919e-01   1.93903140e-01\n",
      "   4.00036839e-01   4.00059225e-01   5.96341539e-01   5.96395484e-01]\n",
      "Strain reference at which sf was measured:\n",
      "[ 0.    0.02  0.2   0.5   0.7 ]\n",
      "  ** Phi angles of SF are different **\n",
      "  ** Phi angles of IG are different **\n",
      "#-----------------------------------------------------#\n",
      "Warning: color map was not specified.\n",
      "Warning: color map was not specified.\n",
      "-----------------------------------\n",
      "Standard deviation in d_ehkl at istp=0\n",
      "\n",
      "phi:     -90        0       45      135  avg\n",
      "std: 1.1e-04  6.9e-05  1.1e-04  1.0e-04  9.9e-05 \n",
      "Elapsed time:  55 [sec]"
     ]
    }
   ],
   "source": [
    "## plastic strain of the points where the X-ray d-spacing\n",
    "## were meausured are important information that is utilized over the X ray analysis.\n",
    "## If, fc or fn_str are not given, the below application\n",
    "## bases on the strain given in the fref file -\n",
    "## the two major strain components are used with assumption\n",
    "## that the sample was in 'equi-biaxial' strain.\n",
    "\n",
    "t0=time.time()\n",
    "RS=analyze_proto.main(path=os.path.join(path,date,'Xray'),\n",
    "                   fn_sf=fn_sff,fref=os.path.join(path,date,'f_fref.txt'),\n",
    "                   ind_plot=True)\n",
    "uet(time.time()-t0)"
   ]
  },
  {
   "cell_type": "code",
   "execution_count": 8,
   "metadata": {
    "collapsed": false
   },
   "outputs": [
    {
     "data": {
      "image/png": "[encoded data removed]",
      "text/plain": [
       "<matplotlib.figure.Figure at 0x1062d1cd0>"
      ]
     },
     "metadata": {},
     "output_type": "display_data"
    }
   ],
   "source": [
    "\"\"\" \n",
    "RS.EXP.flow.epsilon, RS.flow.sigma\n",
    "\"\"\"\n",
    "mn=0;mx=0.8\n",
    "norm = mpl.colors.Normalize(vmin=mn,vmax=mx)\n",
    "cmap, m = mpl_lib.norm_cmap(mn=mn,mx=mx)\n",
    "\n",
    "fx=9\n",
    "fy=fx*0.35\n",
    "fig=plt.figure(figsize=(fx,fy))\n",
    "gs=GS(20,3,wspace=0.5)\n",
    "ax1=fig.add_subplot(gs[5:,0])\n",
    "ax2=fig.add_subplot(gs[5:,1])\n",
    "ax3=fig.add_subplot(gs[5:,2])\n",
    "\n",
    "nstp = RS.EXP.flow.nstp\n",
    "\n",
    "\n",
    "for istp in xrange(nstp):\n",
    "    c=m.to_rgba(RS.EXP.flow.epsilon_vm[istp])\n",
    "    ax2.plot(RS.flow.sigma[0,0][istp],RS.flow.sigma[1,1][istp],\n",
    "             'o',mec='k',mfc=c)\n",
    "    ax1.plot(RS.EXP.flow.epsilon_vm[istp],RS.flow.sigma_vm[istp],'o',c=c)\n",
    "# ax2.plot(RS.flow.sigma[0,0],RS.flow.sigma[1,1],'k--')\n",
    "\n",
    "ax3.plot(RS.EXP.flow.epsilon[0,0],RS.flow.sigma[0,0],'x',label=r'$\\mathrm{\\bar{\\Sigma}_{11} - \\bar{E}_{11}}$')\n",
    "ax3.plot(RS.EXP.flow.epsilon[1,1],RS.flow.sigma[1,1],'+',label=r'$\\mathrm{\\bar{\\Sigma}_{22} - \\bar{E}_{22}}$')\n",
    "\n",
    "\n",
    "for ax in fig.axes:\n",
    "    ax.set_ylim(0.,);ax.set_xlim(0.,)\n",
    "    ax.locator_params(nbins=4)\n",
    "    ax.grid()\n",
    "\n",
    "ax2.set_xlabel(r'$\\mathrm{\\bar{\\Sigma}_{11}}$')\n",
    "ax2.set_ylabel(r'$\\mathrm{\\bar{\\Sigma}_{22}}$')\n",
    "ax3.set_xlabel(r'$\\mathrm{\\bar{E}_{ii}}$')\n",
    "ax3.set_ylabel(r'$\\mathrm{\\bar{\\Sigma}_{ii}}$')\n",
    "ax1.set_xlabel(r'$\\mathrm{\\bar{E}_{VM}}$')\n",
    "ax1.set_ylabel(r'$\\mathrm{\\bar{\\Sigma}_{VM}}$')\n",
    "ax3.legend(loc='best',fontsize=9,numpoints=1,bbox_to_anchor=(1,0.9))\n",
    "\n",
    "\n",
    "axcb=fig.add_subplot(gs[0,1])\n",
    "cb=mpl.colorbar.ColorbarBase(axcb,cmap=cmap,orientation='horizontal',\n",
    "                          norm=norm,filled=True,format='%3.1f')\n",
    "# axcb.locator_params(nbins=4)\n",
    "axcb.set_xlabel(r'$\\mathrm{\\bar{E}_{VM}}$')\n",
    "cb.set_ticks(np.linspace(mn,mx,5))\n",
    "#mpl_lib.add_cb(ax=axcb,cmap=cmap, filled=True,\n",
    "#               format='%5.3f',norm=norm,\n",
    "#               ylab=r'$\\mathrm{\\bar{E}_{VM}}$')\n",
    "\n"
   ]
  },
  {
   "cell_type": "code",
   "execution_count": 10,
   "metadata": {
    "collapsed": false
   },
   "outputs": [
    {
     "name": "stdout",
     "output_type": "stream",
     "text": [
      "/Users/yj/Documents/ExpDat/IFSteel/Marciniak-X-ray-IF/BB/20120720/RS.pck\n",
      "/Users/yj/repo/FLD_DIC_XRAY/tutorials/XRD_analysis/IF_steel/BB/../../../pickles/RS_20120720.pck\n"
     ]
    }
   ],
   "source": [
    "import cPickle as pickle\n",
    "def save_object(obj, filename):\n",
    "    with open(filename, 'wb') as output:\n",
    "        pickle.dump(obj, output, pickle.HIGHEST_PROTOCOL)\n",
    "\n",
    "fn = os.path.join(path,date,'RS.pck')\n",
    "print fn\n",
    "save_object(obj=RS, filename=fn)\n",
    "\n",
    "fn = os.path.join('../../../pickles/RS_%s.pck'%date)\n",
    "print os.path.join(os.getcwd(),fn)\n",
    "save_object(obj=RS, filename=fn)"
   ]
  }
 ],
 "metadata": {
  "kernelspec": {
   "display_name": "Python 2",
   "language": "python",
   "name": "python2"
  },
  "language_info": {
   "codemirror_mode": {
    "name": "ipython",
    "version": 2
   },
   "file_extension": ".py",
   "mimetype": "text/x-python",
   "name": "python",
   "nbconvert_exporter": "python",
   "pygments_lexer": "ipython2",
   "version": "2.7.10"
  }
 },
 "nbformat": 4,
 "nbformat_minor": 0
}
