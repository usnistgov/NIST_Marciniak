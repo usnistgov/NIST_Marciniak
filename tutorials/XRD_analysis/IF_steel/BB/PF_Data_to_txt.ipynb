{
 "cells": [
  {
   "cell_type": "code",
   "execution_count": 2,
   "metadata": {
    "collapsed": false
   },
   "outputs": [
    {
     "name": "stdout",
     "output_type": "stream",
     "text": [
      "Populating the interactive namespace from numpy and matplotlib\n"
     ]
    }
   ],
   "source": [
    "import os\n",
    "%pylab inline"
   ]
  },
  {
   "cell_type": "markdown",
   "metadata": {},
   "source": [
    "- 20120711"
   ]
  },
  {
   "cell_type": "code",
   "execution_count": 49,
   "metadata": {
    "collapsed": false
   },
   "outputs": [
    {
     "name": "stdout",
     "output_type": "stream",
     "text": [
      "# of data lines: 37\n",
      "      E_ref     Sxx   Sxx_e     Syy   Syy_e        Exx        Eyy      Exx_e      Eyy_e \n",
      "2.13000e-05   36.12    7.01   50.60    6.92 +2.134e-05 -2.795e-05 +5.739e-04 +3.272e-04 \n",
      "4.40000e-05   36.16    7.01   50.61    6.92 +4.403e-05 +2.798e-05 +6.472e-04 +3.532e-04 \n",
      "4.69000e-03  230.46    7.32  238.75    7.19 +4.692e-03 +4.501e-03 +7.496e-04 +4.056e-04 \n",
      "4.80000e-03  230.66    7.32  238.68    7.19 +4.801e-03 +4.434e-03 +7.691e-04 +4.268e-04 \n",
      "\n",
      " ... \n",
      "2.67000e-01  476.43   16.28  461.47   15.24 +2.674e-01 +2.648e-01 +3.860e-03 +2.384e-03 \n",
      "3.33000e-01  391.36   15.65  400.69   14.43 +3.326e-01 +3.290e-01 +6.536e-03 +3.826e-03 \n",
      "\n",
      "/Users/yj/Documents/ExpDat/IFSteel/Marciniak-X-ray-IF/BB/20120711/PF_raw_dat.txt has been created ...\n"
     ]
    }
   ],
   "source": [
    "date     = '20120711'\n",
    "\n",
    "\n",
    "path2exp = '/Users/yj/Documents/ExpDat/IFSteel/Marciniak-X-ray-IF/BB'\n",
    "filename = os.path.join(path2exp,date,'PF_raw_dat.txt')\n",
    "fn_fref = os.path.join('/Users/yj/Documents','ExpDat/IFSteel/Marciniak-X-ray-IF/BB',date,'f_fref.txt')\n",
    "dat_fref = np.loadtxt(fn_fref,skiprows=2,dtype='str').T\n",
    "dat_fref = np.array(dat_fref[1::],dtype='float')\n",
    "n_line_fref = dat_fref.shape[-1]\n",
    "\n",
    "dat=\"\"\"2.13E-05\t36.12\t7.01\t50.6\t6.92\n",
    "4.40E-05\t36.16\t7.01\t50.61\t6.92\n",
    "4.69E-03\t230.46\t7.32\t238.75\t7.19\n",
    "4.80E-03\t230.66\t7.32\t238.68\t7.19\n",
    "8.96E-03\t236.47\t7.39\t239.21\t7.21\n",
    "8.85E-03\t236.12\t7.39\t239.45\t7.21\n",
    "1.30E-02\t259.96\t7.62\t254.43\t7.36\n",
    "1.29E-02\t259.7\t7.62\t254.07\t7.35\n",
    "1.70E-02\t263.17\t7.72\t261.39\t7.52\n",
    "1.70E-02\t263.17\t7.72\t261.4\t7.52\n",
    "2.11E-02\t270.89\t7.92\t284.97\t7.78\n",
    "2.11E-02\t270.9\t7.92\t284.98\t7.78\n",
    "2.52E-02\t278.46\t8.08\t289.16\t7.95\n",
    "2.52E-02\t278.43\t8.08\t289.13\t7.95\n",
    "2.93E-02\t296.17\t8.29\t298.98\t8.11\n",
    "2.95E-02\t296.53\t8.29\t299.37\t8.12\n",
    "3.34E-02\t301.08\t8.5\t321.7\t8.36\n",
    "3.35E-02\t301.24\t8.51\t321.85\t8.36\n",
    "3.76E-02\t307.51\t8.68\t328.55\t8.51\n",
    "3.76E-02\t307.71\t8.69\t328.74\t8.51\n",
    "4.17E-02\t326.34\t9.01\t331.32\t8.84\n",
    "4.60E-02\t322.11\t9.19\t347.05\t8.98\n",
    "4.61E-02\t322.2\t9.19\t347.14\t8.98\n",
    "5.00E-02\t339.54\t9.44\t336.85\t9.23\n",
    "5.01E-02\t339.61\t9.44\t336.91\t9.23\n",
    "5.41E-02\t349.67\t9.74\t347.65\t9.47\n",
    "5.41E-02\t349.73\t9.75\t347.7\t9.47\n",
    "5.80E-02\t359.57\t10.08\t367.45\t9.88\n",
    "5.80E-02\t359.51\t10.07\t367.4\t9.87\n",
    "6.19E-02\t362.06\t10.49\t385.73\t10.3\n",
    "6.21E-02\t362.66\t10.5\t386.27\t10.31\n",
    "1.32E-01\t422.55\t14.29\t423.48\t13.78\n",
    "1.32E-01\t422.68\t14.3\t423.65\t13.78\n",
    "2.01E-01\t488.27\t16.24\t457.62\t15.42\n",
    "2.68E-01\t476.33\t16.28\t461.41\t15.24\n",
    "2.67E-01\t476.43\t16.28\t461.47\t15.24\n",
    "3.33E-01\t391.36\t15.65\t400.69\t14.43\"\"\"\n",
    "\n",
    "d  = dat.split('\\n')\n",
    "\n",
    "if n_line_fref!=len(d):\n",
    "    print 'Line in fref differs from what is in PF X-ray results'\n",
    "\n",
    "print '# of data lines:', len(d)\n",
    "fo = open(filename,'w')\n",
    "fo.write(('%11s '+'%7s '*4+'%10s '*4+'\\n')%('E_ref','Sxx','Sxx_e','Syy','Syy_e','Exx','Eyy','Exx_e','Eyy_e'))\n",
    "for i in xrange(len(d)):\n",
    "    l = d[i]\n",
    "    dd=l.split()\n",
    "    dd=map(float,dd)\n",
    "    df=dat_fref[:,i]\n",
    "    fo.write(('%11.5e '+'%7.2f '*4+'%+9.3e '*4+'\\n')%(dd[0],dd[1],dd[2],dd[3],dd[4],df[0],df[1],df[5],df[6]))\n",
    "print os.popen('head -n 5 %s'%fo.name).read()\n",
    "print ' ... '\n",
    "print os.popen('tail -n 2 %s'%fo.name).read()\n",
    "\n",
    "print fo.name, 'has been created ...'"
   ]
  },
  {
   "cell_type": "markdown",
   "metadata": {},
   "source": [
    "- 20120720"
   ]
  },
  {
   "cell_type": "code",
   "execution_count": 51,
   "metadata": {
    "collapsed": false
   },
   "outputs": [
    {
     "name": "stdout",
     "output_type": "stream",
     "text": [
      "# of data lines: 36\n",
      "      E_ref     Sxx   Sxx_e     Syy   Syy_e        Exx        Eyy      Exx_e      Eyy_e \n",
      "4.63000e-04   55.74    7.12   16.77    6.99 +4.633e-04 +1.291e-04 +1.806e-03 +9.017e-04 \n",
      "3.28000e-04   55.28    7.12   16.55    6.99 +3.277e-04 +1.808e-04 +2.339e-03 +1.030e-03 \n",
      "7.67000e-03  207.23    7.40  185.22    7.20 +7.667e-03 +7.969e-03 +6.942e-03 +4.228e-03 \n",
      "7.70000e-03  207.24    7.40  185.04    7.20 +7.697e-03 +7.915e-03 +6.937e-03 +4.239e-03 \n",
      "\n",
      " ... \n",
      "2.96000e-01  413.70   17.11  416.45   15.89 +2.959e-01 +3.004e-01 +2.820e-02 +2.391e-02 \n",
      "2.96000e-01  413.67   17.11  416.43   15.89 +2.960e-01 +3.004e-01 +2.801e-02 +2.380e-02 \n",
      "\n",
      "/Users/yj/Documents/ExpDat/IFSteel/Marciniak-X-ray-IF/BB/20120720/PF_raw_dat.txt has been created ...\n"
     ]
    }
   ],
   "source": [
    "date     = '20120720'\n",
    "\n",
    "\n",
    "path2exp = '/Users/yj/Documents/ExpDat/IFSteel/Marciniak-X-ray-IF/BB'\n",
    "filename = os.path.join(path2exp,date,'PF_raw_dat.txt')\n",
    "fn_fref = os.path.join('/Users/yj/Documents','ExpDat/IFSteel/Marciniak-X-ray-IF/BB',date,'f_fref.txt')\n",
    "dat_fref = np.loadtxt(fn_fref,skiprows=2,dtype='str').T\n",
    "dat_fref = np.array(dat_fref[1::],dtype='float')\n",
    "n_line_fref = dat_fref.shape[-1]\n",
    "\n",
    "dat=\"\"\"4.63E-04\t55.74\t7.12\t16.77\t6.99\n",
    "3.28E-04\t55.28\t7.12\t16.55\t6.99\n",
    "7.67E-03\t207.23\t7.4\t185.22\t7.2\n",
    "7.70E-03\t207.24\t7.4\t185.04\t7.2\n",
    "1.43E-02\t233.87\t7.61\t197.75\t7.43\n",
    "1.42E-02\t233.74\t7.61\t197.63\t7.43\n",
    "2.10E-02\t271.85\t8.08\t237.28\t7.88\n",
    "2.09E-02\t271.83\t8.08\t237.12\t7.88\n",
    "2.76E-02\t289.14\t8.43\t245.46\t8.18\n",
    "2.77E-02\t289.18\t8.43\t245.49\t8.18\n",
    "3.45E-02\t322.05\t8.8\t260.26\t8.62\n",
    "3.43E-02\t321.46\t8.79\t259.76\t8.61\n",
    "4.09E-02\t325.53\t9.26\t282.6\t9.03\n",
    "4.10E-02\t325.69\t9.26\t282.74\t9.03\n",
    "4.77E-02\t342.26\t9.67\t314.6\t9.5\n",
    "4.77E-02\t342.24\t9.67\t314.58\t9.5\n",
    "5.39E-02\t372.65\t10.05\t327.88\t9.99\n",
    "5.39E-02\t372.63\t10.05\t327.86\t9.99\n",
    "6.00E-02\t382.27\t10.62\t332.6\t10.43\n",
    "6.02E-02\t382.61\t10.63\t333.1\t10.44\n",
    "6.63E-02\t395.67\t11.16\t353.23\t10.89\n",
    "6.64E-02\t395.82\t11.16\t353.39\t10.89\n",
    "7.25E-02\t394.76\t11.48\t366.4\t11.3\n",
    "7.25E-02\t394.86\t11.49\t366.46\t11.31\n",
    "7.83E-02\t412.99\t12.15\t389.62\t11.82\n",
    "7.83E-02\t413.07\t12.16\t389.67\t11.83\n",
    "8.40E-02\t419.42\t12.59\t370.99\t12.32\n",
    "8.42E-02\t419.6\t12.6\t371\t12.34\n",
    "9.00E-02\t417.16\t13.3\t376.02\t12.97\n",
    "9.03E-02\t417.24\t13.32\t376.07\t12.99\n",
    "9.58E-02\t392.98\t13.86\t375.08\t13.38\n",
    "9.62E-02\t392.79\t13.89\t374.52\t13.41\n",
    "1.99E-01\t452.54\t16.58\t424.76\t15.72\n",
    "1.99E-01\t452.45\t16.58\t424.67\t15.72\n",
    "2.96E-01\t413.7\t17.11\t416.45\t15.89\n",
    "2.96E-01\t413.67\t17.11\t416.43\t15.89\"\"\"\n",
    "\n",
    "d  = dat.split('\\n')\n",
    "\n",
    "if n_line_fref!=len(d):\n",
    "    print 'Line in fref differs from what is in PF X-ray results'\n",
    "\n",
    "print '# of data lines:', len(d)\n",
    "fo = open(filename,'w')\n",
    "fo.write(('%11s '+'%7s '*4+'%10s '*4+'\\n')%('E_ref','Sxx','Sxx_e','Syy','Syy_e','Exx','Eyy','Exx_e','Eyy_e'))\n",
    "for i in xrange(len(d)):\n",
    "    l = d[i]\n",
    "    dd=l.split()\n",
    "    dd=map(float,dd)\n",
    "    df=dat_fref[:,i]\n",
    "    fo.write(('%11.5e '+'%7.2f '*4+'%+9.3e '*4+'\\n')%(dd[0],dd[1],dd[2],dd[3],dd[4],df[0],df[1],df[5],df[6]))\n",
    "print os.popen('head -n 5 %s'%fo.name).read()\n",
    "print ' ... '\n",
    "print os.popen('tail -n 2 %s'%fo.name).read()\n",
    "\n",
    "print fo.name, 'has been created ...'"
   ]
  },
  {
   "cell_type": "markdown",
   "metadata": {},
   "source": [
    "-20120723"
   ]
  },
  {
   "cell_type": "code",
   "execution_count": 55,
   "metadata": {
    "collapsed": false
   },
   "outputs": [
    {
     "name": "stdout",
     "output_type": "stream",
     "text": [
      "# of data lines: 31\n",
      "      E_ref     Sxx   Sxx_e     Syy   Syy_e        Exx        Eyy      Exx_e      Eyy_e \n",
      "4.49000e-04  161.07    7.49   92.96    6.55 +4.491e-04 +1.665e-04 +4.685e-03 +2.061e-03 \n",
      "4.56900e-04  161.36    7.49   93.26    6.55 +4.569e-04 +1.520e-04 +1.500e-03 +1.257e-03 \n",
      "7.72000e-03  252.33    7.85  219.01    6.84 +7.721e-03 +7.050e-03 +1.747e-03 +1.109e-03 \n",
      "7.75000e-03  252.69    7.85  219.33    6.84 +7.751e-03 +7.001e-03 +1.953e-03 +1.320e-03 \n",
      "\n",
      " ... \n",
      "8.24000e-02  445.60   12.36  393.64   12.19 +8.237e-02 +8.059e-02 +1.906e-03 +1.586e-03 \n",
      "8.73000e-02  436.94   12.83  386.27   12.60 +8.729e-02 +8.540e-02 +1.845e-03 +1.420e-03 \n",
      "\n",
      "/Users/yj/Documents/ExpDat/IFSteel/Marciniak-X-ray-IF/BB/20120723/PF_raw_dat.txt has been created ...\n"
     ]
    }
   ],
   "source": [
    "date     = '20120723'\n",
    "\n",
    "\n",
    "path2exp = '/Users/yj/Documents/ExpDat/IFSteel/Marciniak-X-ray-IF/BB'\n",
    "filename = os.path.join(path2exp,date,'PF_raw_dat.txt')\n",
    "fn_fref = os.path.join('/Users/yj/Documents','ExpDat/IFSteel/Marciniak-X-ray-IF/BB',date,'f_fref.txt')\n",
    "dat_fref = np.loadtxt(fn_fref,skiprows=2,dtype='str').T\n",
    "dat_fref = np.array(dat_fref[1::],dtype='float')\n",
    "n_line_fref = dat_fref.shape[-1]\n",
    "\n",
    "dat=\"\"\"4.49E-04\t161.07\t7.49\t92.96\t6.55\n",
    "+4.569E-04\t161.36\t7.49\t93.26\t6.55\n",
    "7.72E-03\t252.33\t7.85\t219.01\t6.84\n",
    "7.75E-03\t252.69\t7.85\t219.33\t6.84\n",
    "1.41E-02\t246.64\t8.09\t233.7\t7.13\n",
    "1.39E-02\t246.44\t8.08\t233.45\t7.13\n",
    "2.07E-02\t257.19\t8.32\t250.94\t7.47\n",
    "2.06E-02\t256.99\t8.31\t250.69\t7.47\n",
    "2.70E-02\t276.81\t8.56\t276.06\t7.77\n",
    "2.71E-02\t276.87\t8.56\t276.12\t7.78\n",
    "3.34E-02\t307.81\t9.01\t297.74\t8.19\n",
    "3.31E-02\t307.16\t9\t297.27\t8.18\n",
    "3.92E-02\t337.84\t9.28\t312.33\t8.6\n",
    "3.93E-02\t337.97\t9.28\t312.45\t8.61\n",
    "4.53E-02\t353.98\t9.66\t323.04\t9.07\n",
    "4.52E-02\t353.83\t9.66\t322.87\t9.07\n",
    "5.11E-02\t367.39\t9.84\t339.59\t9.44\n",
    "5.09E-02\t367.16\t9.83\t339.4\t9.43\n",
    "5.65E-02\t388.45\t10.32\t349.72\t9.91\n",
    "5.66E-02\t388.54\t10.33\t350.04\t9.91\n",
    "6.21E-02\t399.26\t10.66\t368.03\t10.32\n",
    "6.21E-02\t399.37\t10.67\t368.12\t10.32\n",
    "6.73E-02\t417.23\t11.17\t374.48\t10.79\n",
    "6.74E-02\t417.46\t11.18\t374.69\t10.8\n",
    "7.25E-02\t423.26\t11.53\t378.59\t11.35\n",
    "7.27E-02\t423.66\t11.54\t379.09\t11.36\n",
    "7.76E-02\t440.14\t12.05\t381.33\t11.77\n",
    "7.78E-02\t440.34\t12.06\t381.46\t11.78\n",
    "8.26E-02\t445.75\t12.37\t393.92\t12.2\n",
    "8.24E-02\t445.6\t12.36\t393.64\t12.19\n",
    "8.73E-02\t436.94\t12.83\t386.27\t12.6\"\"\"\n",
    "\n",
    "d  = dat.split('\\n')\n",
    "\n",
    "if n_line_fref!=len(d):\n",
    "    print 'Line in fref differs from what is in PF X-ray results'\n",
    "\n",
    "print '# of data lines:', len(d)\n",
    "fo = open(filename,'w')\n",
    "fo.write(('%11s '+'%7s '*4+'%10s '*4+'\\n')%('E_ref','Sxx','Sxx_e','Syy','Syy_e','Exx','Eyy','Exx_e','Eyy_e'))\n",
    "for i in xrange(len(d)):\n",
    "    l = d[i]\n",
    "    dd=l.split()\n",
    "    dd=map(float,dd)\n",
    "    df=dat_fref[:,i]\n",
    "    fo.write(('%11.5e '+'%7.2f '*4+'%+9.3e '*4+'\\n')%(dd[0],dd[1],dd[2],dd[3],dd[4],df[0],df[1],df[5],df[6]))\n",
    "print os.popen('head -n 5 %s'%fo.name).read()\n",
    "print ' ... '\n",
    "print os.popen('tail -n 2 %s'%fo.name).read()\n",
    "\n",
    "print fo.name, 'has been created ...'"
   ]
  },
  {
   "cell_type": "markdown",
   "metadata": {},
   "source": [
    "- 20141028"
   ]
  },
  {
   "cell_type": "code",
   "execution_count": 57,
   "metadata": {
    "collapsed": false
   },
   "outputs": [
    {
     "name": "stdout",
     "output_type": "stream",
     "text": [
      "# of data lines: 12\n",
      "      E_ref     Sxx   Sxx_e     Syy   Syy_e        Exx        Eyy      Exx_e      Eyy_e \n",
      "3.66000e-02  284.39    8.66  327.92    7.92 +3.665e-02 +3.549e-02 +8.299e-04 +6.145e-04 \n",
      "3.68000e-02  284.72    8.67  328.24    7.92 +3.681e-02 +3.550e-02 +8.129e-04 +6.731e-04 \n",
      "1.69000e-01  445.36   14.70  456.16   14.06 +1.692e-01 +1.655e-01 +2.055e-03 +2.289e-03 \n",
      "1.69000e-01  445.37   14.70  456.17   14.06 +1.692e-01 +1.655e-01 +2.157e-03 +2.386e-03 \n",
      "\n",
      " ... \n",
      "3.71000e-01  395.35   15.19  398.71   13.96 +3.714e-01 +3.803e-01 +5.108e-03 +7.991e-03 \n",
      "3.71000e-01  395.35   15.19  398.71   13.96 +3.714e-01 +3.803e-01 +5.115e-03 +7.981e-03 \n",
      "\n",
      "/Users/yj/Documents/ExpDat/IFSteel/Marciniak-X-ray-IF/BB/20141028/PF_raw_dat.txt has been created ...\n"
     ]
    }
   ],
   "source": [
    "date     = '20141028'\n",
    "\n",
    "\n",
    "path2exp = '/Users/yj/Documents/ExpDat/IFSteel/Marciniak-X-ray-IF/BB'\n",
    "filename = os.path.join(path2exp,date,'PF_raw_dat.txt')\n",
    "fn_fref = os.path.join('/Users/yj/Documents','ExpDat/IFSteel/Marciniak-X-ray-IF/BB',date,'f_fref.txt')\n",
    "dat_fref = np.loadtxt(fn_fref,skiprows=2,dtype='str').T\n",
    "dat_fref = np.array(dat_fref[1::],dtype='float')\n",
    "n_line_fref = dat_fref.shape[-1]\n",
    "\n",
    "dat=\"\"\"3.66E-02\t284.39\t8.66\t327.92\t7.92\n",
    "3.68E-02\t284.72\t8.67\t328.24\t7.92\n",
    "1.69E-01\t445.36\t14.7\t456.16\t14.06\n",
    "1.69E-01\t445.37\t14.7\t456.17\t14.06\n",
    "2.31E-01\t476.15\t15.81\t470.08\t14.83\n",
    "2.31E-01\t476.21\t15.81\t470.12\t14.83\n",
    "2.89E-01\t452.81\t15.8\t445.04\t14.64\n",
    "2.89E-01\t452.83\t15.8\t445.05\t14.64\n",
    "3.45E-01\t406.06\t15.24\t417.68\t14.01\n",
    "3.45E-01\t405.95\t15.23\t417.61\t14.01\n",
    "3.71E-01\t395.35\t15.19\t398.71\t13.96\n",
    "3.71E-01\t395.35\t15.19\t398.71\t13.96\"\"\"\n",
    "\n",
    "d  = dat.split('\\n')\n",
    "\n",
    "if n_line_fref!=len(d):\n",
    "    print 'Line in fref differs from what is in PF X-ray results'\n",
    "\n",
    "print '# of data lines:', len(d)\n",
    "fo = open(filename,'w')\n",
    "fo.write(('%11s '+'%7s '*4+'%10s '*4+'\\n')%('E_ref','Sxx','Sxx_e','Syy','Syy_e','Exx','Eyy','Exx_e','Eyy_e'))\n",
    "for i in xrange(len(d)):\n",
    "    l = d[i]\n",
    "    dd=l.split()\n",
    "    dd=map(float,dd)\n",
    "    df=dat_fref[:,i]\n",
    "    fo.write(('%11.5e '+'%7.2f '*4+'%+9.3e '*4+'\\n')%(dd[0],dd[1],dd[2],dd[3],dd[4],df[0],df[1],df[5],df[6]))\n",
    "print os.popen('head -n 5 %s'%fo.name).read()\n",
    "print ' ... '\n",
    "print os.popen('tail -n 2 %s'%fo.name).read()\n",
    "\n",
    "print fo.name, 'has been created ...'"
   ]
  },
  {
   "cell_type": "markdown",
   "metadata": {},
   "source": [
    "- 20141029"
   ]
  },
  {
   "cell_type": "code",
   "execution_count": 59,
   "metadata": {
    "collapsed": false
   },
   "outputs": [
    {
     "name": "stdout",
     "output_type": "stream",
     "text": [
      "Line in fref differs from what is in PF X-ray results\n",
      "# of data lines: 23\n",
      "      E_ref     Sxx   Sxx_e     Syy   Syy_e        Exx        Eyy      Exx_e      Eyy_e \n",
      "3.32000e-05   20.22    8.86   38.14    7.93 +3.318e-05 +1.559e-04 +8.617e-04 +4.478e-04 \n",
      "5.56000e-05   20.42    8.86   38.29    7.93 +5.559e-05 +1.959e-04 +8.652e-04 +4.629e-04 \n",
      "9.20000e-02  410.94   12.38  429.01   12.15 +9.198e-02 +9.063e-02 +2.496e-03 +2.068e-03 \n",
      "9.20000e-02  410.94   12.38  429.01   12.15 +9.197e-02 +9.073e-02 +2.459e-03 +2.085e-03 \n",
      "\n",
      " ... \n",
      "4.10000e-01  407.27   16.31  407.50   14.99 +4.098e-01 +4.264e-01 +6.837e-03 +1.134e-02 \n",
      "4.08000e-01   88.42   16.18   95.88   14.52 +4.100e-01 +4.265e-01 +6.873e-03 +1.138e-02 \n",
      "\n",
      "/Users/yj/Documents/ExpDat/IFSteel/Marciniak-X-ray-IF/BB/20141029/PF_raw_dat.txt has been created ...\n"
     ]
    }
   ],
   "source": [
    "date     = '20141029'\n",
    "\n",
    "\n",
    "path2exp = '/Users/yj/Documents/ExpDat/IFSteel/Marciniak-X-ray-IF/BB'\n",
    "filename = os.path.join(path2exp,date,'PF_raw_dat.txt')\n",
    "fn_fref = os.path.join('/Users/yj/Documents','ExpDat/IFSteel/Marciniak-X-ray-IF/BB',date,'f_fref.txt')\n",
    "dat_fref = np.loadtxt(fn_fref,skiprows=2,dtype='str').T\n",
    "dat_fref = np.array(dat_fref[1::],dtype='float')\n",
    "n_line_fref = dat_fref.shape[-1]\n",
    "\n",
    "dat=\"\"\"3.32E-05\t20.22\t8.86\t38.14\t7.93\n",
    "5.56E-05\t20.42\t8.86\t38.29\t7.93\n",
    "9.20E-02\t410.94\t12.38\t429.01\t12.15\n",
    "9.20E-02\t410.94\t12.38\t429.01\t12.15\n",
    "1.85E-01\t490.5\t15.06\t479.48\t14.52\n",
    "1.85E-01\t490.59\t10.65\t479.57\t10.27\n",
    "2.71E-01\t481.89\t16.2\t466.17\t15.12\n",
    "2.71E-01\t481.89\t16.2\t466.17\t15.12\n",
    "2.98E-01\t454.45\t16.07\t454.87\t14.99\n",
    "2.98E-01\t454.37\t16.07\t454.83\t14.99\n",
    "3.28E-01\t431.78\t15.78\t424.9\t14.75\n",
    "3.28E-01\t431.7\t15.78\t424.85\t14.75\n",
    "3.53E-01\t402.39\t15.69\t401.38\t14.48\n",
    "3.53E-01\t402.39\t15.69\t401.38\t14.48\n",
    "3.78E-01\t407.68\t15.67\t408.13\t14.45\n",
    "3.78E-01\t407.68\t15.67\t408.13\t14.45\n",
    "3.90E-01\t397.47\t16.11\t395.55\t14.85\n",
    "3.90E-01\t397.47\t16.11\t395.55\t14.85\n",
    "4.03E-01\t401.8\t16.01\t399.02\t14.81\n",
    "4.03E-01\t401.8\t16.01\t399.02\t14.81\n",
    "4.10E-01\t407.27\t16.31\t407.5\t14.99\n",
    "4.10E-01\t407.27\t16.31\t407.5\t14.99\n",
    "4.08E-01\t88.42\t16.18\t95.88\t14.52\"\"\"\n",
    "\n",
    "d  = dat.split('\\n')\n",
    "\n",
    "if n_line_fref!=len(d):\n",
    "    print 'Line in fref differs from what is in PF X-ray results'\n",
    "\n",
    "print '# of data lines:', len(d)\n",
    "fo = open(filename,'w')\n",
    "fo.write(('%11s '+'%7s '*4+'%10s '*4+'\\n')%('E_ref','Sxx','Sxx_e','Syy','Syy_e','Exx','Eyy','Exx_e','Eyy_e'))\n",
    "for i in xrange(len(d)):\n",
    "    l = d[i]\n",
    "    dd=l.split()\n",
    "    dd=map(float,dd)\n",
    "    df=dat_fref[:,i]\n",
    "    fo.write(('%11.5e '+'%7.2f '*4+'%+9.3e '*4+'\\n')%(dd[0],dd[1],dd[2],dd[3],dd[4],df[0],df[1],df[5],df[6]))\n",
    "print os.popen('head -n 5 %s'%fo.name).read()\n",
    "print ' ... '\n",
    "print os.popen('tail -n 2 %s'%fo.name).read()\n",
    "\n",
    "print fo.name, 'has been created ...'"
   ]
  },
  {
   "cell_type": "code",
   "execution_count": null,
   "metadata": {
    "collapsed": true
   },
   "outputs": [],
   "source": []
  }
 ],
 "metadata": {
  "kernelspec": {
   "display_name": "Python 2",
   "language": "python",
   "name": "python2"
  },
  "language_info": {
   "codemirror_mode": {
    "name": "ipython",
    "version": 2
   },
   "file_extension": ".py",
   "mimetype": "text/x-python",
   "name": "python",
   "nbconvert_exporter": "python",
   "pygments_lexer": "ipython2",
   "version": "2.7.10"
  }
 },
 "nbformat": 4,
 "nbformat_minor": 0
}
