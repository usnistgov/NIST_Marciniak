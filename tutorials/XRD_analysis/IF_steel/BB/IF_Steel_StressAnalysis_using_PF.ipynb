{
 "cells": [
  {
   "cell_type": "code",
   "execution_count": 1,
   "metadata": {
    "collapsed": false
   },
   "outputs": [
    {
     "name": "stdout",
     "output_type": "stream",
     "text": [
      "Populating the interactive namespace from numpy and matplotlib\n"
     ]
    }
   ],
   "source": [
    "%pylab inline"
   ]
  },
  {
   "cell_type": "code",
   "execution_count": 2,
   "metadata": {
    "collapsed": true
   },
   "outputs": [],
   "source": [
    "import os\n",
    "from glob import glob\n",
    "import time\n",
    "from MP import progress_bar, lib\n",
    "from MP.lib import mpl_lib\n",
    "import matplotlib as mpl\n",
    "import cPickle as pickle\n",
    "from MP.mat import mech\n",
    "\n",
    "path_home=os.getcwd()\n",
    "\n",
    "os.chdir('/Users/yj/repo/vpsc/vpsc-dev-fld/ipynb')\n",
    "import lib_dat\n",
    "os.chdir(path_home)\n",
    "\n",
    "fc=mech.FlowCurve"
   ]
  },
  {
   "cell_type": "code",
   "execution_count": 3,
   "metadata": {
    "collapsed": true
   },
   "outputs": [],
   "source": [
    "path2pickles = '/Users/yj/repo/FLD_DIC_XRAY/tutorials/pickles/'"
   ]
  },
  {
   "cell_type": "code",
   "execution_count": 4,
   "metadata": {
    "collapsed": false
   },
   "outputs": [],
   "source": [
    "f=open(os.path.join(path2pickles,'bulge_exp'),'rb')\n",
    "bulge_exp_dat=pickle.load(f)\n",
    "f.close()\n",
    "#plot(bulge_exp_dat[0],bulge_exp_dat[1])"
   ]
  },
  {
   "cell_type": "markdown",
   "metadata": {},
   "source": [
    "- Raw Data by X-ray using PF program"
   ]
  },
  {
   "cell_type": "code",
   "execution_count": 5,
   "metadata": {
    "collapsed": true
   },
   "outputs": [],
   "source": [
    "dat=\"\"\"2.13E-05\t36.12\t7.01\t50.6\t6.92\n",
    "3.32E-05\t20.22\t8.86\t38.14\t7.93\n",
    "4.40E-05\t36.16\t7.01\t50.61\t6.92\n",
    "5.56E-05\t20.42\t8.86\t38.29\t7.93\n",
    "3.28E-04\t55.28\t7.12\t16.55\t6.99\n",
    "4.49E-04\t161.07\t7.49\t92.96\t6.55\n",
    "4.57E-04\t161.36\t7.49\t93.26\t6.55\n",
    "4.63E-04\t55.74\t7.12\t16.77\t6.99\n",
    "4.69E-03\t230.46\t7.32\t238.75\t7.19\n",
    "4.80E-03\t230.66\t7.32\t238.68\t7.19\n",
    "7.67E-03\t207.23\t7.4\t185.22\t7.2\n",
    "7.70E-03\t207.24\t7.4\t185.04\t7.2\n",
    "7.72E-03\t252.33\t7.85\t219.01\t6.84\n",
    "7.75E-03\t252.69\t7.85\t219.33\t6.84\n",
    "8.85E-03\t236.12\t7.39\t239.45\t7.21\n",
    "8.96E-03\t236.47\t7.39\t239.21\t7.21\n",
    "1.29E-02\t259.7\t7.62\t254.07\t7.35\n",
    "1.30E-02\t259.96\t7.62\t254.43\t7.36\n",
    "1.39E-02\t246.44\t8.08\t233.45\t7.13\n",
    "1.41E-02\t246.64\t8.09\t233.7\t7.13\n",
    "1.42E-02\t233.74\t7.61\t197.63\t7.43\n",
    "1.43E-02\t233.87\t7.61\t197.75\t7.43\n",
    "1.70E-02\t263.17\t7.72\t261.39\t7.52\n",
    "1.70E-02\t263.17\t7.72\t261.4\t7.52\n",
    "2.06E-02\t256.99\t8.31\t250.69\t7.47\n",
    "2.07E-02\t257.19\t8.32\t250.94\t7.47\n",
    "2.09E-02\t271.83\t8.08\t237.12\t7.88\n",
    "2.10E-02\t271.85\t8.08\t237.28\t7.88\n",
    "2.11E-02\t270.89\t7.92\t284.97\t7.78\n",
    "2.11E-02\t270.9\t7.92\t284.98\t7.78\n",
    "2.52E-02\t278.43\t8.08\t289.13\t7.95\n",
    "2.52E-02\t278.46\t8.08\t289.16\t7.95\n",
    "2.70E-02\t276.81\t8.56\t276.06\t7.77\n",
    "2.71E-02\t276.87\t8.56\t276.12\t7.78\n",
    "2.76E-02\t289.14\t8.43\t245.46\t8.18\n",
    "2.77E-02\t289.18\t8.43\t245.49\t8.18\n",
    "2.93E-02\t296.17\t8.29\t298.98\t8.11\n",
    "2.95E-02\t296.53\t8.29\t299.37\t8.12\n",
    "3.31E-02\t307.16\t9\t297.27\t8.18\n",
    "3.34E-02\t301.08\t8.5\t321.7\t8.36\n",
    "3.34E-02\t307.81\t9.01\t297.74\t8.19\n",
    "3.35E-02\t301.24\t8.51\t321.85\t8.36\n",
    "3.43E-02\t321.46\t8.79\t259.76\t8.61\n",
    "3.45E-02\t322.05\t8.8\t260.26\t8.62\n",
    "3.66E-02\t284.39\t8.66\t327.92\t7.92\n",
    "3.68E-02\t284.72\t8.67\t328.24\t7.92\n",
    "3.76E-02\t307.51\t8.68\t328.55\t8.51\n",
    "3.76E-02\t307.71\t8.69\t328.74\t8.51\n",
    "3.92E-02\t337.84\t9.28\t312.33\t8.6\n",
    "3.93E-02\t337.97\t9.28\t312.45\t8.61\n",
    "4.09E-02\t325.53\t9.26\t282.6\t9.03\n",
    "4.10E-02\t325.69\t9.26\t282.74\t9.03\n",
    "4.17E-02\t326.34\t9.01\t331.32\t8.84\n",
    "4.52E-02\t353.83\t9.66\t322.87\t9.07\n",
    "4.53E-02\t353.98\t9.66\t323.04\t9.07\n",
    "4.60E-02\t322.11\t9.19\t347.05\t8.98\n",
    "4.61E-02\t322.2\t9.19\t347.14\t8.98\n",
    "4.77E-02\t342.24\t9.67\t314.58\t9.5\n",
    "4.77E-02\t342.26\t9.67\t314.6\t9.5\n",
    "5.00E-02\t339.54\t9.44\t336.85\t9.23\n",
    "5.01E-02\t339.61\t9.44\t336.91\t9.23\n",
    "5.09E-02\t367.16\t9.83\t339.4\t9.43\n",
    "5.11E-02\t367.39\t9.84\t339.59\t9.44\n",
    "5.39E-02\t372.63\t10.05\t327.86\t9.99\n",
    "5.39E-02\t372.65\t10.05\t327.88\t9.99\n",
    "5.41E-02\t349.67\t9.74\t347.65\t9.47\n",
    "5.41E-02\t349.73\t9.75\t347.7\t9.47\n",
    "5.65E-02\t388.45\t10.32\t349.72\t9.91\n",
    "5.66E-02\t388.54\t10.33\t350.04\t9.91\n",
    "5.80E-02\t359.51\t10.07\t367.4\t9.87\n",
    "5.80E-02\t359.57\t10.08\t367.45\t9.88\n",
    "6.00E-02\t382.27\t10.62\t332.6\t10.43\n",
    "6.02E-02\t382.61\t10.63\t333.1\t10.44\n",
    "6.19E-02\t362.06\t10.49\t385.73\t10.3\n",
    "6.21E-02\t399.26\t10.66\t368.03\t10.32\n",
    "6.21E-02\t362.66\t10.5\t386.27\t10.31\n",
    "6.21E-02\t399.37\t10.67\t368.12\t10.32\n",
    "6.63E-02\t395.67\t11.16\t353.23\t10.89\n",
    "6.64E-02\t395.82\t11.16\t353.39\t10.89\n",
    "6.73E-02\t417.23\t11.17\t374.48\t10.79\n",
    "6.74E-02\t417.46\t11.18\t374.69\t10.8\n",
    "7.25E-02\t394.76\t11.48\t366.4\t11.3\n",
    "7.25E-02\t394.86\t11.49\t366.46\t11.31\n",
    "7.25E-02\t423.26\t11.53\t378.59\t11.35\n",
    "7.27E-02\t423.66\t11.54\t379.09\t11.36\n",
    "7.76E-02\t440.14\t12.05\t381.33\t11.77\n",
    "7.78E-02\t440.34\t12.06\t381.46\t11.78\n",
    "7.83E-02\t412.99\t12.15\t389.62\t11.82\n",
    "7.83E-02\t413.07\t12.16\t389.67\t11.83\n",
    "8.24E-02\t445.6\t12.36\t393.64\t12.19\n",
    "8.26E-02\t445.75\t12.37\t393.92\t12.2\n",
    "8.40E-02\t419.42\t12.59\t370.99\t12.32\n",
    "8.42E-02\t419.6\t12.6\t371\t12.34\n",
    "8.73E-02\t436.94\t12.83\t386.27\t12.6\n",
    "9.00E-02\t417.16\t13.3\t376.02\t12.97\n",
    "9.03E-02\t417.24\t13.32\t376.07\t12.99\n",
    "9.20E-02\t410.94\t12.38\t429.01\t12.15\n",
    "9.20E-02\t410.94\t12.38\t429.01\t12.15\n",
    "9.58E-02\t392.98\t13.86\t375.08\t13.38\n",
    "9.62E-02\t392.79\t13.89\t374.52\t13.41\n",
    "1.32E-01\t422.55\t14.29\t423.48\t13.78\n",
    "1.32E-01\t422.68\t14.3\t423.65\t13.78\n",
    "1.69E-01\t445.36\t14.7\t456.16\t14.06\n",
    "1.69E-01\t445.37\t14.7\t456.17\t14.06\n",
    "1.85E-01\t490.5\t15.06\t479.48\t14.52\n",
    "1.85E-01\t490.59\t10.65\t479.57\t10.27\n",
    "1.99E-01\t452.45\t16.58\t424.67\t15.72\n",
    "1.99E-01\t452.54\t16.58\t424.76\t15.72\n",
    "2.01E-01\t488.27\t16.24\t457.62\t15.42\n",
    "2.31E-01\t476.15\t15.81\t470.08\t14.83\n",
    "2.31E-01\t476.21\t15.81\t470.12\t14.83\n",
    "2.67E-01\t476.43\t16.28\t461.47\t15.24\n",
    "2.68E-01\t476.33\t16.28\t461.41\t15.24\n",
    "2.71E-01\t481.89\t16.2\t466.17\t15.12\n",
    "2.71E-01\t481.89\t16.2\t466.17\t15.12\n",
    "2.89E-01\t452.83\t15.8\t445.05\t14.64\n",
    "2.89E-01\t452.81\t15.8\t445.04\t14.64\n",
    "2.96E-01\t413.7\t17.11\t416.45\t15.89\n",
    "2.96E-01\t413.67\t17.11\t416.43\t15.89\n",
    "2.98E-01\t454.45\t16.07\t454.87\t14.99\n",
    "2.98E-01\t454.37\t16.07\t454.83\t14.99\n",
    "3.28E-01\t431.78\t15.78\t424.9\t14.75\n",
    "3.28E-01\t431.7\t15.78\t424.85\t14.75\n",
    "3.33E-01\t391.36\t15.65\t400.69\t14.43\n",
    "3.45E-01\t406.06\t15.24\t417.68\t14.01\n",
    "3.45E-01\t405.95\t15.23\t417.61\t14.01\n",
    "3.53E-01\t402.39\t15.69\t401.38\t14.48\n",
    "3.53E-01\t402.39\t15.69\t401.38\t14.48\n",
    "3.71E-01\t395.35\t15.19\t398.71\t13.96\n",
    "3.71E-01\t395.35\t15.19\t398.71\t13.96\n",
    "3.78E-01\t407.68\t15.67\t408.13\t14.45\n",
    "3.78E-01\t407.68\t15.67\t408.13\t14.45\n",
    "3.90E-01\t397.47\t16.11\t395.55\t14.85\n",
    "3.90E-01\t397.47\t16.11\t395.55\t14.85\n",
    "4.03E-01\t401.8\t16.01\t399.02\t14.81\n",
    "4.03E-01\t401.8\t16.01\t399.02\t14.81\n",
    "4.08E-01\t88.42\t16.18\t95.88\t14.52\n",
    "4.10E-01\t407.27\t16.31\t407.5\t14.99\n",
    "4.10E-01\t407.27\t16.31\t407.5\t14.99\"\"\"\n",
    "d=dat.split('\\n')"
   ]
  },
  {
   "cell_type": "markdown",
   "metadata": {},
   "source": [
    "## Data analysis"
   ]
  },
  {
   "cell_type": "code",
   "execution_count": 6,
   "metadata": {
    "collapsed": false
   },
   "outputs": [],
   "source": [
    "epsilon=[]\n",
    "sigma=[]\n",
    "sigma_e=[]\n",
    "for i in xrange(len(d)):\n",
    "    l = d[i]\n",
    "    dd=l.split()\n",
    "    dd=map(float,dd)\n",
    "    exx,sx,sxe, sy,sye = dd\n",
    "    eyy=exx\n",
    "    \n",
    "    epsilon.append([exx,eyy,-exx-eyy,0,0,0])\n",
    "    sigma.append([sx,sy,0,0,0,0])\n",
    "    sigma_e.append([sxe,sye,0,0,0,0])\n",
    "    \n",
    "sigma=np.array(sigma).T\n",
    "sigma_e=np.array(sigma_e).T\n",
    "epsilon=np.array(epsilon).T\n",
    "\n",
    "se = np.sqrt(sigma_e[0]**2+sigma_e[1]**2)\n",
    "svm = (sigma[0]+sigma[1])/2.\n",
    "evm = epsilon[0]*2.\n",
    "\n",
    "## using fc class...\n",
    "myfc=fc()\n",
    "myfc.get_stress(sigma[0],0,0)\n",
    "myfc.get_stress(sigma[1],1,1)\n",
    "myfc.set_zero_sigma_ij(2,2)\n",
    "myfc.set_zero_shear_stress()\n",
    "myfc.get_strain(epsilon[0],0,0)\n",
    "myfc.get_strain(epsilon[1],1,1)\n",
    "myfc.get_strain(-epsilon[0]-epsilon[1],2,2)\n",
    "myfc.set_zero_shear_strain()\n",
    "\n",
    "myfc.integrate_work()\n",
    "myfc.get_vm_stress()\n",
    "myfc.get_vm_strain()\n",
    "\n",
    "evm = myfc.epsilon_vm\n",
    "svm = myfc.sigma_vm\n",
    "\n",
    "## Error propagate to SVM\n",
    "myfc.sigma_e = sigma_e\n",
    "myfc.svm_e = (myfc.sigma_e[0]+myfc.sigma_e[1])/2. "
   ]
  },
  {
   "cell_type": "code",
   "execution_count": 25,
   "metadata": {
    "collapsed": false
   },
   "outputs": [
    {
     "data": {
      "image/png": "[encoded data removed]",
      "text/plain": [
       "<matplotlib.figure.Figure at 0x1068033d0>"
      ]
     },
     "metadata": {},
     "output_type": "display_data"
    }
   ],
   "source": [
    "fig=plt.figure(figsize=(2.5,2.2))\n",
    "ax=fig.add_subplot(111)\n",
    "ax.errorbar(myfc.epsilon_vm[:-3],myfc.sigma_vm[:-3],yerr=myfc.svm_e[:-3],color='r',marker='.',linestyle='None',label='Marciniak')\n",
    "ax.plot(bulge_exp_dat[0],bulge_exp_dat[1],color='k',label='Bulge')\n",
    "ax.legend(loc='best')\n",
    "ax.set_xlabel(r'$\\mathrm{\\bar{E}^{VM}}$',fontsize=12)\n",
    "ax.set_ylabel(r'$\\mathrm{\\bar{\\Sigma}^{VM}}$ [MPa]',fontsize=12)\n",
    "ax.set_xlim(0,0.9)\n",
    "\n",
    "lib_dat.tick_bin(ax)\n",
    "plt.tight_layout()\n",
    "fig.savefig('Bulge_Xray_TGHPF.pdf',bbox_inches='tight')"
   ]
  },
  {
   "cell_type": "code",
   "execution_count": 26,
   "metadata": {
    "collapsed": false
   },
   "outputs": [
    {
     "data": {
      "image/png": "[encoded data removed]",
      "text/plain": [
       "<matplotlib.figure.Figure at 0x106f61a50>"
      ]
     },
     "metadata": {},
     "output_type": "display_data"
    }
   ],
   "source": [
    "fig=plt.figure(figsize=(5,2.2))\n",
    "ax=fig.add_subplot(121)\n",
    "ax.errorbar(evm,sigma[0],yerr=sigma_e[0],color='r',marker='.',linestyle='None',label='PF')\n",
    "ax.plot(bulge_exp_dat[0],bulge_exp_dat[1],color='k',label='Bulge')\n",
    "ax.legend(loc='best')\n",
    "ax.set_xlabel(r'$\\mathrm{\\bar{E}^{VM}}$')\n",
    "ax.set_ylabel(r'$\\mathrm{\\bar{\\Sigma}_{11}}$')\n",
    "ax.set_xlim(0.,0.2)\n",
    "ax.set_ylim(0,450)\n",
    "\n",
    "ax=fig.add_subplot(122)\n",
    "ax.errorbar(evm,sigma[1],yerr=sigma_e[1],color='b',marker='.',linestyle='None',label='PF')\n",
    "ax.plot(bulge_exp_dat[0],bulge_exp_dat[1],color='k',label='Bulge')\n",
    "ax.legend(loc='best')\n",
    "ax.set_xlabel(r'$\\mathrm{\\bar{E}^{VM}}$')\n",
    "ax.set_ylabel(r'$\\mathrm{\\bar{\\Sigma}_{22}}$')\n",
    "ax.set_xlim(0.,0.2)\n",
    "ax.set_ylim(0,450)\n",
    "\n",
    "plt.tight_layout()"
   ]
  },
  {
   "cell_type": "code",
   "execution_count": 27,
   "metadata": {
    "collapsed": false
   },
   "outputs": [
    {
     "data": {
      "image/png": "[encoded data removed]",
      "text/plain": [
       "<matplotlib.figure.Figure at 0x10679e610>"
      ]
     },
     "metadata": {},
     "output_type": "display_data"
    }
   ],
   "source": [
    "fig=plt.figure(figsize=(2.5,2.2))\n",
    "ax=fig.add_subplot(111)\n",
    "ax.errorbar(sigma[0],sigma[1],yerr=sigma_e[1],xerr=sigma_e[0],color='r',marker='.',linestyle='None',label='PF')\n",
    "ax.plot(bulge_exp_dat[0],bulge_exp_dat[1],color='k',label='Bulge')\n",
    "ax.legend(loc='best')\n",
    "ax.set_xlabel(r'$\\mathrm{\\bar{E}^{VM}}$')\n",
    "ax.set_ylabel(r'$\\mathrm{\\bar{\\Sigma}_{11}}$')\n",
    "ax.set_xlim(0.,)\n",
    "ax.set_ylim(0.,)\n",
    "plt.tight_layout()"
   ]
  },
  {
   "cell_type": "code",
   "execution_count": 28,
   "metadata": {
    "collapsed": true
   },
   "outputs": [],
   "source": [
    "with open('../../../pickles/RS_BB_pf.pck','w') as f:\n",
    "    pickle.dump(myfc, f)"
   ]
  },
  {
   "cell_type": "code",
   "execution_count": 31,
   "metadata": {
    "collapsed": false
   },
   "outputs": [
    {
     "data": {
      "text/plain": [
       "<Container object of 3 artists>"
      ]
     },
     "execution_count": 31,
     "metadata": {},
     "output_type": "execute_result"
    },
    {
     "data": {
      "image/png": "[encoded data removed]",
      "text/plain": [
       "<matplotlib.figure.Figure at 0x107ac4e50>"
      ]
     },
     "metadata": {},
     "output_type": "display_data"
    }
   ],
   "source": [
    "_fc_=pickle.load(open('../../../pickles/RS_BB_pf.pck','rb'))\n",
    "#plot(_fc_.epsilon_vm,_fc_.sigma_vm)\n",
    "errorbar(_fc_.epsilon_vm,_fc_.sigma_vm,yerr=_fc_.svm_e,linestyle='None',color='r',marker='.')"
   ]
  },
  {
   "cell_type": "code",
   "execution_count": 32,
   "metadata": {
    "collapsed": false
   },
   "outputs": [
    {
     "data": {
      "text/plain": [
       "[<matplotlib.lines.Line2D at 0x107eac4d0>]"
      ]
     },
     "execution_count": 32,
     "metadata": {},
     "output_type": "execute_result"
    },
    {
     "data": {
      "image/png": "[encoded data removed]",
      "text/plain": [
       "<matplotlib.figure.Figure at 0x107dba050>"
      ]
     },
     "metadata": {},
     "output_type": "display_data"
    }
   ],
   "source": [
    "plot(_fc_.epsilon_vm, _fc_.svm_e/_fc_.sigma_vm*100.)"
   ]
  }
 ],
 "metadata": {
  "kernelspec": {
   "display_name": "Python 2",
   "language": "python",
   "name": "python2"
  },
  "language_info": {
   "codemirror_mode": {
    "name": "ipython",
    "version": 2
   },
   "file_extension": ".py",
   "mimetype": "text/x-python",
   "name": "python",
   "nbconvert_exporter": "python",
   "pygments_lexer": "ipython2",
   "version": "2.7.10"
  }
 },
 "nbformat": 4,
 "nbformat_minor": 0
}
