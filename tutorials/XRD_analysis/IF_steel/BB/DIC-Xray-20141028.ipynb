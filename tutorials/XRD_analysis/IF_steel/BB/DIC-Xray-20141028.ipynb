{
 "cells": [
  {
   "cell_type": "markdown",
   "metadata": {},
   "source": [
    "# Combine DIC data with X-ray in order to calculate multiaxial flow curve"
   ]
  },
  {
   "cell_type": "markdown",
   "metadata": {},
   "source": [
    "- Use pylab inline"
   ]
  },
  {
   "cell_type": "code",
   "execution_count": 1,
   "metadata": {
    "collapsed": false
   },
   "outputs": [
    {
     "name": "stdout",
     "output_type": "stream",
     "text": [
      "Populating the interactive namespace from numpy and matplotlib\n"
     ]
    }
   ],
   "source": [
    "%pylab inline"
   ]
  },
  {
   "cell_type": "markdown",
   "metadata": {},
   "source": [
    "- Dependents"
   ]
  },
  {
   "cell_type": "code",
   "execution_count": 2,
   "metadata": {
    "collapsed": false
   },
   "outputs": [],
   "source": [
    "import os\n",
    "from glob import glob\n",
    "from RS import analyze_proto\n",
    "import matplotlib as mpl\n",
    "import time\n",
    "from MP import progress_bar, lib\n",
    "mpl_lib=lib.mpl_lib\n",
    "uet=progress_bar.update_elapsed_time\n",
    "GS=mpl.gridspec.GridSpec"
   ]
  },
  {
   "cell_type": "markdown",
   "metadata": {},
   "source": [
    "- Name of DIC files"
   ]
  },
  {
   "cell_type": "code",
   "execution_count": 3,
   "metadata": {
    "collapsed": false
   },
   "outputs": [],
   "source": [
    "date='20141028'\n",
    "path='/Users/yj/Documents/ExpDat/IFSteel/Marciniak-X-ray-IF/BB/'\n",
    "fn_DIC=os.path.join(path,date,'DIC/DIC_results.txt')\n",
    "dic_dat=np.loadtxt(fn_DIC,skiprows=1).T"
   ]
  },
  {
   "cell_type": "markdown",
   "metadata": {},
   "source": [
    "# Read lab note book in order to match Xray file and DIC index"
   ]
  },
  {
   "cell_type": "code",
   "execution_count": 4,
   "metadata": {
    "collapsed": false,
    "scrolled": true
   },
   "outputs": [
    {
     "name": "stdout",
     "output_type": "stream",
     "text": [
      "total 320\n",
      "8 -rw-------  1 yj  admin  1472 Mar 30 15:34 28OCT14_0003Data.txt\n",
      "8 -rw-------  1 yj  admin  3009 Mar 30 15:34 28OCT14_0003Data1Phi-135.txt\n",
      "8 -rw-------  1 yj  admin  2998 Mar 30 15:34 28OCT14_0003Data2Phi-45.txt\n",
      "8 -rw-------  1 yj  admin  3007 Mar 30 15:34 28OCT14_0003Data3Phi0.txt\n",
      "8 -rw-------  1 yj  admin  3008 Mar 30 15:34 28OCT14_0003Data4Phi90.txt\n",
      "8 -rw-------  1 yj  admin  1475 Mar 30 15:34 28OCT14_0005Data.txt\n",
      "8 -rw-------  1 yj  admin  3011 Mar 30 15:34 28OCT14_0005Data1Phi-135.txt\n",
      "8 -rw-------  1 yj  admin  3010 Mar 30 15:34 28OCT14_0005Data2Phi-45.txt\n",
      "8 -rw-------  1 yj  admin  3008 Mar 30 15:34 28OCT14_0005Data3Phi0.txt\n",
      "8 -rw-------  1 yj  admin  3009 Mar 30 15:33 28OCT14_0005Data4Phi90.txt\n",
      "8 -rw-------  1 yj  admin  1475 Mar 30 15:33 28OCT14_0006Data.txt\n",
      "8 -rw-------  1 yj  admin  3011 Mar 30 15:33 28OCT14_0006Data1Phi-135.txt\n",
      "8 -rw-------  1 yj  admin  3010 Mar 30 15:35 28OCT14_0006Data2Phi-45.txt\n",
      "8 -rw-------  1 yj  admin  3008 Mar 30 15:35 28OCT14_0006Data3Phi0.txt\n",
      "8 -rw-------  1 yj  admin  3009 Mar 30 15:35 28OCT14_0006Data4Phi90.txt\n",
      "8 -rw-------  1 yj  admin  1475 Mar 30 15:35 28OCT14_0007Data.txt\n",
      "8 -rw-------  1 yj  admin  3011 Mar 30 15:35 28OCT14_0007Data1Phi-135.txt\n",
      "8 -rw-------  1 yj  admin  3010 Mar 30 15:35 28OCT14_0007Data2Phi-45.txt\n",
      "8 -rw-------  1 yj  admin  3008 Mar 30 15:35 28OCT14_0007Data3Phi0.txt\n",
      "8 -rw-------  1 yj  admin  3009 Mar 30 15:35 28OCT14_0007Data4Phi90.txt\n",
      "8 -rw-------  1 yj  admin  1475 Mar 30 15:35 28OCT14_0008Data.txt\n",
      "8 -rw-------  1 yj  admin  3011 Mar 30 15:35 28OCT14_0008Data1Phi-135.txt\n",
      "8 -rw-------  1 yj  admin  3010 Mar 30 15:35 28OCT14_0008Data2Phi-45.txt\n",
      "8 -rw-------  1 yj  admin  3008 Mar 30 15:35 28OCT14_0008Data3Phi0.txt\n",
      "8 -rw-------  1 yj  admin  3009 Mar 30 15:34 28OCT14_0008Data4Phi90.txt\n",
      "8 -rw-------  1 yj  admin  1474 Mar 30 15:34 28OCT14_0009Data.txt\n",
      "8 -rw-------  1 yj  admin  3011 Mar 30 15:34 28OCT14_0009Data1Phi-135.txt\n",
      "8 -rw-------  1 yj  admin  3010 Mar 30 15:34 28OCT14_0009Data2Phi-45.txt\n",
      "8 -rw-------  1 yj  admin  3008 Mar 30 15:34 28OCT14_0009Data3Phi0.txt\n",
      "8 -rw-------  1 yj  admin  3009 Mar 30 15:34 28OCT14_0009Data4Phi90.txt\n",
      "8 -rw-------  1 yj  admin  1475 Mar 30 15:34 28OCT14_0010Data.txt\n",
      "8 -rw-------  1 yj  admin  3011 Mar 30 15:34 28OCT14_0010Data1Phi-135.txt\n",
      "8 -rw-------  1 yj  admin  3010 Mar 30 15:34 28OCT14_0010Data2Phi-45.txt\n",
      "8 -rw-------  1 yj  admin  3008 Mar 30 15:34 28OCT14_0010Data3Phi0.txt\n",
      "8 -rw-------  1 yj  admin  3009 Mar 30 15:34 28OCT14_0010Data4Phi90.txt\n",
      "8 -rw-------  1 yj  admin  1474 Mar 30 15:34 28OCT14_0011Data.txt\n",
      "8 -rw-------  1 yj  admin  3011 Mar 30 15:34 28OCT14_0011Data1Phi-135.txt\n",
      "8 -rw-------  1 yj  admin  3010 Mar 30 15:34 28OCT14_0011Data2Phi-45.txt\n",
      "8 -rw-------  1 yj  admin  3008 Mar 30 15:34 28OCT14_0011Data3Phi0.txt\n",
      "8 -rw-------  1 yj  admin  3009 Mar 30 15:34 28OCT14_0011Data4Phi90.txt\n",
      "\n"
     ]
    }
   ],
   "source": [
    "print os.popen('ls -ls %s'%os.path.join(path,date,'Xray')).read()"
   ]
  },
  {
   "cell_type": "markdown",
   "metadata": {},
   "source": [
    "- Making a fref file for Proto data analysis"
   ]
  },
  {
   "cell_type": "code",
   "execution_count": 5,
   "metadata": {
    "collapsed": false
   },
   "outputs": [
    {
     "name": "stdout",
     "output_type": "stream",
     "text": [
      "-----------------------------------------------------------------------------------------------------\n",
      "/Users/yj/Documents/ExpDat/IFSteel/Marciniak-X-ray-IF/BB/20141028/f_fref.txt has been created:\n",
      " Use it for further stress analysis\n",
      "-----------------------------------------------------------------------------------------------------\n"
     ]
    }
   ],
   "source": [
    "# ------------------------------------------------------------------------\n",
    "# Find suitable experimental stress factor file\n",
    "#fn_sff='/Users/yj/GoogleDrive/expdat/Marciniak-X-ray-IF/YJ_BB_10times.sff'\n",
    "fn_sff='/Users/yj/Documents/ExpDat/IFSteel/Marciniak-X-ray-IF/YJ_BB_10times.sff'\n",
    "\n",
    "# ------------------------------------------------------------------------\n",
    "# Refer to Laboratory notebook to match up the X-ray data filename \n",
    "# and DIC image number\n",
    "DIC_XRD=\"\"\"#11  28OCT14_0006.tr\n",
    "#12  28OCT14_0006.tr\n",
    "#13  28OCT14_0007.tr\n",
    "#14  28OCT14_0007.tr\n",
    "#15  28OCT14_0008.tr\n",
    "#16  28OCT14_0008.tr\n",
    "#17  28OCT14_0009.tr\n",
    "#18  28OCT14_0009.tr\n",
    "#19  28OCT14_0010.tr\n",
    "#20  28OCT14_0010.tr\n",
    "#21  28OCT14_0011.tr\n",
    "#22  28OCT14_0011.tr\"\"\"\n",
    "\n",
    "# ------------------------------------------------------------------------\n",
    "\n",
    "fn_fref=fn_DIC.split('DIC')[0]+'f_fref.txt'\n",
    "f_fref=open(fn_fref,'w')\n",
    "\n",
    "f_fref.write(fn_sff)\n",
    "f_fref.write('  MajorStrainColumn: 2\\n')\n",
    "f_fref.write('%14s %12s %12s %12s %12s %5s\\n'%('filename','Exx','Eyy','Exy','Ezz','DIC'))\n",
    "lines=DIC_XRD.split('\\n')\n",
    "inds = []; fns = []\n",
    "for line in lines:\n",
    "    ind,fn=line.split()\n",
    "    ind=int(ind.split('#')[-1])\n",
    "    fn = fn.split('.tr')[0]\n",
    "    inds.append(ind); fns.append(fn)\n",
    "    \n",
    "    col = dic_dat[0]\n",
    "    ix=np.where(col==ind)[0]\n",
    "    i = int(col[ix][0]) ## dic index\n",
    "    # print ix,i\n",
    "\n",
    "    exx = dic_dat[5][ix]\n",
    "    eyy = dic_dat[7][ix]\n",
    "    exy = dic_dat[9][ix]\n",
    "    ezz = -exx-eyy    \n",
    "    f_fref.write(('%14s '+'%+11.5e '*4+'%5i \\n')%(fn, exx, eyy, exy, ezz,i))\n",
    "\n",
    "f_fref.close()\n",
    "print '-----------------------------------------------------------------------------------------------------'\n",
    "print fn_fref, 'has been created:\\n Use it for further stress analysis'\n",
    "print '-----------------------------------------------------------------------------------------------------'"
   ]
  },
  {
   "cell_type": "code",
   "execution_count": 6,
   "metadata": {
    "collapsed": false
   },
   "outputs": [
    {
     "name": "stdout",
     "output_type": "stream",
     "text": [
      "/Users/yj/Documents/ExpDat/IFSteel/Marciniak-X-ray-IF/YJ_BB_10times.sff  MajorStrainColumn: 2\n",
      "      filename          Exx          Eyy          Exy          Ezz   DIC\n",
      "  28OCT14_0006 +3.66497e-02 +3.54856e-02 +1.89854e-04 -7.21353e-02    11 \n",
      "  28OCT14_0006 +3.68092e-02 +3.55027e-02 +1.87518e-04 -7.23119e-02    12 \n",
      "  28OCT14_0007 +1.69198e-01 +1.65514e-01 +7.77745e-04 -3.34712e-01    13 \n",
      "  28OCT14_0007 +1.69202e-01 +1.65499e-01 +7.74217e-04 -3.34701e-01    14 \n",
      "  28OCT14_0008 +2.30634e-01 +2.28732e-01 +7.20948e-04 -4.59366e-01    15 \n",
      "  28OCT14_0008 +2.30711e-01 +2.28801e-01 +6.45355e-04 -4.59512e-01    16 \n",
      "  28OCT14_0009 +2.88620e-01 +2.89979e-01 +5.13632e-04 -5.78599e-01    17 \n",
      "  28OCT14_0009 +2.88590e-01 +2.90058e-01 +5.60363e-04 -5.78648e-01    18 \n",
      "  28OCT14_0010 +3.44659e-01 +3.50673e-01 +2.62421e-04 -6.95332e-01    19 \n",
      "  28OCT14_0010 +3.44806e-01 +3.50880e-01 +3.27218e-04 -6.95686e-01    20 \n",
      "  28OCT14_0011 +3.71421e-01 +3.80288e-01 +1.35563e-04 -7.51709e-01    21 \n",
      "  28OCT14_0011 +3.71431e-01 +3.80286e-01 +1.57289e-04 -7.51717e-01    22 \n",
      "\n"
     ]
    }
   ],
   "source": [
    "print os.popen('cat %s'%os.path.join(path,date,'f_fref.txt')).read()"
   ]
  },
  {
   "cell_type": "markdown",
   "metadata": {},
   "source": [
    "+ Running analyze_proto.main for the X-ray and DIC experiments to calculate\n",
    "  stress/strain"
   ]
  },
  {
   "cell_type": "code",
   "execution_count": 7,
   "metadata": {
    "collapsed": false
   },
   "outputs": [
    {
     "name": "stdout",
     "output_type": "stream",
     "text": [
      "---------------------------------------------\n",
      "Strain information where SF/IG were measured\n",
      "requires either fc or fn_str specified\n",
      "If not the strain column in fn_sf is used,\n",
      "subsequent analysis is performed by assuming\n",
      "that the sample is in equibiaxial strain\n",
      "---------------------------------------------\n",
      "\n",
      "Warning: overwrite the SF.flow / IG.flow\n",
      "\n",
      "#-----------------------------------------------------#\n",
      " Interpolate SF and IG for matching with D-spacings\n",
      "epsilon_vm:\n",
      "[ 0.07213843  0.07231583  0.33471876  0.33470783  0.45936731  0.45951332\n",
      "  0.57859953  0.57864862  0.69534067  0.69569484  0.75172643  0.75173438]\n",
      "Strain reference at which sf was measured:\n",
      "[ 0.    0.02  0.2   0.5   0.7 ]\n",
      "  ** Phi angles of SF are different **\n",
      "  ** Phi angles of IG are different **\n",
      "#-----------------------------------------------------#\n",
      "Warning: color map was not specified.\n",
      "Warning: color map was not specified.\n",
      "-----------------------------------\n",
      "Standard deviation in d_ehkl at istp=0\n",
      "\n",
      "phi:    -135      -45        0       90  avg\n",
      "std: 1.5e-04  1.9e-04  1.2e-04  1.6e-04  1.6e-04 \n",
      "Elapsed time:  19 [sec]"
     ]
    }
   ],
   "source": [
    "## plastic strain of the points where the X-ray d-spacing\n",
    "## were meausured are important information that is utilized over the X ray analysis.\n",
    "## If, fc or fn_str are not given, the below application\n",
    "## bases on the strain given in the fref file -\n",
    "## the two major strain components are used with assumption\n",
    "## that the sample was in 'equi-biaxial' strain.\n",
    "t0=time.time()\n",
    "RS=analyze_proto.main(path=os.path.join(path,date,'Xray'),\n",
    "                   fn_sf=fn_sff,fref=os.path.join(path,date,'f_fref.txt'),\n",
    "                   ind_plot=True)\n",
    "uet(time.time()-t0)"
   ]
  },
  {
   "cell_type": "code",
   "execution_count": 8,
   "metadata": {
    "collapsed": false
   },
   "outputs": [
    {
     "data": {
      "image/png": "[encoded data removed]",
      "text/plain": [
       "<matplotlib.figure.Figure at 0x106076e10>"
      ]
     },
     "metadata": {},
     "output_type": "display_data"
    }
   ],
   "source": [
    "\"\"\" \n",
    "RS.EXP.flow.epsilon, RS.flow.sigma\n",
    "\"\"\"\n",
    "mn=0;mx=0.8\n",
    "norm = mpl.colors.Normalize(vmin=mn,vmax=mx)\n",
    "cmap, m = mpl_lib.norm_cmap(mn=mn,mx=mx)\n",
    "\n",
    "fx=9\n",
    "fy=fx*0.35\n",
    "fig=plt.figure(figsize=(fx,fy))\n",
    "gs=GS(20,3,wspace=0.5)\n",
    "ax1=fig.add_subplot(gs[5:,0])\n",
    "ax2=fig.add_subplot(gs[5:,1])\n",
    "ax3=fig.add_subplot(gs[5:,2])\n",
    "\n",
    "nstp = RS.EXP.flow.nstp\n",
    "\n",
    "\n",
    "for istp in xrange(nstp):\n",
    "    c=m.to_rgba(RS.EXP.flow.epsilon_vm[istp])\n",
    "    ax2.plot(RS.flow.sigma[0,0][istp],RS.flow.sigma[1,1][istp],\n",
    "             'o',mec='k',mfc=c)\n",
    "    ax1.plot(RS.EXP.flow.epsilon_vm[istp],RS.flow.sigma_vm[istp],'o',c=c)\n",
    "# ax2.plot(RS.flow.sigma[0,0],RS.flow.sigma[1,1],'k--')\n",
    "\n",
    "ax3.plot(RS.EXP.flow.epsilon[0,0],RS.flow.sigma[0,0],'x',label=r'$\\mathrm{\\bar{\\Sigma}_{11} - \\bar{E}_{11}}$')\n",
    "ax3.plot(RS.EXP.flow.epsilon[1,1],RS.flow.sigma[1,1],'+',label=r'$\\mathrm{\\bar{\\Sigma}_{22} - \\bar{E}_{22}}$')\n",
    "\n",
    "\n",
    "for ax in fig.axes:\n",
    "    ax.set_ylim(0.,);ax.set_xlim(0.,)\n",
    "    ax.locator_params(nbins=4)\n",
    "    ax.grid()\n",
    "\n",
    "ax2.set_xlabel(r'$\\mathrm{\\bar{\\Sigma}_{11}}$')\n",
    "ax2.set_ylabel(r'$\\mathrm{\\bar{\\Sigma}_{22}}$')\n",
    "ax3.set_xlabel(r'$\\mathrm{\\bar{E}_{ii}}$')\n",
    "ax3.set_ylabel(r'$\\mathrm{\\bar{\\Sigma}_{ii}}$')\n",
    "ax1.set_xlabel(r'$\\mathrm{\\bar{E}_{VM}}$')\n",
    "ax1.set_ylabel(r'$\\mathrm{\\bar{\\Sigma}_{VM}}$')\n",
    "ax3.legend(loc='best',fontsize=9,numpoints=1,bbox_to_anchor=(1,0.9))\n",
    "\n",
    "\n",
    "axcb=fig.add_subplot(gs[0,1])\n",
    "cb=mpl.colorbar.ColorbarBase(axcb,cmap=cmap,orientation='horizontal',\n",
    "                          norm=norm,filled=True,format='%3.1f')\n",
    "# axcb.locator_params(nbins=4)\n",
    "axcb.set_xlabel(r'$\\mathrm{\\bar{E}_{VM}}$')\n",
    "cb.set_ticks(np.linspace(mn,mx,5))\n",
    "#mpl_lib.add_cb(ax=axcb,cmap=cmap, filled=True,\n",
    "#               format='%5.3f',norm=norm,\n",
    "#               ylab=r'$\\mathrm{\\bar{E}_{VM}}$')\n"
   ]
  },
  {
   "cell_type": "markdown",
   "metadata": {},
   "source": [
    "- Pickle the object 'RS' and save to a file"
   ]
  },
  {
   "cell_type": "code",
   "execution_count": 9,
   "metadata": {
    "collapsed": false
   },
   "outputs": [
    {
     "name": "stdout",
     "output_type": "stream",
     "text": [
      "/Users/yj/Documents/ExpDat/IFSteel/Marciniak-X-ray-IF/BB/20141028/RS.pck\n",
      "/Users/yj/repo/FLD_DIC_XRAY/tutorials/XRD_analysis/IF_steel/BB/../../../pickles/RS_20141028.pck\n"
     ]
    }
   ],
   "source": [
    "import cPickle as pickle\n",
    "def save_object(obj, filename):\n",
    "    with open(filename, 'wb') as output:\n",
    "        pickle.dump(obj, output, pickle.HIGHEST_PROTOCOL)\n",
    "\n",
    "fn = os.path.join(path,date,'RS.pck')\n",
    "print fn\n",
    "save_object(obj=RS, filename=fn)\n",
    "\n",
    "fn = os.path.join('../../../pickles/RS_%s.pck'%date)\n",
    "print os.path.join(os.getcwd(),fn)\n",
    "save_object(obj=RS, filename=fn)"
   ]
  }
 ],
 "metadata": {
  "kernelspec": {
   "display_name": "Python 2",
   "language": "python",
   "name": "python2"
  },
  "language_info": {
   "codemirror_mode": {
    "name": "ipython",
    "version": 2
   },
   "file_extension": ".py",
   "mimetype": "text/x-python",
   "name": "python",
   "nbconvert_exporter": "python",
   "pygments_lexer": "ipython2",
   "version": "2.7.10"
  }
 },
 "nbformat": 4,
 "nbformat_minor": 0
}
