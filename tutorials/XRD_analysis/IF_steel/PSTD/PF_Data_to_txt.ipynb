{
 "cells": [
  {
   "cell_type": "code",
   "execution_count": 1,
   "metadata": {
    "collapsed": false
   },
   "outputs": [
    {
     "name": "stdout",
     "output_type": "stream",
     "text": [
      "Populating the interactive namespace from numpy and matplotlib\n"
     ]
    }
   ],
   "source": [
    "import os\n",
    "%pylab inline"
   ]
  },
  {
   "cell_type": "markdown",
   "metadata": {},
   "source": [
    "- 20120717"
   ]
  },
  {
   "cell_type": "code",
   "execution_count": 3,
   "metadata": {
    "collapsed": false
   },
   "outputs": [
    {
     "name": "stdout",
     "output_type": "stream",
     "text": [
      "# of data lines: 36\n",
      "      E_ref     Sxx   Sxx_e     Syy   Syy_e        Exx        Eyy      Exx_e      Eyy_e \n",
      "2.50000e-04  109.50    8.36  -28.39    6.79 -6.623e-04 +8.482e-03 +8.649e-04 +2.011e-03 \n",
      "9.33000e-03  259.45    8.90  127.07    7.12 -7.846e-04 +8.337e-03 +1.079e-03 +2.148e-03 \n",
      "9.16000e-03  259.30    8.89  127.00    7.11 -8.851e-04 +1.383e-02 +1.124e-03 +2.352e-03 \n",
      "1.53000e-02  259.48    9.13  145.45    7.31 -8.994e-04 +1.399e-02 +1.196e-03 +2.399e-03 \n",
      "\n",
      " ... \n",
      "3.77000e-01  528.57   12.89  364.94   30.37 -2.720e-02 +3.248e-01 +4.351e-03 +2.267e-02 \n",
      "3.79000e-01  528.57   12.89  364.94   30.37 -2.719e-02 +3.250e-01 +4.371e-03 +2.271e-02 \n",
      "\n",
      "/Users/yj/Documents/ExpDat/IFSteel/Marciniak-X-ray-IF/PS/20120717/PF_raw_dat.txt has been created ...\n"
     ]
    }
   ],
   "source": [
    "date     = '20120717'\n",
    "\n",
    "\n",
    "path2exp = '/Users/yj/Documents/ExpDat/IFSteel/Marciniak-X-ray-IF/PS'\n",
    "filename = os.path.join(path2exp,date,'PF_raw_dat.txt')\n",
    "fn_fref = os.path.join('/Users/yj/Documents','ExpDat/IFSteel/Marciniak-X-ray-IF/PS',date,'f_fref.txt')\n",
    "dat_fref = np.loadtxt(fn_fref,skiprows=2,dtype='str').T\n",
    "dat_fref = np.array(dat_fref[1::],dtype='float')\n",
    "n_line_fref = dat_fref.shape[-1]\n",
    "\n",
    "dat=\"\"\"8.48E-03\t101.98\t8.6\t253.34\t7.14\n",
    "8.34E-03\t101.91\t8.59\t253.18\t7.13\n",
    "1.38E-02\t129.43\t8.82\t262.15\t7.34\n",
    "1.40E-02\t129.53\t8.83\t262.34\t7.34\n",
    "1.98E-02\t129.17\t9.14\t262.69\t7.71\n",
    "2.00E-02\t129.28\t9.14\t262.9\t7.71\n",
    "2.57E-02\t136.44\t9.21\t281.61\t7.94\n",
    "2.56E-02\t136.47\t9.21\t281.55\t7.94\n",
    "3.13E-02\t126.11\t9.4\t289.78\t8.12\n",
    "3.15E-02\t126.19\t9.4\t289.93\t8.13\n",
    "3.70E-02\t125.11\t9.59\t309.25\t8.54\n",
    "3.70E-02\t125.14\t9.59\t309.32\t8.54\n",
    "4.27E-02\t132.13\t9.66\t317.89\t8.77\n",
    "4.26E-02\t132.05\t9.66\t317.72\t8.77\n",
    "4.82E-02\t123.23\t9.91\t338.6\t9.2\n",
    "4.83E-02\t123.01\t9.91\t338.92\t9.2\n",
    "5.40E-02\t130.04\t9.98\t352.55\t9.42\n",
    "5.39E-02\t129.92\t9.98\t352.27\t9.41\n",
    "5.95E-02\t135.24\t10.32\t360.58\t9.86\n",
    "5.97E-02\t135.36\t10.32\t360.86\t9.87\n",
    "6.50E-02\t136.37\t10.55\t364.95\t10.33\n",
    "6.51E-02\t136.48\t10.55\t365.2\t10.34\n",
    "7.07E-02\t137.74\t10.77\t396.65\t10.68\n",
    "7.06E-02\t137.7\t10.77\t396.57\t10.68\n",
    "7.62E-02\t133.32\t10.98\t412.03\t11.14\n",
    "7.62E-02\t133.37\t10.98\t412.15\t11.14\n",
    "8.16E-02\t148.61\t11.18\t418.87\t11.58\n",
    "8.17E-02\t148.77\t11.19\t419.22\t11.59\n",
    "8.72E-02\t157.22\t11.45\t430.98\t12\n",
    "8.71E-02\t157.31\t11.45\t430.69\t11.99\n",
    "1.59E-01\t261.75\t17.37\t826.43\t23.87\n",
    "1.59E-01\t262.45\t17.39\t827.92\t23.91\n",
    "2.34E-01\t363.93\t24.77\t768.41\t25.19\n",
    "2.34E-01\t364.99\t24.79\t769.06\t25.19\n",
    "3.25E-01\t440.35\t31.57\t764.8\t27.2\n",
    "3.25E-01\t440.35\t31.57\t764.8\t27.2\"\"\"\n",
    "\n",
    "d  = dat.split('\\n')\n",
    "\n",
    "if n_line_fref!=len(d):\n",
    "    print 'Line in fref differs from what is in PF X-ray results'\n",
    "\n",
    "print '# of data lines:', len(d)\n",
    "fo = open(filename,'w')\n",
    "fo.write(('%11s '+'%7s '*4+'%10s '*4+'\\n')%('E_ref','Sxx','Sxx_e','Syy','Syy_e','Exx','Eyy','Exx_e','Eyy_e'))\n",
    "for i in xrange(len(d)):\n",
    "    l = d[i]\n",
    "    dd=l.split()\n",
    "    dd=map(float,dd)\n",
    "    df=dat_fref[:,i]\n",
    "    fo.write(('%11.5e '+'%7.2f '*4+'%+9.3e '*4+'\\n')%(dd[0],dd[1],dd[2],dd[3],dd[4],df[0],df[1],df[5],df[6]))\n",
    "print os.popen('head -n 5 %s'%fo.name).read()\n",
    "print ' ... '\n",
    "print os.popen('tail -n 2 %s'%fo.name).read()\n",
    "\n",
    "print fo.name, 'has been created ...'"
   ]
  }
 ],
 "metadata": {
  "kernelspec": {
   "display_name": "Python 2",
   "language": "python",
   "name": "python2"
  },
  "language_info": {
   "codemirror_mode": {
    "name": "ipython",
    "version": 2
   },
   "file_extension": ".py",
   "mimetype": "text/x-python",
   "name": "python",
   "nbconvert_exporter": "python",
   "pygments_lexer": "ipython2",
   "version": "2.7.10"
  }
 },
 "nbformat": 4,
 "nbformat_minor": 0
}
