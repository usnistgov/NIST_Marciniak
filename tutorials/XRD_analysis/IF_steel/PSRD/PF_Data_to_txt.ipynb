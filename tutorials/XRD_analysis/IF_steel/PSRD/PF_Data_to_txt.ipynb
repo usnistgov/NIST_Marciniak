{
 "cells": [
  {
   "cell_type": "code",
   "execution_count": 1,
   "metadata": {
    "collapsed": false
   },
   "outputs": [
    {
     "name": "stdout",
     "output_type": "stream",
     "text": [
      "Populating the interactive namespace from numpy and matplotlib\n"
     ]
    }
   ],
   "source": [
    "import os\n",
    "%pylab inline"
   ]
  },
  {
   "cell_type": "markdown",
   "metadata": {},
   "source": [
    "- 20120713"
   ]
  },
  {
   "cell_type": "code",
   "execution_count": 3,
   "metadata": {
    "collapsed": false
   },
   "outputs": [
    {
     "name": "stdout",
     "output_type": "stream",
     "text": [
      "# of data lines: 36\n",
      "      E_ref     Sxx   Sxx_e     Syy   Syy_e        Exx        Eyy      Exx_e      Eyy_e \n",
      "2.50000e-04  109.50    8.36  -28.39    6.79 +2.498e-04 -1.907e-03 +2.474e-03 +1.541e-03 \n",
      "9.33000e-03  259.45    8.90  127.07    7.12 +9.335e-03 -1.943e-03 +2.471e-03 +1.723e-03 \n",
      "9.16000e-03  259.30    8.89  127.00    7.11 +9.164e-03 -1.746e-03 +3.042e-03 +1.564e-03 \n",
      "1.53000e-02  259.48    9.13  145.45    7.31 +1.525e-02 -2.065e-03 +2.884e-03 +1.507e-03 \n",
      "\n",
      " ... \n",
      "3.77000e-01  528.57   12.89  364.94   30.37 +3.770e-01 -3.431e-02 +6.708e-02 +5.484e-03 \n",
      "3.79000e-01  528.57   12.89  364.94   30.37 +3.787e-01 -3.441e-02 +7.006e-02 +5.567e-03 \n",
      "\n",
      "/Users/yj/Documents/ExpDat/IFSteel/Marciniak-X-ray-IF/PS/20120713/PF_raw_dat.txt has been created ...\n"
     ]
    }
   ],
   "source": [
    "date     = '20120713'\n",
    "\n",
    "\n",
    "path2exp = '/Users/yj/Documents/ExpDat/IFSteel/Marciniak-X-ray-IF/PS'\n",
    "filename = os.path.join(path2exp,date,'PF_raw_dat.txt')\n",
    "fn_fref = os.path.join('/Users/yj/Documents','ExpDat/IFSteel/Marciniak-X-ray-IF/PS',date,'f_fref.txt')\n",
    "dat_fref = np.loadtxt(fn_fref,skiprows=2,dtype='str').T\n",
    "dat_fref = np.array(dat_fref[1::],dtype='float')\n",
    "n_line_fref = dat_fref.shape[-1]\n",
    "\n",
    "dat=\"\"\"2.50E-04\t109.5\t8.36\t-28.39\t6.79\n",
    "9.33E-03\t259.45\t8.9\t127.07\t7.12\n",
    "9.16E-03\t259.3\t8.89\t127\t7.11\n",
    "1.53E-02\t259.48\t9.13\t145.45\t7.31\n",
    "1.53E-02\t259.52\t9.13\t145.47\t7.32\n",
    "2.14E-02\t288.32\t9.25\t141.61\t7.53\n",
    "2.12E-02\t288.19\t9.24\t141.51\t7.53\n",
    "2.73E-02\t298.23\t9.55\t141.36\t7.74\n",
    "2.73E-02\t298.21\t9.55\t141.34\t7.74\n",
    "3.30E-02\t301.46\t9.76\t140.71\t7.95\n",
    "3.30E-02\t301.46\t9.76\t140.94\t7.95\n",
    "3.87E-02\t303.79\t10.01\t154.17\t8.24\n",
    "3.88E-02\t303.85\t10.01\t154.22\t8.25\n",
    "4.43E-02\t318.89\t10.19\t159.82\t8.4\n",
    "4.47E-02\t319.42\t10.2\t160.1\t8.41\n",
    "5.05E-02\t339.58\t10.57\t168.53\t8.73\n",
    "5.07E-02\t340.07\t10.58\t168.89\t8.74\n",
    "5.59E-02\t325.99\t10.82\t178.53\t9.07\n",
    "5.62E-02\t326.46\t10.83\t178.75\t9.08\n",
    "6.18E-02\t349.72\t11.05\t176.62\t9.36\n",
    "6.19E-02\t349.86\t11.06\t176.73\t9.37\n",
    "6.76E-02\t369.33\t11.19\t178.35\t9.64\n",
    "7.39E-02\t390.57\t11.42\t204.15\t9.78\n",
    "7.37E-02\t390.25\t11.41\t203.91\t9.77\n",
    "7.97E-02\t395.36\t11.86\t201.31\t10.33\n",
    "7.99E-02\t395.58\t11.86\t201.49\t10.34\n",
    "8.51E-02\t424.63\t12.22\t221.67\t10.6\n",
    "8.53E-02\t425.09\t12.24\t222.09\t10.62\n",
    "9.07E-02\t437.01\t12.7\t231.28\t11.12\n",
    "9.07E-02\t436.83\t12.7\t231.3\t11.12\n",
    "1.66E-01\t699.5\t21.61\t461.41\t20.93\n",
    "1.66E-01\t699.91\t21.61\t461.88\t20.93\n",
    "2.48E-01\t567.54\t14.28\t329.57\t22.86\n",
    "2.49E-01\t567.01\t14.26\t329.04\t22.88\n",
    "3.77E-01\t528.57\t12.89\t364.94\t30.37\n",
    "3.79E-01\t528.57\t12.89\t364.94\t30.37\"\"\"\n",
    "\n",
    "d  = dat.split('\\n')\n",
    "\n",
    "if n_line_fref!=len(d):\n",
    "    print 'Line in fref differs from what is in PF X-ray results'\n",
    "\n",
    "print '# of data lines:', len(d)\n",
    "fo = open(filename,'w')\n",
    "fo.write(('%11s '+'%7s '*4+'%10s '*4+'\\n')%('E_ref','Sxx','Sxx_e','Syy','Syy_e','Exx','Eyy','Exx_e','Eyy_e'))\n",
    "for i in xrange(len(d)):\n",
    "    l = d[i]\n",
    "    dd=l.split()\n",
    "    dd=map(float,dd)\n",
    "    df=dat_fref[:,i]\n",
    "    fo.write(('%11.5e '+'%7.2f '*4+'%+9.3e '*4+'\\n')%(dd[0],dd[1],dd[2],dd[3],dd[4],df[0],df[1],df[5],df[6]))\n",
    "print os.popen('head -n 5 %s'%fo.name).read()\n",
    "print ' ... '\n",
    "print os.popen('tail -n 2 %s'%fo.name).read()\n",
    "\n",
    "print fo.name, 'has been created ...'"
   ]
  }
 ],
 "metadata": {
  "kernelspec": {
   "display_name": "Python 2",
   "language": "python",
   "name": "python2"
  },
  "language_info": {
   "codemirror_mode": {
    "name": "ipython",
    "version": 2
   },
   "file_extension": ".py",
   "mimetype": "text/x-python",
   "name": "python",
   "nbconvert_exporter": "python",
   "pygments_lexer": "ipython2",
   "version": "2.7.10"
  }
 },
 "nbformat": 4,
 "nbformat_minor": 0
}
